{
  "nbformat": 4,
  "nbformat_minor": 0,
  "metadata": {
    "colab": {
      "provenance": []
    },
    "kernelspec": {
      "name": "python3",
      "display_name": "Python 3"
    },
    "language_info": {
      "name": "python"
    }
  },
  "cells": [
    {
      "cell_type": "markdown",
      "source": [
        "# Doing Astrophysics using Python\n",
        "\n",
        "- \"Doing Astrophysics using Python\"\n",
        "  - Instructor: Kinoshita Daisuke\n",
        "  - Classroom: S4-202\n",
        "  - Time: from 13:00 to 15:50 on Wednesday\n",
        "  - Semester: 1st semester of academic year 2025\n",
        "    - from September 2025 to December 2025\n",
        "  - Course web page: https://s3b.astro.ncu.edu.tw/appy_202509/\n",
        "  - GitHub repository: https://github.com/kinoshitadaisuke/ncu_doing_astrophysics_using_python_202509\n"
      ],
      "metadata": {
        "id": "gGzI83b9PmnI"
      }
    },
    {
      "cell_type": "markdown",
      "source": [
        "# Session 03: \"Using Numpy for calculations\"\n",
        "\n",
        "## 17 September 2025\n",
        "\n",
        "## Instructor: Kinoshita Daisuke"
      ],
      "metadata": {
        "id": "Q7MvlbrC_tne"
      }
    },
    {
      "cell_type": "markdown",
      "source": [
        "# Your name"
      ],
      "metadata": {
        "id": "1i7LDa-jfRGO"
      }
    },
    {
      "cell_type": "code",
      "source": [
        "# Run this cell to enter your name.\n",
        "\n",
        "# getting your name and student ID\n",
        "my_name = input (\"What is your name? \")\n",
        "my_id = input (\"What is your student ID? \")\n",
        "\n",
        "# printing your name and student ID\n",
        "print (f'')\n",
        "print (f'Name: {my_name}')\n",
        "print (f\"Student ID: {my_id}\")\n",
        "print (f'')\n",
        "\n",
        "# importing datetime module\n",
        "import datetime\n",
        "\n",
        "# getting current datetime\n",
        "now = datetime.datetime.now ()\n",
        "\n",
        "# printing curent date/time\n",
        "print (f'date/time = {now} (UT)')\n",
        "\n",
        "# importing random module\n",
        "import random\n",
        "\n",
        "# generating a random number\n",
        "n = random.randint (0, 1000000)\n",
        "print (f\"{n}\")\n",
        "\n",
        "# printing name of operating system\n",
        "import sys\n",
        "import os\n",
        "print (f'system platoform = {sys.platform}')\n",
        "print (f'operating system = {os.uname ().sysname} {os.uname ().nodename} {os.uname ().release} {os.uname ().version} {os.uname ().machine}')"
      ],
      "metadata": {
        "id": "YwfYDKEaRoP9"
      },
      "execution_count": null,
      "outputs": []
    },
    {
      "cell_type": "markdown",
      "source": [
        "# 0. Installation of Python interpreter"
      ],
      "metadata": {
        "id": "T_y7rto6Q5P8"
      }
    },
    {
      "cell_type": "code",
      "source": [
        "# Run this cell to install Python 3.13\n",
        "\n",
        "!apt update\n",
        "!apt upgrade\n",
        "!apt install python3.13 python3.13-dev python3.13-full libpython3.13-dev\n",
        "!update-alternatives --install /usr/bin/python3 python3 /usr/bin/python3.13 1\n",
        "!wget https://bootstrap.pypa.io/get-pip.py\n",
        "!python3.13 get-pip.py"
      ],
      "metadata": {
        "id": "MzmVLkC8QyGZ"
      },
      "execution_count": null,
      "outputs": []
    },
    {
      "cell_type": "code",
      "source": [
        "# Run this cell to check the version of Python interpreter and pip command\n",
        "\n",
        "!python3.13 --version\n",
        "!pip --version"
      ],
      "metadata": {
        "id": "Vx-JYTyp3NMU"
      },
      "execution_count": null,
      "outputs": []
    },
    {
      "cell_type": "code",
      "source": [
        "# Run this cell to install external Python modules necessary for this session.\n",
        "\n",
        "!pip install numpy"
      ],
      "metadata": {
        "id": "tuHWEXqxOQV-"
      },
      "execution_count": null,
      "outputs": []
    },
    {
      "cell_type": "markdown",
      "source": [
        "# 1. Downloading a set of sample Python scripts for this course"
      ],
      "metadata": {
        "id": "zvKZRFoF8A8k"
      }
    },
    {
      "cell_type": "code",
      "source": [
        "# Run this cell to download a set of sample Python scripts for this course.\n",
        "\n",
        "!git clone https://github.com/kinoshitadaisuke/ncu_doing_astrophysics_using_python_202509.git"
      ],
      "metadata": {
        "id": "itsUqwak4-z4"
      },
      "execution_count": null,
      "outputs": []
    },
    {
      "cell_type": "code",
      "source": [
        "# Run this cell to move to the directory for this session.\n",
        "\n",
        "%cd ncu_doing_astrophysics_using_python_202509/s03"
      ],
      "metadata": {
        "id": "bREyxIP08RZG"
      },
      "execution_count": null,
      "outputs": []
    },
    {
      "cell_type": "code",
      "source": [
        "# Run this cell to show a list of files for this session.\n",
        "\n",
        "!ls -lF"
      ],
      "metadata": {
        "id": "fKxQ_X-D8dRN"
      },
      "execution_count": null,
      "outputs": []
    },
    {
      "cell_type": "markdown",
      "source": [
        "# 2. About Numpy\n",
        "\n",
        "Visit the official website of Numpy and read the documentation.\n",
        "\n",
        "- https://numpy.org/\n",
        "  - https://numpy.org/doc/stable/\n",
        "    - https://numpy.org/doc/stable/user/absolute_beginners.html\n",
        "    - https://numpy.org/doc/stable/user/index.html#user\n",
        "    - https://numpy.org/doc/stable/reference/index.html#reference"
      ],
      "metadata": {
        "id": "MSgPMUsvQQI6"
      }
    },
    {
      "cell_type": "markdown",
      "source": [
        "# 3. Making and using Numpy arrays"
      ],
      "metadata": {
        "id": "7Bo3dekfN897"
      }
    },
    {
      "cell_type": "markdown",
      "source": [
        "## 3.1 Making a Numpy array using numpy.array ()"
      ],
      "metadata": {
        "id": "58G10CFhOA3F"
      }
    },
    {
      "cell_type": "code",
      "source": [
        "# Run this cell to show the source code of the script.\n",
        "\n",
        "!cat appy_s03_00_00.py"
      ],
      "metadata": {
        "id": "sTq9KT3CN_Iq"
      },
      "execution_count": null,
      "outputs": []
    },
    {
      "cell_type": "code",
      "source": [
        "# Run this cell to execute the script.\n",
        "\n",
        "!python3.13 appy_s03_00_00.py"
      ],
      "metadata": {
        "id": "MxzAcmJEOIjn"
      },
      "execution_count": null,
      "outputs": []
    },
    {
      "cell_type": "code",
      "source": [
        "# Run this cell to show the source code of the script.\n",
        "\n",
        "!cat appy_s03_00_01.py"
      ],
      "metadata": {
        "id": "YF3viVjLOfIh"
      },
      "execution_count": null,
      "outputs": []
    },
    {
      "cell_type": "code",
      "source": [
        "# Run this cell to execute the script.\n",
        "\n",
        "!python3.13 appy_s03_00_01.py"
      ],
      "metadata": {
        "id": "qBus0zAoOfIi"
      },
      "execution_count": null,
      "outputs": []
    },
    {
      "cell_type": "code",
      "source": [
        "# Run this cell to show the source code of the script.\n",
        "\n",
        "!cat appy_s03_00_02.py"
      ],
      "metadata": {
        "id": "9FxaUIEzOlM4"
      },
      "execution_count": null,
      "outputs": []
    },
    {
      "cell_type": "code",
      "source": [
        "# Run this cell to execute the script.\n",
        "\n",
        "!python3.13 appy_s03_00_02.py"
      ],
      "metadata": {
        "id": "ZmS_CrtTOlM5"
      },
      "execution_count": null,
      "outputs": []
    },
    {
      "cell_type": "markdown",
      "source": [
        "## 3.2 Printing information of a Numpy array"
      ],
      "metadata": {
        "id": "TWHicJOcPCJz"
      }
    },
    {
      "cell_type": "code",
      "source": [
        "# Run this cell to show the source code of the script.\n",
        "\n",
        "!cat appy_s03_01_00.py"
      ],
      "metadata": {
        "id": "9ynAWoRmPGqi"
      },
      "execution_count": null,
      "outputs": []
    },
    {
      "cell_type": "code",
      "source": [
        "# Run this cell to execute the script.\n",
        "\n",
        "!python3.13 appy_s03_01_00.py"
      ],
      "metadata": {
        "id": "kuP6YLZWPGqi"
      },
      "execution_count": null,
      "outputs": []
    },
    {
      "cell_type": "code",
      "source": [
        "# Run this cell to show the source code of the script.\n",
        "\n",
        "!cat appy_s03_01_01.py"
      ],
      "metadata": {
        "id": "WavDVFd0PO3I"
      },
      "execution_count": null,
      "outputs": []
    },
    {
      "cell_type": "code",
      "source": [
        "# Run this cell to execute the script.\n",
        "\n",
        "!python3.13 appy_s03_01_01.py"
      ],
      "metadata": {
        "id": "8lGsQsyYPO3I"
      },
      "execution_count": null,
      "outputs": []
    },
    {
      "cell_type": "code",
      "source": [
        "# Run this cell to show the source code of the script.\n",
        "\n",
        "!cat appy_s03_01_02.py"
      ],
      "metadata": {
        "id": "ES55qPaHPYlF"
      },
      "execution_count": null,
      "outputs": []
    },
    {
      "cell_type": "code",
      "source": [
        "# Run this cell to execute the script.\n",
        "\n",
        "!python3.13 appy_s03_01_02.py"
      ],
      "metadata": {
        "id": "TzQ0GaEcPYlG"
      },
      "execution_count": null,
      "outputs": []
    },
    {
      "cell_type": "code",
      "source": [
        "# Run this cell to show the source code of the script.\n",
        "\n",
        "!cat appy_s03_01_03.py"
      ],
      "metadata": {
        "id": "snROfuVlPpYx"
      },
      "execution_count": null,
      "outputs": []
    },
    {
      "cell_type": "code",
      "source": [
        "# Run this cell to execute the script.\n",
        "\n",
        "!python3.13 appy_s03_01_03.py"
      ],
      "metadata": {
        "id": "V3OiC4eZPpYy"
      },
      "execution_count": null,
      "outputs": []
    },
    {
      "cell_type": "markdown",
      "source": [
        "# 4. Making a Numpy array of specified data type"
      ],
      "metadata": {
        "id": "GopM_9PnPwOg"
      }
    },
    {
      "cell_type": "markdown",
      "source": [
        "## 4.1 Making a Numpy array of 8-bit signed integers"
      ],
      "metadata": {
        "id": "AX8F6GkuP8xV"
      }
    },
    {
      "cell_type": "code",
      "source": [
        "# Run this cell to show the source code of the script.\n",
        "\n",
        "!cat appy_s03_02_00.py"
      ],
      "metadata": {
        "id": "a032vnGkQByN"
      },
      "execution_count": null,
      "outputs": []
    },
    {
      "cell_type": "code",
      "source": [
        "# Run this cell to execute the script.\n",
        "\n",
        "!python3.13 appy_s03_02_00.py"
      ],
      "metadata": {
        "id": "IUBGhjt9QByN"
      },
      "execution_count": null,
      "outputs": []
    },
    {
      "cell_type": "code",
      "source": [
        "# Run this cell to show the source code of the script.\n",
        "\n",
        "!cat appy_s03_02_01.py"
      ],
      "metadata": {
        "id": "ti9audb6QGIe"
      },
      "execution_count": null,
      "outputs": []
    },
    {
      "cell_type": "code",
      "source": [
        "# Run this cell to execute the script.\n",
        "\n",
        "!python3.13 appy_s03_02_01.py"
      ],
      "metadata": {
        "id": "EmNdCDhyQGIf"
      },
      "execution_count": null,
      "outputs": []
    },
    {
      "cell_type": "code",
      "source": [
        "# Run this cell to show the source code of the script.\n",
        "\n",
        "!cat appy_s03_02_02.py"
      ],
      "metadata": {
        "id": "BPgcicw0QJix"
      },
      "execution_count": null,
      "outputs": []
    },
    {
      "cell_type": "code",
      "source": [
        "# Run this cell to execute the script.\n",
        "\n",
        "!python3.13 appy_s03_02_02.py"
      ],
      "metadata": {
        "id": "CpeU3U7kQJix"
      },
      "execution_count": null,
      "outputs": []
    },
    {
      "cell_type": "code",
      "source": [
        "# Run this cell to show the source code of the script.\n",
        "\n",
        "!cat appy_s03_02_03.py"
      ],
      "metadata": {
        "id": "ZpYLhtBqQMX2"
      },
      "execution_count": null,
      "outputs": []
    },
    {
      "cell_type": "code",
      "source": [
        "# Run this cell to execute the script.\n",
        "\n",
        "!python3.13 appy_s03_02_03.py"
      ],
      "metadata": {
        "id": "PojI8O3WQMX6"
      },
      "execution_count": null,
      "outputs": []
    },
    {
      "cell_type": "code",
      "source": [
        "# Run this cell to show the source code of the script.\n",
        "\n",
        "!cat appy_s03_02_04.py"
      ],
      "metadata": {
        "id": "9onYy33FRke6"
      },
      "execution_count": null,
      "outputs": []
    },
    {
      "cell_type": "code",
      "source": [
        "# Run this cell to execute the script.\n",
        "\n",
        "!python3.13 appy_s03_02_04.py"
      ],
      "metadata": {
        "id": "V3k71-o7Rke7"
      },
      "execution_count": null,
      "outputs": []
    },
    {
      "cell_type": "markdown",
      "source": [
        "## 4.2 Making a Numpy array of 16-bit unsigned integers"
      ],
      "metadata": {
        "id": "8RJortbsRu6i"
      }
    },
    {
      "cell_type": "code",
      "source": [
        "# Run this cell to show the source code of the script.\n",
        "\n",
        "!cat appy_s03_02_05.py"
      ],
      "metadata": {
        "id": "u1HY0PSlRzQK"
      },
      "execution_count": null,
      "outputs": []
    },
    {
      "cell_type": "code",
      "source": [
        "# Run this cell to execute the script.\n",
        "\n",
        "!python3.13 appy_s03_02_05.py"
      ],
      "metadata": {
        "id": "iHUxiu15RzQL"
      },
      "execution_count": null,
      "outputs": []
    },
    {
      "cell_type": "code",
      "source": [
        "# Run this cell to show the source code of the script.\n",
        "\n",
        "!cat appy_s03_02_06.py"
      ],
      "metadata": {
        "id": "PMQvgjd8R3d3"
      },
      "execution_count": null,
      "outputs": []
    },
    {
      "cell_type": "code",
      "source": [
        "# Run this cell to execute the script.\n",
        "\n",
        "!python3.13 appy_s03_02_06.py"
      ],
      "metadata": {
        "id": "bw6np1tJR3d4"
      },
      "execution_count": null,
      "outputs": []
    },
    {
      "cell_type": "code",
      "source": [
        "# Run this cell to show the source code of the script.\n",
        "\n",
        "!cat appy_s03_02_07.py"
      ],
      "metadata": {
        "id": "vNgRhMv3R62F"
      },
      "execution_count": null,
      "outputs": []
    },
    {
      "cell_type": "code",
      "source": [
        "# Run this cell to execute the script.\n",
        "\n",
        "!python3.13 appy_s03_02_07.py"
      ],
      "metadata": {
        "id": "C94yo9wWR62F"
      },
      "execution_count": null,
      "outputs": []
    },
    {
      "cell_type": "code",
      "source": [
        "# Run this cell to show the source code of the script.\n",
        "\n",
        "!cat appy_s03_02_08.py"
      ],
      "metadata": {
        "id": "2EmncRl8R98-"
      },
      "execution_count": null,
      "outputs": []
    },
    {
      "cell_type": "code",
      "source": [
        "# Run this cell to execute the script.\n",
        "\n",
        "!python3.13 appy_s03_02_08.py"
      ],
      "metadata": {
        "id": "r9zyQiEqR98-"
      },
      "execution_count": null,
      "outputs": []
    },
    {
      "cell_type": "markdown",
      "source": [
        "## 4.3 Making a Numpy array of 32-bit floating point numbers"
      ],
      "metadata": {
        "id": "QeoRLZarSBDX"
      }
    },
    {
      "cell_type": "code",
      "source": [
        "# Run this cell to show the source code of the script.\n",
        "\n",
        "!cat appy_s03_02_09.py"
      ],
      "metadata": {
        "id": "ZNu46oKSSFOn"
      },
      "execution_count": null,
      "outputs": []
    },
    {
      "cell_type": "code",
      "source": [
        "# Run this cell to execute the script.\n",
        "\n",
        "!python3.13 appy_s03_02_09.py"
      ],
      "metadata": {
        "id": "DHVqYYqxSFOn"
      },
      "execution_count": null,
      "outputs": []
    },
    {
      "cell_type": "code",
      "source": [
        "# Run this cell to show the source code of the script.\n",
        "\n",
        "!cat appy_s03_02_10.py"
      ],
      "metadata": {
        "id": "JDUhAu-vSIg4"
      },
      "execution_count": null,
      "outputs": []
    },
    {
      "cell_type": "code",
      "source": [
        "# Run this cell to execute the script.\n",
        "\n",
        "!python3.13 appy_s03_02_10.py"
      ],
      "metadata": {
        "id": "Mva1PWmsSIg4"
      },
      "execution_count": null,
      "outputs": []
    },
    {
      "cell_type": "code",
      "source": [
        "# Run this cell to show the source code of the script.\n",
        "\n",
        "!cat appy_s03_02_11.py"
      ],
      "metadata": {
        "id": "Z0N2jsZZSLza"
      },
      "execution_count": null,
      "outputs": []
    },
    {
      "cell_type": "code",
      "source": [
        "# Run this cell to execute the script.\n",
        "\n",
        "!python3.13 appy_s03_02_11.py"
      ],
      "metadata": {
        "id": "SRqYt0SGSLza"
      },
      "execution_count": null,
      "outputs": []
    },
    {
      "cell_type": "code",
      "source": [
        "# Run this cell to show the source code of the script.\n",
        "\n",
        "!cat appy_s03_02_12.py"
      ],
      "metadata": {
        "id": "qsctBYq5SPoc"
      },
      "execution_count": null,
      "outputs": []
    },
    {
      "cell_type": "code",
      "source": [
        "# Run this cell to execute the script.\n",
        "\n",
        "!python3.13 appy_s03_02_12.py"
      ],
      "metadata": {
        "id": "K_IBbVo0SPod"
      },
      "execution_count": null,
      "outputs": []
    },
    {
      "cell_type": "markdown",
      "source": [
        "## 4.4 Making a Numpy array of complex numbers"
      ],
      "metadata": {
        "id": "V2UHlpVdST4X"
      }
    },
    {
      "cell_type": "code",
      "source": [
        "# Run this cell to show the source code of the script.\n",
        "\n",
        "!cat appy_s03_02_13.py"
      ],
      "metadata": {
        "id": "s1ynxbyOSXtM"
      },
      "execution_count": null,
      "outputs": []
    },
    {
      "cell_type": "code",
      "source": [
        "# Run this cell to execute the script.\n",
        "\n",
        "!python3.13 appy_s03_02_13.py"
      ],
      "metadata": {
        "id": "tF1CD4s0SXtM"
      },
      "execution_count": null,
      "outputs": []
    },
    {
      "cell_type": "code",
      "source": [
        "# Run this cell to show the source code of the script.\n",
        "\n",
        "!cat appy_s03_02_14.py"
      ],
      "metadata": {
        "id": "mELelC40SakU"
      },
      "execution_count": null,
      "outputs": []
    },
    {
      "cell_type": "code",
      "source": [
        "# Run this cell to execute the script.\n",
        "\n",
        "!python3.13 appy_s03_02_14.py"
      ],
      "metadata": {
        "id": "hBwiKK97SakV"
      },
      "execution_count": null,
      "outputs": []
    },
    {
      "cell_type": "code",
      "source": [
        "# Run this cell to show the source code of the script.\n",
        "\n",
        "!cat appy_s03_02_15.py"
      ],
      "metadata": {
        "id": "-zLDA59CSdvX"
      },
      "execution_count": null,
      "outputs": []
    },
    {
      "cell_type": "code",
      "source": [
        "# Run this cell to execute the script.\n",
        "\n",
        "!python3.13 appy_s03_02_15.py"
      ],
      "metadata": {
        "id": "PlyHidq1SdvY"
      },
      "execution_count": null,
      "outputs": []
    },
    {
      "cell_type": "code",
      "source": [
        "# Run this cell to show the source code of the script.\n",
        "\n",
        "!cat appy_s03_02_16.py"
      ],
      "metadata": {
        "id": "kafGb-fGShGW"
      },
      "execution_count": null,
      "outputs": []
    },
    {
      "cell_type": "code",
      "source": [
        "# Run this cell to execute the script.\n",
        "\n",
        "!python3.13 appy_s03_02_16.py"
      ],
      "metadata": {
        "id": "rIM_M5P6ShGW"
      },
      "execution_count": null,
      "outputs": []
    },
    {
      "cell_type": "markdown",
      "source": [
        "## 4.5 Making a Numpy array of Unicode strings"
      ],
      "metadata": {
        "id": "9fti4dGvSkvq"
      }
    },
    {
      "cell_type": "code",
      "source": [
        "# Run this cell to show the source code of the script.\n",
        "\n",
        "!cat appy_s03_02_17.py"
      ],
      "metadata": {
        "id": "OVbN8Bi1Sodu"
      },
      "execution_count": null,
      "outputs": []
    },
    {
      "cell_type": "code",
      "source": [
        "# Run this cell to execute the script.\n",
        "\n",
        "!python3.13 appy_s03_02_17.py"
      ],
      "metadata": {
        "id": "ABDMq97dSodv"
      },
      "execution_count": null,
      "outputs": []
    },
    {
      "cell_type": "code",
      "source": [
        "# Run this cell to show the source code of the script.\n",
        "\n",
        "!cat appy_s03_02_18.py"
      ],
      "metadata": {
        "id": "IGfnA6Q4Srad"
      },
      "execution_count": null,
      "outputs": []
    },
    {
      "cell_type": "code",
      "source": [
        "# Run this cell to execute the script.\n",
        "\n",
        "!python3.13 appy_s03_02_18.py"
      ],
      "metadata": {
        "id": "aRa-FLN6Srae"
      },
      "execution_count": null,
      "outputs": []
    },
    {
      "cell_type": "markdown",
      "source": [
        "# 5. Making Numpy arrays using convenient functions"
      ],
      "metadata": {
        "id": "TpS8IF6VSvyB"
      }
    },
    {
      "cell_type": "markdown",
      "source": [
        "## 5.1 Making a Numpy array using \"numpy.zeros ()\""
      ],
      "metadata": {
        "id": "pYqwkcDUSzJX"
      }
    },
    {
      "cell_type": "code",
      "source": [
        "# Run this cell to show the source code of the script.\n",
        "\n",
        "!cat appy_s03_03_00.py"
      ],
      "metadata": {
        "id": "fv171bh5TVs4"
      },
      "execution_count": null,
      "outputs": []
    },
    {
      "cell_type": "code",
      "source": [
        "# Run this cell to execute the script.\n",
        "\n",
        "!python3.13 appy_s03_03_00.py"
      ],
      "metadata": {
        "id": "WmMM5PjHTVs5"
      },
      "execution_count": null,
      "outputs": []
    },
    {
      "cell_type": "code",
      "source": [
        "# Run this cell to show the source code of the script.\n",
        "\n",
        "!cat appy_s03_03_01.py"
      ],
      "metadata": {
        "id": "re_mNmnnTafe"
      },
      "execution_count": null,
      "outputs": []
    },
    {
      "cell_type": "code",
      "source": [
        "# Run this cell to execute the script.\n",
        "\n",
        "!python3.13 appy_s03_03_01.py"
      ],
      "metadata": {
        "id": "VsHKAFYOTaff"
      },
      "execution_count": null,
      "outputs": []
    },
    {
      "cell_type": "code",
      "source": [
        "# Run this cell to show the source code of the script.\n",
        "\n",
        "!cat appy_s03_03_02.py"
      ],
      "metadata": {
        "id": "Ygc9kjioTehD"
      },
      "execution_count": null,
      "outputs": []
    },
    {
      "cell_type": "code",
      "source": [
        "# Run this cell to execute the script.\n",
        "\n",
        "!python3.13 appy_s03_03_02.py"
      ],
      "metadata": {
        "id": "t0sDiKBhTehE"
      },
      "execution_count": null,
      "outputs": []
    },
    {
      "cell_type": "markdown",
      "source": [
        "## 5.2 Making a Numpy array using \"numpy.ones ()\""
      ],
      "metadata": {
        "id": "MSZsu-cSTize"
      }
    },
    {
      "cell_type": "code",
      "source": [
        "# Run this cell to show the source code of the script.\n",
        "\n",
        "!cat appy_s03_03_03.py"
      ],
      "metadata": {
        "id": "aa5FmDPmTqZV"
      },
      "execution_count": null,
      "outputs": []
    },
    {
      "cell_type": "code",
      "source": [
        "# Run this cell to execute the script.\n",
        "\n",
        "!python3.13 appy_s03_03_03.py"
      ],
      "metadata": {
        "id": "FkkVOCAqTqZV"
      },
      "execution_count": null,
      "outputs": []
    },
    {
      "cell_type": "code",
      "source": [
        "# Run this cell to show the source code of the script.\n",
        "\n",
        "!cat appy_s03_03_04.py"
      ],
      "metadata": {
        "id": "KDSte2DjtKOc"
      },
      "execution_count": null,
      "outputs": []
    },
    {
      "cell_type": "code",
      "source": [
        "# Run this cell to execute the script.\n",
        "\n",
        "!python3.13 appy_s03_03_04.py"
      ],
      "metadata": {
        "id": "RLNR2-1XtKOd"
      },
      "execution_count": null,
      "outputs": []
    },
    {
      "cell_type": "code",
      "source": [
        "# Run this cell to show the source code of the script.\n",
        "\n",
        "!cat appy_s03_03_05.py"
      ],
      "metadata": {
        "id": "L3nTjzdwtPDz"
      },
      "execution_count": null,
      "outputs": []
    },
    {
      "cell_type": "code",
      "source": [
        "# Run this cell to execute the script.\n",
        "\n",
        "!python3.13 appy_s03_03_05.py"
      ],
      "metadata": {
        "id": "2V6N8mpvtPD1"
      },
      "execution_count": null,
      "outputs": []
    },
    {
      "cell_type": "markdown",
      "source": [
        "## 5.3 Making a Numpy array using \"numpy.arange ()\""
      ],
      "metadata": {
        "id": "zT81g6iRTu-T"
      }
    },
    {
      "cell_type": "code",
      "source": [
        "# Run this cell to show the source code of the script.\n",
        "\n",
        "!cat appy_s03_03_06.py"
      ],
      "metadata": {
        "id": "fTDW49-LTz74"
      },
      "execution_count": null,
      "outputs": []
    },
    {
      "cell_type": "code",
      "source": [
        "# Run this cell to execute the script.\n",
        "\n",
        "!python3.13 appy_s03_03_06.py"
      ],
      "metadata": {
        "id": "_cbu_Q3JTz75"
      },
      "execution_count": null,
      "outputs": []
    },
    {
      "cell_type": "markdown",
      "source": [
        "## 5.4 Making a Numpy array using \"numpy.linspace ()\""
      ],
      "metadata": {
        "id": "3IG09U8VT3-Z"
      }
    },
    {
      "cell_type": "code",
      "source": [
        "# Run this cell to show the source code of the script.\n",
        "\n",
        "!cat appy_s03_03_07.py"
      ],
      "metadata": {
        "id": "VsG_zFkbT9L1"
      },
      "execution_count": null,
      "outputs": []
    },
    {
      "cell_type": "code",
      "source": [
        "# Run this cell to execute the script.\n",
        "\n",
        "!python3.13 appy_s03_03_07.py"
      ],
      "metadata": {
        "id": "TXUTHcPMT9L1"
      },
      "execution_count": null,
      "outputs": []
    },
    {
      "cell_type": "markdown",
      "source": [
        "## 5.5 Making a Numpy array using \"numpy.logspace ()\""
      ],
      "metadata": {
        "id": "hOrn_MbqUByg"
      }
    },
    {
      "cell_type": "code",
      "source": [
        "# Run this cell to show the source code of the script.\n",
        "\n",
        "!cat appy_s03_03_08.py"
      ],
      "metadata": {
        "id": "cdMO_6WnUByg"
      },
      "execution_count": null,
      "outputs": []
    },
    {
      "cell_type": "code",
      "source": [
        "# Run this cell to execute the script.\n",
        "\n",
        "!python3.13 appy_s03_03_08.py"
      ],
      "metadata": {
        "id": "bBWW_NKmUByg"
      },
      "execution_count": null,
      "outputs": []
    },
    {
      "cell_type": "markdown",
      "source": [
        "# 6. Manipulations of Numpy arrays"
      ],
      "metadata": {
        "id": "_eYIJrsyUIbd"
      }
    },
    {
      "cell_type": "markdown",
      "source": [
        "## 6.1 Appending an element to an existing Numpy array"
      ],
      "metadata": {
        "id": "voGMB4OpUL5f"
      }
    },
    {
      "cell_type": "code",
      "source": [
        "# Run this cell to show the source code of the script.\n",
        "\n",
        "!cat appy_s03_04_00.py"
      ],
      "metadata": {
        "id": "FHviRxSyUQoI"
      },
      "execution_count": null,
      "outputs": []
    },
    {
      "cell_type": "code",
      "source": [
        "# Run this cell to execute the script.\n",
        "\n",
        "!python3.13 appy_s03_04_00.py"
      ],
      "metadata": {
        "id": "HeFfLmQaUQoI"
      },
      "execution_count": null,
      "outputs": []
    },
    {
      "cell_type": "markdown",
      "source": [
        "# 6.2 Concatenating multiple numpy arrays"
      ],
      "metadata": {
        "id": "0JGeBW9hUXBd"
      }
    },
    {
      "cell_type": "code",
      "source": [
        "# Run this cell to show the source code of the script.\n",
        "\n",
        "!cat appy_s03_04_01.py"
      ],
      "metadata": {
        "id": "ZtGZgJDRVCbY"
      },
      "execution_count": null,
      "outputs": []
    },
    {
      "cell_type": "code",
      "source": [
        "# Run this cell to execute the script.\n",
        "\n",
        "!python3.13 appy_s03_04_01.py"
      ],
      "metadata": {
        "id": "XEBJP1dfVCbZ"
      },
      "execution_count": null,
      "outputs": []
    },
    {
      "cell_type": "markdown",
      "source": [
        "# 6.3 Flattening of a Numpy array"
      ],
      "metadata": {
        "id": "_c1xtldtuFBe"
      }
    },
    {
      "cell_type": "code",
      "source": [
        "# Run this cell to show the source code of the script.\n",
        "\n",
        "!cat appy_s03_04_02.py"
      ],
      "metadata": {
        "id": "XJWWh4WuuFBf"
      },
      "execution_count": null,
      "outputs": []
    },
    {
      "cell_type": "code",
      "source": [
        "# Run this cell to execute the script.\n",
        "\n",
        "!python3.13 appy_s03_04_02.py"
      ],
      "metadata": {
        "id": "0K3nN-ASuFBi"
      },
      "execution_count": null,
      "outputs": []
    },
    {
      "cell_type": "code",
      "source": [
        "# Run this cell to show the source code of the script.\n",
        "\n",
        "!cat appy_s03_04_03.py"
      ],
      "metadata": {
        "id": "QSocmO_8uQfW"
      },
      "execution_count": null,
      "outputs": []
    },
    {
      "cell_type": "code",
      "source": [
        "# Run this cell to execute the script.\n",
        "\n",
        "!python3.13 appy_s03_04_03.py"
      ],
      "metadata": {
        "id": "1Su2wCjLuQfY"
      },
      "execution_count": null,
      "outputs": []
    },
    {
      "cell_type": "markdown",
      "source": [
        "# 6.4 Making a transposed array"
      ],
      "metadata": {
        "id": "2DV_kIdwuVo_"
      }
    },
    {
      "cell_type": "code",
      "source": [
        "# Run this cell to show the source code of the script.\n",
        "\n",
        "!cat appy_s03_04_04.py"
      ],
      "metadata": {
        "id": "SwsT3HV5uVpA"
      },
      "execution_count": null,
      "outputs": []
    },
    {
      "cell_type": "code",
      "source": [
        "# Run this cell to execute the script.\n",
        "\n",
        "!python3.13 appy_s03_04_04.py"
      ],
      "metadata": {
        "id": "eaou4D7ouVpC"
      },
      "execution_count": null,
      "outputs": []
    },
    {
      "cell_type": "code",
      "source": [
        "# Run this cell to show the source code of the script.\n",
        "\n",
        "!cat appy_s03_04_05.py"
      ],
      "metadata": {
        "id": "moLVUL8kuVpD"
      },
      "execution_count": null,
      "outputs": []
    },
    {
      "cell_type": "code",
      "source": [
        "# Run this cell to execute the script.\n",
        "\n",
        "!python3.13 appy_s03_04_05.py"
      ],
      "metadata": {
        "id": "TykTUAGeuVpF"
      },
      "execution_count": null,
      "outputs": []
    },
    {
      "cell_type": "markdown",
      "source": [
        "# 7. Operations of Numpy arrays"
      ],
      "metadata": {
        "id": "LZVu85x0VMES"
      }
    },
    {
      "cell_type": "markdown",
      "source": [
        "## 7.1 Adding two Numpy arrays"
      ],
      "metadata": {
        "id": "rqqkHnGPVPC9"
      }
    },
    {
      "cell_type": "code",
      "source": [
        "# Run this cell to show the source code of the script.\n",
        "\n",
        "!cat appy_s03_05_00.py"
      ],
      "metadata": {
        "id": "VtivuB-cVTgo"
      },
      "execution_count": null,
      "outputs": []
    },
    {
      "cell_type": "code",
      "source": [
        "# Run this cell to execute the script.\n",
        "\n",
        "!python3.13 appy_s03_05_00.py"
      ],
      "metadata": {
        "id": "KfVKPv7VVTgp"
      },
      "execution_count": null,
      "outputs": []
    },
    {
      "cell_type": "markdown",
      "source": [
        "## 7.2 Subtracting one Numpy array from the other"
      ],
      "metadata": {
        "id": "3Nn8CnhgVYtn"
      }
    },
    {
      "cell_type": "code",
      "source": [
        "# Run this cell to show the source code of the script.\n",
        "\n",
        "!cat appy_s03_05_01.py"
      ],
      "metadata": {
        "id": "upteBm6iVYtn"
      },
      "execution_count": null,
      "outputs": []
    },
    {
      "cell_type": "code",
      "source": [
        "# Run this cell to execute the script.\n",
        "\n",
        "!python3.13 appy_s03_05_01.py"
      ],
      "metadata": {
        "id": "fBh9JvPhVYto"
      },
      "execution_count": null,
      "outputs": []
    },
    {
      "cell_type": "markdown",
      "source": [
        "## 7.3 Multiplication of two Numpy arrays"
      ],
      "metadata": {
        "id": "cs8jkphsVgzz"
      }
    },
    {
      "cell_type": "code",
      "source": [
        "# Run this cell to show the source code of the script.\n",
        "\n",
        "!cat appy_s03_05_02.py"
      ],
      "metadata": {
        "id": "9rv4FimFVgzz"
      },
      "execution_count": null,
      "outputs": []
    },
    {
      "cell_type": "code",
      "source": [
        "# Run this cell to execute the script.\n",
        "\n",
        "!python3.13 appy_s03_05_02.py"
      ],
      "metadata": {
        "id": "bJpXaQe1Vgz0"
      },
      "execution_count": null,
      "outputs": []
    },
    {
      "cell_type": "markdown",
      "source": [
        "## 7.4 Division of one Numpy array by the other"
      ],
      "metadata": {
        "id": "7Sw8ysNxVooM"
      }
    },
    {
      "cell_type": "code",
      "source": [
        "# Run this cell to show the source code of the script.\n",
        "\n",
        "!cat appy_s03_05_03.py"
      ],
      "metadata": {
        "id": "tVn8G481VooN"
      },
      "execution_count": null,
      "outputs": []
    },
    {
      "cell_type": "code",
      "source": [
        "# Run this cell to execute the script.\n",
        "\n",
        "!python3.13 appy_s03_05_03.py"
      ],
      "metadata": {
        "id": "LWwM7-kkVooO"
      },
      "execution_count": null,
      "outputs": []
    },
    {
      "cell_type": "markdown",
      "source": [
        "## 7.5 Square of a Numpy array"
      ],
      "metadata": {
        "id": "pcsFcwmtVu4M"
      }
    },
    {
      "cell_type": "code",
      "source": [
        "# Run this cell to show the source code of the script.\n",
        "\n",
        "!cat appy_s03_05_04.py"
      ],
      "metadata": {
        "id": "hOzm2EKuVu4M"
      },
      "execution_count": null,
      "outputs": []
    },
    {
      "cell_type": "code",
      "source": [
        "# Run this cell to execute the script.\n",
        "\n",
        "!python3.13 appy_s03_05_04.py"
      ],
      "metadata": {
        "id": "XimGMA8YVu4N"
      },
      "execution_count": null,
      "outputs": []
    },
    {
      "cell_type": "markdown",
      "source": [
        "## 7.6 Square-root of a Numpy array"
      ],
      "metadata": {
        "id": "W8jDgjiaV0an"
      }
    },
    {
      "cell_type": "code",
      "source": [
        "# Run this cell to show the source code of the script.\n",
        "\n",
        "!cat appy_s03_05_05.py"
      ],
      "metadata": {
        "id": "n9UOwVzYV0an"
      },
      "execution_count": null,
      "outputs": []
    },
    {
      "cell_type": "code",
      "source": [
        "# Run this cell to execute the script.\n",
        "\n",
        "!python3.13 appy_s03_05_05.py"
      ],
      "metadata": {
        "id": "YP-Kh87UV0ap"
      },
      "execution_count": null,
      "outputs": []
    },
    {
      "cell_type": "markdown",
      "source": [
        "## 7.7 Logarithmic calculation"
      ],
      "metadata": {
        "id": "NDkBLFueV6Tl"
      }
    },
    {
      "cell_type": "code",
      "source": [
        "# Run this cell to show the source code of the script.\n",
        "\n",
        "!cat appy_s03_05_06.py"
      ],
      "metadata": {
        "id": "K_ksFU69V6Tl"
      },
      "execution_count": null,
      "outputs": []
    },
    {
      "cell_type": "code",
      "source": [
        "# Run this cell to execute the script.\n",
        "\n",
        "!python3.13 appy_s03_05_06.py"
      ],
      "metadata": {
        "id": "r2_EAu4UV6Tl"
      },
      "execution_count": null,
      "outputs": []
    },
    {
      "cell_type": "markdown",
      "source": [
        "## 7.8 Trigonometric functions"
      ],
      "metadata": {
        "id": "UJxGlPm1WAuh"
      }
    },
    {
      "cell_type": "code",
      "source": [
        "# Run this cell to show the source code of the script.\n",
        "\n",
        "!cat appy_s03_05_07.py"
      ],
      "metadata": {
        "id": "OYfw9T59WAuh"
      },
      "execution_count": null,
      "outputs": []
    },
    {
      "cell_type": "code",
      "source": [
        "# Run this cell to execute the script.\n",
        "\n",
        "!python3.13 appy_s03_05_07.py"
      ],
      "metadata": {
        "id": "PV1Jt2DbWAui"
      },
      "execution_count": null,
      "outputs": []
    },
    {
      "cell_type": "markdown",
      "source": [
        "## 7.9 Operations of 2-dimensional Numpy arrays"
      ],
      "metadata": {
        "id": "b_O-dRWCWH3t"
      }
    },
    {
      "cell_type": "code",
      "source": [
        "# Run this cell to show the source code of the script.\n",
        "\n",
        "!cat appy_s03_05_08.py"
      ],
      "metadata": {
        "id": "sg2MgKUiWH3t"
      },
      "execution_count": null,
      "outputs": []
    },
    {
      "cell_type": "code",
      "source": [
        "# Run this cell to execute the script.\n",
        "\n",
        "!python3.13 appy_s03_05_08.py"
      ],
      "metadata": {
        "id": "PUcmnhkeWH3u"
      },
      "execution_count": null,
      "outputs": []
    },
    {
      "cell_type": "markdown",
      "source": [
        "## 7.10 Vector calculations"
      ],
      "metadata": {
        "id": "-G6FuWaCWOZa"
      }
    },
    {
      "cell_type": "code",
      "source": [
        "# Run this cell to show the source code of the script.\n",
        "\n",
        "!cat appy_s03_05_09.py"
      ],
      "metadata": {
        "id": "nQoO0U5cWOZb"
      },
      "execution_count": null,
      "outputs": []
    },
    {
      "cell_type": "code",
      "source": [
        "# Run this cell to execute the script.\n",
        "\n",
        "!python3.13 appy_s03_05_09.py"
      ],
      "metadata": {
        "id": "nP7FWHiEWOZb"
      },
      "execution_count": null,
      "outputs": []
    },
    {
      "cell_type": "code",
      "source": [
        "# Run this cell to show the source code of the script.\n",
        "\n",
        "!cat appy_s03_05_10.py"
      ],
      "metadata": {
        "id": "Je5o2YTvWWTj"
      },
      "execution_count": null,
      "outputs": []
    },
    {
      "cell_type": "code",
      "source": [
        "# Run this cell to execute the script.\n",
        "\n",
        "!python3.13 appy_s03_05_10.py"
      ],
      "metadata": {
        "id": "r9Nrh8m-WWTj"
      },
      "execution_count": null,
      "outputs": []
    },
    {
      "cell_type": "markdown",
      "source": [
        "## 7.11 Matrix calculations"
      ],
      "metadata": {
        "id": "RklMG371WbjM"
      }
    },
    {
      "cell_type": "code",
      "source": [
        "# Run this cell to show the source code of the script.\n",
        "\n",
        "!cat appy_s03_05_11.py"
      ],
      "metadata": {
        "id": "RQawgq2fWbjM"
      },
      "execution_count": null,
      "outputs": []
    },
    {
      "cell_type": "code",
      "source": [
        "# Run this cell to execute the script.\n",
        "\n",
        "!python3.13 appy_s03_05_11.py"
      ],
      "metadata": {
        "id": "b1Xh_Tr8WbjN"
      },
      "execution_count": null,
      "outputs": []
    },
    {
      "cell_type": "code",
      "source": [
        "# Run this cell to show the source code of the script.\n",
        "\n",
        "!cat appy_s03_05_12.py"
      ],
      "metadata": {
        "id": "n-0aHonPWjDF"
      },
      "execution_count": null,
      "outputs": []
    },
    {
      "cell_type": "code",
      "source": [
        "# Run this cell to execute the script.\n",
        "\n",
        "!python3.13 appy_s03_05_12.py"
      ],
      "metadata": {
        "id": "A_07k38IWjDF"
      },
      "execution_count": null,
      "outputs": []
    },
    {
      "cell_type": "code",
      "source": [
        "# Run this cell to show the source code of the script.\n",
        "\n",
        "!cat appy_s03_05_13.py"
      ],
      "metadata": {
        "id": "hmonvohqWnaD"
      },
      "execution_count": null,
      "outputs": []
    },
    {
      "cell_type": "code",
      "source": [
        "# Run this cell to execute the script.\n",
        "\n",
        "!python3.13 appy_s03_05_13.py"
      ],
      "metadata": {
        "id": "I6a2syvFWnaE"
      },
      "execution_count": null,
      "outputs": []
    },
    {
      "cell_type": "code",
      "source": [
        "# Run this cell to show the source code of the script.\n",
        "\n",
        "!cat appy_s03_05_14.py"
      ],
      "metadata": {
        "id": "fzTM1lIVWsIp"
      },
      "execution_count": null,
      "outputs": []
    },
    {
      "cell_type": "code",
      "source": [
        "# Run this cell to execute the script.\n",
        "\n",
        "!python3.13 appy_s03_05_14.py"
      ],
      "metadata": {
        "id": "DlvxJ1ocWsIp"
      },
      "execution_count": null,
      "outputs": []
    },
    {
      "cell_type": "code",
      "source": [
        "# Run this cell to show the source code of the script.\n",
        "\n",
        "!cat appy_s03_05_15.py"
      ],
      "metadata": {
        "id": "9mWzuO7sW6DR"
      },
      "execution_count": null,
      "outputs": []
    },
    {
      "cell_type": "code",
      "source": [
        "# Run this cell to execute the script.\n",
        "\n",
        "!python3.13 appy_s03_05_15.py"
      ],
      "metadata": {
        "id": "zBl23z5_W6DS"
      },
      "execution_count": null,
      "outputs": []
    },
    {
      "cell_type": "code",
      "source": [
        "# Run this cell to show the source code of the script.\n",
        "\n",
        "!cat appy_s03_05_16.py"
      ],
      "metadata": {
        "id": "toYVmKX2W_x0"
      },
      "execution_count": null,
      "outputs": []
    },
    {
      "cell_type": "code",
      "source": [
        "# Run this cell to execute the script.\n",
        "\n",
        "!python3.13 appy_s03_05_16.py"
      ],
      "metadata": {
        "id": "7dAs8a6pW_x1"
      },
      "execution_count": null,
      "outputs": []
    },
    {
      "cell_type": "markdown",
      "source": [
        "# 8. Accessing to elements of a Numpy array by indexing and slicing"
      ],
      "metadata": {
        "id": "Twd9vpgnXKF5"
      }
    },
    {
      "cell_type": "markdown",
      "source": [
        "## 8.1 Accessing to elements of a Numpy array by indexing"
      ],
      "metadata": {
        "id": "wcR5yEb7XO3h"
      }
    },
    {
      "cell_type": "code",
      "source": [
        "# Run this cell to show the source code of the script.\n",
        "\n",
        "!cat appy_s03_06_00.py"
      ],
      "metadata": {
        "id": "0q4_18DdXTLZ"
      },
      "execution_count": null,
      "outputs": []
    },
    {
      "cell_type": "code",
      "source": [
        "# Run this cell to execute the script.\n",
        "\n",
        "!python3.13 appy_s03_06_00.py"
      ],
      "metadata": {
        "id": "fMoqQUGzXTLa"
      },
      "execution_count": null,
      "outputs": []
    },
    {
      "cell_type": "code",
      "source": [
        "# Run this cell to show the source code of the script.\n",
        "\n",
        "!cat appy_s03_06_01.py"
      ],
      "metadata": {
        "id": "OcOa9vb5XX5l"
      },
      "execution_count": null,
      "outputs": []
    },
    {
      "cell_type": "code",
      "source": [
        "# Run this cell to execute the script.\n",
        "\n",
        "!python3.13 appy_s03_06_01.py"
      ],
      "metadata": {
        "id": "ddH3x3kHXX5m"
      },
      "execution_count": null,
      "outputs": []
    },
    {
      "cell_type": "markdown",
      "source": [
        "## 8.2 Accessing to elements of a Numpy array by slicing"
      ],
      "metadata": {
        "id": "VZ7kMopEXm08"
      }
    },
    {
      "cell_type": "code",
      "source": [
        "# Run this cell to show the source code of the script.\n",
        "\n",
        "!cat appy_s03_06_02.py"
      ],
      "metadata": {
        "id": "cvqJeJHGXrdq"
      },
      "execution_count": null,
      "outputs": []
    },
    {
      "cell_type": "code",
      "source": [
        "# Run this cell to execute the script.\n",
        "\n",
        "!python3.13 appy_s03_06_02.py"
      ],
      "metadata": {
        "id": "Ph8dnvpTXrdr"
      },
      "execution_count": null,
      "outputs": []
    },
    {
      "cell_type": "code",
      "source": [
        "# Run this cell to show the source code of the script.\n",
        "\n",
        "!cat appy_s03_06_03.py"
      ],
      "metadata": {
        "id": "O-5Y7OPbXusV"
      },
      "execution_count": null,
      "outputs": []
    },
    {
      "cell_type": "code",
      "source": [
        "# Run this cell to execute the script.\n",
        "\n",
        "!python3.13 appy_s03_06_03.py"
      ],
      "metadata": {
        "id": "z_geK5hAXusW"
      },
      "execution_count": null,
      "outputs": []
    },
    {
      "cell_type": "markdown",
      "source": [
        "# 9. Copying a Numpy array"
      ],
      "metadata": {
        "id": "K-a2BEnEXx8E"
      }
    },
    {
      "cell_type": "code",
      "source": [
        "# Run this cell to show the source code of the script.\n",
        "\n",
        "!cat appy_s03_07_00.py"
      ],
      "metadata": {
        "id": "8qKejiJGX1OV"
      },
      "execution_count": null,
      "outputs": []
    },
    {
      "cell_type": "code",
      "source": [
        "# Run this cell to execute the script.\n",
        "\n",
        "!python3.13 appy_s03_07_00.py"
      ],
      "metadata": {
        "id": "Jffn5nsuX1OV"
      },
      "execution_count": null,
      "outputs": []
    },
    {
      "cell_type": "code",
      "source": [
        "# Run this cell to show the source code of the script.\n",
        "\n",
        "!cat appy_s03_07_01.py"
      ],
      "metadata": {
        "id": "A86_jmthX5SU"
      },
      "execution_count": null,
      "outputs": []
    },
    {
      "cell_type": "code",
      "source": [
        "# Run this cell to execute the script.\n",
        "\n",
        "!python3.13 appy_s03_07_01.py"
      ],
      "metadata": {
        "id": "XiiR8i2jX5SV"
      },
      "execution_count": null,
      "outputs": []
    },
    {
      "cell_type": "code",
      "source": [
        "# Run this cell to show the source code of the script.\n",
        "\n",
        "!cat appy_s03_07_02.py"
      ],
      "metadata": {
        "id": "jbelKsDiYAqD"
      },
      "execution_count": null,
      "outputs": []
    },
    {
      "cell_type": "code",
      "source": [
        "# Run this cell to execute the script.\n",
        "\n",
        "!python3.13 appy_s03_07_02.py"
      ],
      "metadata": {
        "id": "KIkuZPzKYAqD"
      },
      "execution_count": null,
      "outputs": []
    },
    {
      "cell_type": "markdown",
      "source": [
        "# 10. Sorting a Numpy array"
      ],
      "metadata": {
        "id": "kVNS9p7cYzAS"
      }
    },
    {
      "cell_type": "markdown",
      "source": [
        "## 10.1 Sorting using function \"numpy.sort ()\""
      ],
      "metadata": {
        "id": "6uDnMDGhZTOm"
      }
    },
    {
      "cell_type": "code",
      "source": [
        "# Run this cell to show the source code of the script.\n",
        "\n",
        "!cat appy_s03_08_00.py"
      ],
      "metadata": {
        "id": "UwGqsFSsZYW6"
      },
      "execution_count": null,
      "outputs": []
    },
    {
      "cell_type": "code",
      "source": [
        "# Run this cell to execute the script.\n",
        "\n",
        "!python3.13 appy_s03_08_00.py"
      ],
      "metadata": {
        "id": "C3Qeq9JpZYW7"
      },
      "execution_count": null,
      "outputs": []
    },
    {
      "cell_type": "code",
      "source": [
        "# Run this cell to show the source code of the script.\n",
        "\n",
        "!cat appy_s03_08_01.py"
      ],
      "metadata": {
        "id": "5RjAGwOdZdMr"
      },
      "execution_count": null,
      "outputs": []
    },
    {
      "cell_type": "code",
      "source": [
        "# Run this cell to execute the script.\n",
        "\n",
        "!python3.13 appy_s03_08_01.py"
      ],
      "metadata": {
        "id": "_5AP2jp6ZdMr"
      },
      "execution_count": null,
      "outputs": []
    },
    {
      "cell_type": "code",
      "source": [
        "# Run this cell to show the source code of the script.\n",
        "\n",
        "!cat appy_s03_08_02.py"
      ],
      "metadata": {
        "id": "l0zTECsoZgTm"
      },
      "execution_count": null,
      "outputs": []
    },
    {
      "cell_type": "code",
      "source": [
        "# Run this cell to execute the script.\n",
        "\n",
        "!python3.13 appy_s03_08_02.py"
      ],
      "metadata": {
        "id": "wWnuzzMWZgTn"
      },
      "execution_count": null,
      "outputs": []
    },
    {
      "cell_type": "code",
      "source": [
        "# Run this cell to show the source code of the script.\n",
        "\n",
        "!cat appy_s03_08_03.py"
      ],
      "metadata": {
        "id": "Xs9R11SCZk6a"
      },
      "execution_count": null,
      "outputs": []
    },
    {
      "cell_type": "code",
      "source": [
        "# Run this cell to execute the script.\n",
        "\n",
        "!python3.13 appy_s03_08_03.py"
      ],
      "metadata": {
        "id": "JYAZRFp7Zk6b"
      },
      "execution_count": null,
      "outputs": []
    },
    {
      "cell_type": "code",
      "source": [
        "# Run this cell to show the source code of the script.\n",
        "\n",
        "!cat appy_s03_08_04.py"
      ],
      "metadata": {
        "id": "0HV7y-54veZ5"
      },
      "execution_count": null,
      "outputs": []
    },
    {
      "cell_type": "code",
      "source": [
        "# Run this cell to execute the script.\n",
        "\n",
        "!python3.13 appy_s03_08_04.py"
      ],
      "metadata": {
        "id": "d4HAlFcdveZ6"
      },
      "execution_count": null,
      "outputs": []
    },
    {
      "cell_type": "markdown",
      "source": [
        "## 10.2 In-place sorting using \".sort ()\" method"
      ],
      "metadata": {
        "id": "bFtAPjRdZoHv"
      }
    },
    {
      "cell_type": "code",
      "source": [
        "# Run this cell to show the source code of the script.\n",
        "\n",
        "!cat appy_s03_08_05.py"
      ],
      "metadata": {
        "id": "oGGkSWdaZs1n"
      },
      "execution_count": null,
      "outputs": []
    },
    {
      "cell_type": "code",
      "source": [
        "# Run this cell to execute the script.\n",
        "\n",
        "!python3.13 appy_s03_08_05.py"
      ],
      "metadata": {
        "id": "DZW-DfVVZs1o"
      },
      "execution_count": null,
      "outputs": []
    },
    {
      "cell_type": "code",
      "source": [
        "# Run this cell to show the source code of the script.\n",
        "\n",
        "!cat appy_s03_08_06.py"
      ],
      "metadata": {
        "id": "rrBnU4M4Zwsd"
      },
      "execution_count": null,
      "outputs": []
    },
    {
      "cell_type": "code",
      "source": [
        "# Run this cell to execute the script.\n",
        "\n",
        "!python3.13 appy_s03_08_06.py"
      ],
      "metadata": {
        "id": "tSqSdRVbZwse"
      },
      "execution_count": null,
      "outputs": []
    },
    {
      "cell_type": "code",
      "source": [
        "# Run this cell to show the source code of the script.\n",
        "\n",
        "!cat appy_s03_08_07.py"
      ],
      "metadata": {
        "id": "RD0kquGLZzvZ"
      },
      "execution_count": null,
      "outputs": []
    },
    {
      "cell_type": "code",
      "source": [
        "# Run this cell to execute the script.\n",
        "\n",
        "!python3.13 appy_s03_08_07.py"
      ],
      "metadata": {
        "id": "u0RHSWp3Zzva"
      },
      "execution_count": null,
      "outputs": []
    },
    {
      "cell_type": "markdown",
      "source": [
        "# 11. Random numbers"
      ],
      "metadata": {
        "id": "WwlfrMKsZ5SD"
      }
    },
    {
      "cell_type": "markdown",
      "source": [
        "## 11.1 Generating one random number of uniform distribution between 0 and 1"
      ],
      "metadata": {
        "id": "3bdZBu1iZ7sL"
      }
    },
    {
      "cell_type": "code",
      "source": [
        "# Run this cell to show the source code of the script.\n",
        "\n",
        "!cat appy_s03_09_00.py"
      ],
      "metadata": {
        "id": "kPiCp_bRaApa"
      },
      "execution_count": null,
      "outputs": []
    },
    {
      "cell_type": "code",
      "source": [
        "# Run this cell to execute the script.\n",
        "\n",
        "!python3.13 appy_s03_09_00.py"
      ],
      "metadata": {
        "id": "1RmqrSNpaApb"
      },
      "execution_count": null,
      "outputs": []
    },
    {
      "cell_type": "code",
      "source": [
        "# Run this cell to show the source code of the script.\n",
        "\n",
        "!cat appy_s03_09_01.py"
      ],
      "metadata": {
        "id": "1hqx9qDEaFyF"
      },
      "execution_count": null,
      "outputs": []
    },
    {
      "cell_type": "code",
      "source": [
        "# Run this cell to execute the script.\n",
        "\n",
        "!python3.13 appy_s03_09_01.py"
      ],
      "metadata": {
        "id": "8RFPgS13aFyF"
      },
      "execution_count": null,
      "outputs": []
    },
    {
      "cell_type": "code",
      "source": [
        "# Run this cell to show the source code of the script.\n",
        "\n",
        "!cat appy_s03_09_02.py"
      ],
      "metadata": {
        "id": "I91sgSVbaIbl"
      },
      "execution_count": null,
      "outputs": []
    },
    {
      "cell_type": "code",
      "source": [
        "# Run this cell to execute the script.\n",
        "\n",
        "!python3.13 appy_s03_09_02.py"
      ],
      "metadata": {
        "id": "QohmukZgaIbn"
      },
      "execution_count": null,
      "outputs": []
    },
    {
      "cell_type": "markdown",
      "source": [
        "## 11.2 Generating 10 random numbers of uniform distribution between 0 and 1"
      ],
      "metadata": {
        "id": "wrDOlWM9aRXb"
      }
    },
    {
      "cell_type": "code",
      "source": [
        "# Run this cell to show the source code of the script.\n",
        "\n",
        "!cat appy_s03_09_03.py"
      ],
      "metadata": {
        "id": "yJY1GrflaWWs"
      },
      "execution_count": null,
      "outputs": []
    },
    {
      "cell_type": "code",
      "source": [
        "# Run this cell to execute the script.\n",
        "\n",
        "!python3.13 appy_s03_09_03.py"
      ],
      "metadata": {
        "id": "H9g-cJliaWWt"
      },
      "execution_count": null,
      "outputs": []
    },
    {
      "cell_type": "markdown",
      "source": [
        "## 11.3 Generating 30 random numbers of uniform distribution between 100 and 200"
      ],
      "metadata": {
        "id": "9YtDBLKBaauD"
      }
    },
    {
      "cell_type": "code",
      "source": [
        "# Run this cell to show the source code of the script.\n",
        "\n",
        "!cat appy_s03_09_04.py"
      ],
      "metadata": {
        "id": "yZx7mgn1aauD"
      },
      "execution_count": null,
      "outputs": []
    },
    {
      "cell_type": "code",
      "source": [
        "# Run this cell to execute the script.\n",
        "\n",
        "!python3.13 appy_s03_09_04.py"
      ],
      "metadata": {
        "id": "bFUDwnQOaauE"
      },
      "execution_count": null,
      "outputs": []
    },
    {
      "cell_type": "markdown",
      "source": [
        "## 11.4 Generating 100 random numbers of Gaussian distribution of mean 100 and standard deviation 10"
      ],
      "metadata": {
        "id": "bYhe6M21aoWx"
      }
    },
    {
      "cell_type": "code",
      "source": [
        "# Run this cell to show the source code of the script.\n",
        "\n",
        "!cat appy_s03_09_05.py"
      ],
      "metadata": {
        "id": "b9I8C-iHaoWy"
      },
      "execution_count": null,
      "outputs": []
    },
    {
      "cell_type": "code",
      "source": [
        "# Run this cell to execute the script.\n",
        "\n",
        "!python3.13 appy_s03_09_05.py"
      ],
      "metadata": {
        "id": "LYnyaIkUaoWy"
      },
      "execution_count": null,
      "outputs": []
    },
    {
      "cell_type": "markdown",
      "source": [
        "# 12. Calculating statistical values"
      ],
      "metadata": {
        "id": "-8n__G5VbDy3"
      }
    },
    {
      "cell_type": "markdown",
      "source": [
        "## 12.1 Mean, median, variance, and standard deviation"
      ],
      "metadata": {
        "id": "bVJwCoqnbHO1"
      }
    },
    {
      "cell_type": "code",
      "source": [
        "# Run this cell to show the source code of the script.\n",
        "\n",
        "!cat appy_s03_10_00.py"
      ],
      "metadata": {
        "id": "qTj6A3bibLny"
      },
      "execution_count": null,
      "outputs": []
    },
    {
      "cell_type": "code",
      "source": [
        "# Run this cell to execute the script.\n",
        "\n",
        "!python3.13 appy_s03_10_00.py"
      ],
      "metadata": {
        "id": "U0TEotifbLnz"
      },
      "execution_count": null,
      "outputs": []
    },
    {
      "cell_type": "code",
      "source": [
        "# Run this cell to show the source code of the script.\n",
        "\n",
        "!cat appy_s03_10_01.py"
      ],
      "metadata": {
        "id": "CzuMloi5bSwY"
      },
      "execution_count": null,
      "outputs": []
    },
    {
      "cell_type": "code",
      "source": [
        "# Run this cell to execute the script.\n",
        "\n",
        "!python3.13 appy_s03_10_01.py"
      ],
      "metadata": {
        "id": "N-hOx7i8bSwY"
      },
      "execution_count": null,
      "outputs": []
    },
    {
      "cell_type": "markdown",
      "source": [
        "## 12.2 Making a histogram"
      ],
      "metadata": {
        "id": "GZBmytmPbbqK"
      }
    },
    {
      "cell_type": "code",
      "source": [
        "# Run this cell to show the source code of the script.\n",
        "\n",
        "!cat appy_s03_10_02.py"
      ],
      "metadata": {
        "id": "6cIqhEhTbfIt"
      },
      "execution_count": null,
      "outputs": []
    },
    {
      "cell_type": "code",
      "source": [
        "# Run this cell to execute the script.\n",
        "\n",
        "!python3.13 appy_s03_10_02.py"
      ],
      "metadata": {
        "id": "u7usMhynbfIt"
      },
      "execution_count": null,
      "outputs": []
    },
    {
      "cell_type": "markdown",
      "source": [
        "## 12.3 Finding maximum and minimum"
      ],
      "metadata": {
        "id": "lhdQcC0Nbj8J"
      }
    },
    {
      "cell_type": "code",
      "source": [
        "# Run this cell to show the source code of the script.\n",
        "\n",
        "!cat appy_s03_10_03.py"
      ],
      "metadata": {
        "id": "cLe_mh_VboYT"
      },
      "execution_count": null,
      "outputs": []
    },
    {
      "cell_type": "code",
      "source": [
        "# Run this cell to execute the script.\n",
        "\n",
        "!python3.13 appy_s03_10_03.py"
      ],
      "metadata": {
        "id": "dQ-HgOrcboYT"
      },
      "execution_count": null,
      "outputs": []
    },
    {
      "cell_type": "markdown",
      "source": [
        "# 13. Masking outliers by masked array"
      ],
      "metadata": {
        "id": "diKDya_0bs-R"
      }
    },
    {
      "cell_type": "markdown",
      "source": [
        "## 13.1 Making and using a masked array"
      ],
      "metadata": {
        "id": "ld1p6jjMbwGe"
      }
    },
    {
      "cell_type": "code",
      "source": [
        "# Run this cell to show the source code of the script.\n",
        "\n",
        "!cat appy_s03_11_00.py"
      ],
      "metadata": {
        "id": "VQtr187Eb0BJ"
      },
      "execution_count": null,
      "outputs": []
    },
    {
      "cell_type": "code",
      "source": [
        "# Run this cell to execute the script.\n",
        "\n",
        "!python3.13 appy_s03_11_00.py"
      ],
      "metadata": {
        "id": "uFFzKIxib0BJ"
      },
      "execution_count": null,
      "outputs": []
    },
    {
      "cell_type": "code",
      "source": [
        "# Run this cell to show the source code of the script.\n",
        "\n",
        "!cat appy_s03_11_01.py"
      ],
      "metadata": {
        "id": "9hqEXmjMb4Nn"
      },
      "execution_count": null,
      "outputs": []
    },
    {
      "cell_type": "code",
      "source": [
        "# Run this cell to execute the script.\n",
        "\n",
        "!python3.13 appy_s03_11_01.py"
      ],
      "metadata": {
        "id": "gIlH-CJdb4No"
      },
      "execution_count": null,
      "outputs": []
    },
    {
      "cell_type": "code",
      "source": [
        "# Run this cell to show the source code of the script.\n",
        "\n",
        "!cat appy_s03_11_02.py"
      ],
      "metadata": {
        "id": "-tZH6eLDb66Y"
      },
      "execution_count": null,
      "outputs": []
    },
    {
      "cell_type": "code",
      "source": [
        "# Run this cell to execute the script.\n",
        "\n",
        "!python3.13 appy_s03_11_02.py"
      ],
      "metadata": {
        "id": "7HRkceqCb66Z"
      },
      "execution_count": null,
      "outputs": []
    },
    {
      "cell_type": "code",
      "source": [
        "# Run this cell to show the source code of the script.\n",
        "\n",
        "!cat appy_s03_11_03.py"
      ],
      "metadata": {
        "id": "N6eA1i2ab-6K"
      },
      "execution_count": null,
      "outputs": []
    },
    {
      "cell_type": "code",
      "source": [
        "# Run this cell to execute the script.\n",
        "\n",
        "!python3.13 appy_s03_11_03.py"
      ],
      "metadata": {
        "id": "wH2Wngcfb-6L"
      },
      "execution_count": null,
      "outputs": []
    },
    {
      "cell_type": "markdown",
      "source": [
        "## 13.2 Making a mask using logic functions"
      ],
      "metadata": {
        "id": "dYZHdau3cjki"
      }
    },
    {
      "cell_type": "markdown",
      "source": [
        "### 13.2.1 Making a mask using \"numpy.greater ()\""
      ],
      "metadata": {
        "id": "PFx2zHIScmTz"
      }
    },
    {
      "cell_type": "code",
      "source": [
        "# Run this cell to show the source code of the script.\n",
        "\n",
        "!cat appy_s03_11_04.py"
      ],
      "metadata": {
        "id": "o0bRLKfOcxwA"
      },
      "execution_count": null,
      "outputs": []
    },
    {
      "cell_type": "code",
      "source": [
        "# Run this cell to execute the script.\n",
        "\n",
        "!python3.13 appy_s03_11_04.py"
      ],
      "metadata": {
        "id": "jpbpnqlNcxwA"
      },
      "execution_count": null,
      "outputs": []
    },
    {
      "cell_type": "code",
      "source": [
        "# Run this cell to show the source code of the script.\n",
        "\n",
        "!cat appy_s03_11_05.py"
      ],
      "metadata": {
        "id": "La3r8QLyc1sC"
      },
      "execution_count": null,
      "outputs": []
    },
    {
      "cell_type": "code",
      "source": [
        "# Run this cell to execute the script.\n",
        "\n",
        "!python3.13 appy_s03_11_05.py"
      ],
      "metadata": {
        "id": "hu-a4selc1sC"
      },
      "execution_count": null,
      "outputs": []
    },
    {
      "cell_type": "markdown",
      "source": [
        "### 13.2.2 Trying a function \"numpy.less ()\""
      ],
      "metadata": {
        "id": "daOm-k-sc5Rl"
      }
    },
    {
      "cell_type": "code",
      "source": [
        "# Run this cell to show the source code of the script.\n",
        "\n",
        "!cat appy_s03_11_06.py"
      ],
      "metadata": {
        "id": "c_UinpRydA9-"
      },
      "execution_count": null,
      "outputs": []
    },
    {
      "cell_type": "code",
      "source": [
        "# Run this cell to execute the script.\n",
        "\n",
        "!python3.13 appy_s03_11_06.py"
      ],
      "metadata": {
        "id": "dfItyyLNdA9-"
      },
      "execution_count": null,
      "outputs": []
    },
    {
      "cell_type": "code",
      "source": [
        "# Run this cell to show the source code of the script.\n",
        "\n",
        "!cat appy_s03_11_07.py"
      ],
      "metadata": {
        "id": "34dWyowydHiq"
      },
      "execution_count": null,
      "outputs": []
    },
    {
      "cell_type": "code",
      "source": [
        "# Run this cell to execute the script.\n",
        "\n",
        "!python3.13 appy_s03_11_07.py"
      ],
      "metadata": {
        "id": "W1tOyroedHir"
      },
      "execution_count": null,
      "outputs": []
    },
    {
      "cell_type": "markdown",
      "source": [
        "### 13.2.3 Using \"numpy.greater_equal ()\" and \"numpy.less_equal ()\""
      ],
      "metadata": {
        "id": "10HVuZ7HdKwN"
      }
    },
    {
      "cell_type": "code",
      "source": [
        "# Run this cell to show the source code of the script.\n",
        "\n",
        "!cat appy_s03_11_08.py"
      ],
      "metadata": {
        "id": "2e-mC0TeddZA"
      },
      "execution_count": null,
      "outputs": []
    },
    {
      "cell_type": "code",
      "source": [
        "# Run this cell to execute the script.\n",
        "\n",
        "!python3.13 appy_s03_11_08.py"
      ],
      "metadata": {
        "id": "-B_pgXLHddZA"
      },
      "execution_count": null,
      "outputs": []
    },
    {
      "cell_type": "code",
      "source": [
        "# Run this cell to show the source code of the script.\n",
        "\n",
        "!cat appy_s03_11_09.py"
      ],
      "metadata": {
        "id": "gdLY85wZdhw1"
      },
      "execution_count": null,
      "outputs": []
    },
    {
      "cell_type": "code",
      "source": [
        "# Run this cell to execute the script.\n",
        "\n",
        "!python3.13 appy_s03_11_09.py"
      ],
      "metadata": {
        "id": "4f8ee4oidhw1"
      },
      "execution_count": null,
      "outputs": []
    },
    {
      "cell_type": "markdown",
      "source": [
        "## 13.3 Making a mask using two conditions"
      ],
      "metadata": {
        "id": "HT8Tt5qgdmLr"
      }
    },
    {
      "cell_type": "code",
      "source": [
        "# Run this cell to show the source code of the script.\n",
        "\n",
        "!cat appy_s03_11_10.py"
      ],
      "metadata": {
        "id": "N6jGvHPZdqHu"
      },
      "execution_count": null,
      "outputs": []
    },
    {
      "cell_type": "code",
      "source": [
        "# Run this cell to execute the script.\n",
        "\n",
        "!python3.13 appy_s03_11_10.py"
      ],
      "metadata": {
        "id": "O4eal-ZLdqHu"
      },
      "execution_count": null,
      "outputs": []
    },
    {
      "cell_type": "code",
      "source": [
        "# Run this cell to show the source code of the script.\n",
        "\n",
        "!cat appy_s03_11_11.py"
      ],
      "metadata": {
        "id": "72kT4HjPds-f"
      },
      "execution_count": null,
      "outputs": []
    },
    {
      "cell_type": "code",
      "source": [
        "# Run this cell to execute the script.\n",
        "\n",
        "!python3.13 appy_s03_11_11.py"
      ],
      "metadata": {
        "id": "lhzC51cWds-f"
      },
      "execution_count": null,
      "outputs": []
    },
    {
      "cell_type": "code",
      "source": [
        "# Run this cell to show the source code of the script.\n",
        "\n",
        "!cat appy_s03_11_12.py"
      ],
      "metadata": {
        "id": "UvD1y3qGxLt0"
      },
      "execution_count": null,
      "outputs": []
    },
    {
      "cell_type": "code",
      "source": [
        "# Run this cell to execute the script.\n",
        "\n",
        "!python3.13 appy_s03_11_12.py"
      ],
      "metadata": {
        "id": "R-0iev-4xLt4"
      },
      "execution_count": null,
      "outputs": []
    },
    {
      "cell_type": "code",
      "source": [
        "# Run this cell to show the source code of the script.\n",
        "\n",
        "!cat appy_s03_11_13.py"
      ],
      "metadata": {
        "id": "OCGXqfLHxLt9"
      },
      "execution_count": null,
      "outputs": []
    },
    {
      "cell_type": "code",
      "source": [
        "# Run this cell to execute the script.\n",
        "\n",
        "!python3.13 appy_s03_11_13.py"
      ],
      "metadata": {
        "id": "aRJcvFc2xLt-"
      },
      "execution_count": null,
      "outputs": []
    },
    {
      "cell_type": "markdown",
      "source": [
        "# 14. Data I/O"
      ],
      "metadata": {
        "id": "kqS26Dz71gis"
      }
    },
    {
      "cell_type": "markdown",
      "source": [
        "## 14.1 Reading data from a text file"
      ],
      "metadata": {
        "id": "j-UWk4N91i1n"
      }
    },
    {
      "cell_type": "code",
      "source": [
        "# Run this cell to show the source code of the script.\n",
        "\n",
        "!cat appy_s03_12_00.py"
      ],
      "metadata": {
        "id": "8gg7qOzU1mmh"
      },
      "execution_count": null,
      "outputs": []
    },
    {
      "cell_type": "code",
      "source": [
        "# Run this cell to execute the script.\n",
        "\n",
        "!python3.13 appy_s03_12_00.py"
      ],
      "metadata": {
        "id": "9ctkMgi51mmi"
      },
      "execution_count": null,
      "outputs": []
    },
    {
      "cell_type": "code",
      "source": [
        "# Run this cell to find newly downloaded file.\n",
        "\n",
        "!ls -lF *.data"
      ],
      "metadata": {
        "id": "lvG9gxyG2jDy"
      },
      "execution_count": null,
      "outputs": []
    },
    {
      "cell_type": "code",
      "source": [
        "# Run this cell to show the file \"numpy_01.data\".\n",
        "\n",
        "!cat numpy_00.data"
      ],
      "metadata": {
        "id": "DmRGDZmF2jDz"
      },
      "execution_count": null,
      "outputs": []
    },
    {
      "cell_type": "code",
      "source": [
        "# Run this cell to show the source code of the script.\n",
        "\n",
        "!cat appy_s03_12_01.py"
      ],
      "metadata": {
        "id": "OXJvHF7L15Au"
      },
      "execution_count": null,
      "outputs": []
    },
    {
      "cell_type": "code",
      "source": [
        "# Run this cell to execute the script.\n",
        "\n",
        "!python3.13 appy_s03_12_01.py"
      ],
      "metadata": {
        "id": "kEPUfuI015Av"
      },
      "execution_count": null,
      "outputs": []
    },
    {
      "cell_type": "code",
      "source": [
        "# Run this cell to show the source code of the script.\n",
        "\n",
        "!cat appy_s03_12_02.py"
      ],
      "metadata": {
        "id": "1ge7eA_V18c2"
      },
      "execution_count": null,
      "outputs": []
    },
    {
      "cell_type": "code",
      "source": [
        "# Run this cell to execute the script.\n",
        "\n",
        "!python3.13 appy_s03_12_02.py"
      ],
      "metadata": {
        "id": "9qHZ3hlU18c3"
      },
      "execution_count": null,
      "outputs": []
    },
    {
      "cell_type": "code",
      "source": [
        "# Run this cell to show the source code of the script.\n",
        "\n",
        "!cat appy_s03_12_03.py"
      ],
      "metadata": {
        "id": "MfwfajrQ2AS5"
      },
      "execution_count": null,
      "outputs": []
    },
    {
      "cell_type": "code",
      "source": [
        "# Run this cell to execute the script.\n",
        "\n",
        "!python3.13 appy_s03_12_03.py"
      ],
      "metadata": {
        "id": "GWS2hLC02AS6"
      },
      "execution_count": null,
      "outputs": []
    },
    {
      "cell_type": "code",
      "source": [
        "# Run this cell to show the source code of the script.\n",
        "\n",
        "!cat appy_s03_12_04.py"
      ],
      "metadata": {
        "id": "zbq5x-3-2Dbh"
      },
      "execution_count": null,
      "outputs": []
    },
    {
      "cell_type": "code",
      "source": [
        "# Run this cell to execute the script.\n",
        "\n",
        "!python3.13 appy_s03_12_04.py"
      ],
      "metadata": {
        "id": "oPuknq2W2Dbj"
      },
      "execution_count": null,
      "outputs": []
    },
    {
      "cell_type": "code",
      "source": [
        "# Run this cell to show the source code of the script.\n",
        "\n",
        "!cat appy_s03_12_05.py"
      ],
      "metadata": {
        "id": "tSv45WaF2Hx3"
      },
      "execution_count": null,
      "outputs": []
    },
    {
      "cell_type": "code",
      "source": [
        "# Run this cell to execute the script.\n",
        "\n",
        "!python3.13 appy_s03_12_05.py"
      ],
      "metadata": {
        "id": "wEZF4Tvl2Hx5"
      },
      "execution_count": null,
      "outputs": []
    },
    {
      "cell_type": "code",
      "source": [
        "# Run this cell to find newly downloaded file.\n",
        "\n",
        "!ls -lF *.data"
      ],
      "metadata": {
        "id": "0YFvTT8n2Twd"
      },
      "execution_count": null,
      "outputs": []
    },
    {
      "cell_type": "code",
      "source": [
        "# Run this cell to show the file \"numpy_01.data\".\n",
        "\n",
        "!cat numpy_01.data"
      ],
      "metadata": {
        "id": "1tLUK5b22Yuq"
      },
      "execution_count": null,
      "outputs": []
    },
    {
      "cell_type": "code",
      "source": [
        "# Run this cell to show the source code of the script.\n",
        "\n",
        "!cat appy_s03_12_06.py"
      ],
      "metadata": {
        "id": "WR5mGdVo2Ndx"
      },
      "execution_count": null,
      "outputs": []
    },
    {
      "cell_type": "code",
      "source": [
        "# Run this cell to execute the script.\n",
        "\n",
        "!python3.13 appy_s03_12_06.py"
      ],
      "metadata": {
        "id": "-UZZcdnk2Ndy"
      },
      "execution_count": null,
      "outputs": []
    },
    {
      "cell_type": "markdown",
      "source": [
        "## 14.2 Saving a Numpy array into a text file"
      ],
      "metadata": {
        "id": "6F3oJVC32m8K"
      }
    },
    {
      "cell_type": "code",
      "source": [
        "# Run this cell to show the source code of the script.\n",
        "\n",
        "!cat appy_s03_12_07.py"
      ],
      "metadata": {
        "id": "edkzQaaz2rQc"
      },
      "execution_count": null,
      "outputs": []
    },
    {
      "cell_type": "code",
      "source": [
        "# Run this cell to execute the script.\n",
        "\n",
        "!python3.13 appy_s03_12_07.py"
      ],
      "metadata": {
        "id": "wMt_by1C2rQd"
      },
      "execution_count": null,
      "outputs": []
    },
    {
      "cell_type": "code",
      "source": [
        "# Run this cell to show the source code of the script.\n",
        "\n",
        "!cat appy_s03_12_08.py"
      ],
      "metadata": {
        "id": "pT8QtFuE2vGj"
      },
      "execution_count": null,
      "outputs": []
    },
    {
      "cell_type": "code",
      "source": [
        "# Run this cell to execute the script.\n",
        "\n",
        "!python3.13 appy_s03_12_08.py"
      ],
      "metadata": {
        "id": "IyjAj5SI2vGk"
      },
      "execution_count": null,
      "outputs": []
    },
    {
      "cell_type": "markdown",
      "source": [
        "## 14.3 Saving a Numpy array into \"npy\" file"
      ],
      "metadata": {
        "id": "L3rSNjxt2y6R"
      }
    },
    {
      "cell_type": "code",
      "source": [
        "# Run this cell to show the source code of the script.\n",
        "\n",
        "!cat appy_s03_12_09.py"
      ],
      "metadata": {
        "id": "6Xwn6TU3225M"
      },
      "execution_count": null,
      "outputs": []
    },
    {
      "cell_type": "code",
      "source": [
        "# Run this cell to execute the script.\n",
        "\n",
        "!python3.13 appy_s03_12_09.py"
      ],
      "metadata": {
        "id": "Cs7w7vPH225N"
      },
      "execution_count": null,
      "outputs": []
    },
    {
      "cell_type": "code",
      "source": [
        "# Run this cell to find newly created file.\n",
        "\n",
        "!ls -lF numpy_*"
      ],
      "metadata": {
        "id": "gsDF8OLZ27Eh"
      },
      "execution_count": null,
      "outputs": []
    },
    {
      "cell_type": "code",
      "source": [
        "# Run this cell to find file type of \"numpy_03.npy\".\n",
        "\n",
        "!file numpy_03.npy"
      ],
      "metadata": {
        "id": "5IrbAskp3BGm"
      },
      "execution_count": null,
      "outputs": []
    },
    {
      "cell_type": "markdown",
      "source": [
        "## 14.4 Loading a Numpy array from \"npy\" file"
      ],
      "metadata": {
        "id": "XVM4vQb73G3c"
      }
    },
    {
      "cell_type": "code",
      "source": [
        "# Run this cell to show the source code of the script.\n",
        "\n",
        "!cat appy_s03_12_10.py"
      ],
      "metadata": {
        "id": "PoHGdImj3LUO"
      },
      "execution_count": null,
      "outputs": []
    },
    {
      "cell_type": "code",
      "source": [
        "# Run this cell to execute the script.\n",
        "\n",
        "!python3.13 appy_s03_12_10.py"
      ],
      "metadata": {
        "id": "o-zh7tZa3LUP"
      },
      "execution_count": null,
      "outputs": []
    },
    {
      "cell_type": "markdown",
      "source": [
        "## 14.5 Saving multiple Numpy arrays into \"npz\" file"
      ],
      "metadata": {
        "id": "icMR4BOA3Sg0"
      }
    },
    {
      "cell_type": "code",
      "source": [
        "# Run this cell to show the source code of the script.\n",
        "\n",
        "!cat appy_s03_12_11.py"
      ],
      "metadata": {
        "id": "iWcgEU3y3WuD"
      },
      "execution_count": null,
      "outputs": []
    },
    {
      "cell_type": "code",
      "source": [
        "# Run this cell to execute the script.\n",
        "\n",
        "!python3.13 appy_s03_12_11.py"
      ],
      "metadata": {
        "id": "v0UkFZJW3WuD"
      },
      "execution_count": null,
      "outputs": []
    },
    {
      "cell_type": "code",
      "source": [
        "# Run this cell to find newly created file.\n",
        "\n",
        "!ls -lF numpy_*"
      ],
      "metadata": {
        "id": "OJL1Tumc3cDf"
      },
      "execution_count": null,
      "outputs": []
    },
    {
      "cell_type": "code",
      "source": [
        "# Run this cell to find file type of \"numpy_03.npy\".\n",
        "\n",
        "!file numpy_04.npz"
      ],
      "metadata": {
        "id": "4fRO8POq3cDg"
      },
      "execution_count": null,
      "outputs": []
    },
    {
      "cell_type": "code",
      "source": [
        "# Run this cell to check the structure of \"numpy_04.npz\".\n",
        "\n",
        "!unzip -l numpy_04.npz"
      ],
      "metadata": {
        "id": "zsFiOgly3f-K"
      },
      "execution_count": null,
      "outputs": []
    },
    {
      "cell_type": "markdown",
      "source": [
        "## 14.6 Loading multiple Numpy arrays from \"npz\" file"
      ],
      "metadata": {
        "id": "EGJ0fcNF3mvh"
      }
    },
    {
      "cell_type": "code",
      "source": [
        "# Run this cell to show the source code of the script.\n",
        "\n",
        "!cat appy_s03_12_12.py"
      ],
      "metadata": {
        "id": "35wiTppy3seE"
      },
      "execution_count": null,
      "outputs": []
    },
    {
      "cell_type": "code",
      "source": [
        "# Run this cell to execute the script.\n",
        "\n",
        "!python3.13 appy_s03_12_12.py"
      ],
      "metadata": {
        "id": "RABqSEDE3seF"
      },
      "execution_count": null,
      "outputs": []
    },
    {
      "cell_type": "code",
      "source": [
        "# Run this cell to show the source code of the script.\n",
        "\n",
        "!cat appy_s03_12_13.py"
      ],
      "metadata": {
        "id": "8OU-8xNh3v0u"
      },
      "execution_count": null,
      "outputs": []
    },
    {
      "cell_type": "code",
      "source": [
        "# Run this cell to execute the script.\n",
        "\n",
        "!python3.13 appy_s03_12_13.py"
      ],
      "metadata": {
        "id": "mOXg8R0Z3v0v"
      },
      "execution_count": null,
      "outputs": []
    },
    {
      "cell_type": "markdown",
      "source": [
        "## 14.7 Saving multiple Numpy arrays into compressed \"npz\" file"
      ],
      "metadata": {
        "id": "A5Uv7SIe3zvK"
      }
    },
    {
      "cell_type": "code",
      "source": [
        "# Run this cell to show the source code of the script.\n",
        "\n",
        "!cat appy_s03_12_14.py"
      ],
      "metadata": {
        "id": "r4nFhvKn35B-"
      },
      "execution_count": null,
      "outputs": []
    },
    {
      "cell_type": "code",
      "source": [
        "# Run this cell to execute the script.\n",
        "\n",
        "!python3.13 appy_s03_12_14.py"
      ],
      "metadata": {
        "id": "t0t_tJdI35B_"
      },
      "execution_count": null,
      "outputs": []
    },
    {
      "cell_type": "code",
      "source": [
        "# Run this cell to find newly created file.\n",
        "\n",
        "!ls -lF numpy_*"
      ],
      "metadata": {
        "id": "AJRIR6ZC3-yR"
      },
      "execution_count": null,
      "outputs": []
    },
    {
      "cell_type": "code",
      "source": [
        "# Run this cell to find file type of \"numpy_03.npy\".\n",
        "\n",
        "!file numpy_05.npz"
      ],
      "metadata": {
        "id": "4NST4F1K3-yS"
      },
      "execution_count": null,
      "outputs": []
    },
    {
      "cell_type": "code",
      "source": [
        "# Run this cell to check the structure of \"numpy_04.npz\".\n",
        "\n",
        "!unzip -l numpy_05.npz"
      ],
      "metadata": {
        "id": "gKtSyRCX3-yU"
      },
      "execution_count": null,
      "outputs": []
    },
    {
      "cell_type": "markdown",
      "source": [
        "## 14.8 Loading multiple Numpy arrays from compressed \"npz\" file"
      ],
      "metadata": {
        "id": "Is4zQn3b4D_Y"
      }
    },
    {
      "cell_type": "code",
      "source": [
        "# Run this cell to show the source code of the script.\n",
        "\n",
        "!cat appy_s03_12_15.py"
      ],
      "metadata": {
        "id": "VS3uSzVW4LWp"
      },
      "execution_count": null,
      "outputs": []
    },
    {
      "cell_type": "code",
      "source": [
        "# Run this cell to execute the script.\n",
        "\n",
        "!python3.13 appy_s03_12_15.py"
      ],
      "metadata": {
        "id": "uAA6vLUP4LWq"
      },
      "execution_count": null,
      "outputs": []
    },
    {
      "cell_type": "code",
      "source": [
        "# Run this cell to show the source code of the script.\n",
        "\n",
        "!cat appy_s03_12_16.py"
      ],
      "metadata": {
        "id": "G44m1KDI4N8t"
      },
      "execution_count": null,
      "outputs": []
    },
    {
      "cell_type": "code",
      "source": [
        "# Run this cell to execute the script.\n",
        "\n",
        "!python3.13 appy_s03_12_16.py"
      ],
      "metadata": {
        "id": "l_RsUId64N8t"
      },
      "execution_count": null,
      "outputs": []
    },
    {
      "cell_type": "markdown",
      "source": [
        "# Do you find this session useful?"
      ],
      "metadata": {
        "id": "G02-2ZYkbeYc"
      }
    },
    {
      "cell_type": "code",
      "source": [
        "string = input ('Do you find this session useful? ')\n",
        "print (f'{string}')"
      ],
      "metadata": {
        "colab": {
          "base_uri": "https://localhost:8080/"
        },
        "id": "FCwO-nj2bhEd",
        "outputId": "86865330-8c89-4f0f-d3c1-48e963527c94"
      },
      "execution_count": 138,
      "outputs": [
        {
          "output_type": "stream",
          "name": "stdout",
          "text": [
            "Do you find this session useful? Yes\n",
            "Yes\n"
          ]
        }
      ]
    },
    {
      "cell_type": "markdown",
      "source": [
        "# End of this notebook"
      ],
      "metadata": {
        "id": "z9hAzO5EdyZA"
      }
    },
    {
      "cell_type": "code",
      "source": [],
      "metadata": {
        "id": "YGpth8uZONPe"
      },
      "execution_count": null,
      "outputs": []
    }
  ]
}