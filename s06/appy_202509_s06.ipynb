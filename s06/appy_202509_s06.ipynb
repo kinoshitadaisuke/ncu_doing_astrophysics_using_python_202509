{
  "nbformat": 4,
  "nbformat_minor": 0,
  "metadata": {
    "colab": {
      "provenance": []
    },
    "kernelspec": {
      "name": "python3",
      "display_name": "Python 3"
    },
    "language_info": {
      "name": "python"
    }
  },
  "cells": [
    {
      "cell_type": "markdown",
      "source": [
        "# Doing Astrophysics using Python\n",
        "\n",
        "- \"Doing Astrophysics using Python\"\n",
        "  - Instructor: Kinoshita Daisuke\n",
        "  - Classroom: S4-202\n",
        "  - Time: from 13:00 to 15:50 on Wednesday\n",
        "  - Semester: 1st semester of academic year 2025\n",
        "    - from September 2025 to December 2025\n",
        "  - Course web page: https://s3b.astro.ncu.edu.tw/appy_202509/\n",
        "  - GitHub repository: https://github.com/kinoshitadaisuke/ncu_doing_astrophysics_using_python_202509\n"
      ],
      "metadata": {
        "id": "gGzI83b9PmnI"
      }
    },
    {
      "cell_type": "markdown",
      "source": [
        "# Session 06: \"Building and querying relational database using Python\"\n",
        "\n",
        "## 08 October 2025\n",
        "\n",
        "## Instructor: Kinoshita Daisuke"
      ],
      "metadata": {
        "id": "Q7MvlbrC_tne"
      }
    },
    {
      "cell_type": "markdown",
      "source": [
        "# Your name"
      ],
      "metadata": {
        "id": "1i7LDa-jfRGO"
      }
    },
    {
      "cell_type": "code",
      "source": [
        "# Run this cell to enter your name.\n",
        "\n",
        "# getting your name and student ID\n",
        "my_name = input (\"What is your name? \")\n",
        "my_id = input (\"What is your student ID? \")\n",
        "\n",
        "# printing your name and student ID\n",
        "print (f'')\n",
        "print (f'Name: {my_name}')\n",
        "print (f\"Student ID: {my_id}\")\n",
        "print (f'')\n",
        "\n",
        "# importing datetime module\n",
        "import datetime\n",
        "\n",
        "# getting current datetime\n",
        "now = datetime.datetime.now ()\n",
        "\n",
        "# printing curent date/time\n",
        "print (f'date/time = {now} (UT)')\n",
        "\n",
        "# importing random module\n",
        "import random\n",
        "\n",
        "# generating a random number\n",
        "n = random.randint (0, 1000000)\n",
        "print (f\"{n}\")\n",
        "\n",
        "# printing name of operating system\n",
        "import sys\n",
        "import os\n",
        "print (f'system platoform = {sys.platform}')\n",
        "print (f'operating system = {os.uname ().sysname} {os.uname ().nodename} {os.uname ().release} {os.uname ().version} {os.uname ().machine}')"
      ],
      "metadata": {
        "id": "YwfYDKEaRoP9"
      },
      "execution_count": null,
      "outputs": []
    },
    {
      "cell_type": "markdown",
      "source": [
        "# 0. Installation of Python interpreter"
      ],
      "metadata": {
        "id": "T_y7rto6Q5P8"
      }
    },
    {
      "cell_type": "code",
      "source": [
        "# Run this cell to install Python 3.13\n",
        "\n",
        "!apt update\n",
        "!apt upgrade\n",
        "!apt install python3.13 python3.13-dev python3.13-full libpython3.13-dev\n",
        "!update-alternatives --install /usr/local/bin/python3 python3 /usr/bin/python3.13 1\n",
        "!wget https://bootstrap.pypa.io/get-pip.py\n",
        "!python3.13 get-pip.py"
      ],
      "metadata": {
        "id": "MzmVLkC8QyGZ"
      },
      "execution_count": null,
      "outputs": []
    },
    {
      "cell_type": "code",
      "source": [
        "# Run this cell to check the version of Python interpreter and pip command\n",
        "\n",
        "!python3.13 --version\n",
        "!pip --version"
      ],
      "metadata": {
        "id": "Vx-JYTyp3NMU"
      },
      "execution_count": null,
      "outputs": []
    },
    {
      "cell_type": "markdown",
      "source": [
        "# 1. Downloading a set of sample Python scripts for this course"
      ],
      "metadata": {
        "id": "zvKZRFoF8A8k"
      }
    },
    {
      "cell_type": "code",
      "source": [
        "# Run this cell to download a set of sample Python scripts for this course.\n",
        "\n",
        "!git clone https://github.com/kinoshitadaisuke/ncu_doing_astrophysics_using_python_202509.git"
      ],
      "metadata": {
        "id": "itsUqwak4-z4"
      },
      "execution_count": null,
      "outputs": []
    },
    {
      "cell_type": "code",
      "source": [
        "# Run this cell to move to the directory for this session.\n",
        "\n",
        "%cd ncu_doing_astrophysics_using_python_202509/s06"
      ],
      "metadata": {
        "id": "bREyxIP08RZG"
      },
      "execution_count": null,
      "outputs": []
    },
    {
      "cell_type": "code",
      "source": [
        "# Run this cell to show a list of files for this session.\n",
        "\n",
        "!ls -lF"
      ],
      "metadata": {
        "id": "fKxQ_X-D8dRN"
      },
      "execution_count": null,
      "outputs": []
    },
    {
      "cell_type": "markdown",
      "source": [
        "# 2. SQLite"
      ],
      "metadata": {
        "id": "_KwUVaGcsoqT"
      }
    },
    {
      "cell_type": "code",
      "source": [
        "# Install the command \"sqlite3\" if you do not have it.\n",
        "\n",
        "!apt install sqlite3"
      ],
      "metadata": {
        "id": "Zd2HIbFqsQSf"
      },
      "execution_count": null,
      "outputs": []
    },
    {
      "cell_type": "code",
      "source": [
        "# Run this cell to check whether or not you have a command \"sqlite3\".\n",
        "\n",
        "!which sqlite3"
      ],
      "metadata": {
        "id": "vTMcFHxfsQSm"
      },
      "execution_count": null,
      "outputs": []
    },
    {
      "cell_type": "code",
      "source": [
        "# Run this cell to read the online manual of sqlite3.\n",
        "\n",
        "!yes | unminimize\n",
        "!man sqlite3 > man.sqlite3\n",
        "!cat man.sqlite3"
      ],
      "metadata": {
        "id": "B6FX0o2ucKic"
      },
      "execution_count": null,
      "outputs": []
    },
    {
      "cell_type": "code",
      "source": [
        "# Run this cell to show the version of SQLite.\n",
        "\n",
        "!sqlite3 --version"
      ],
      "metadata": {
        "id": "E57IV_02uxCU"
      },
      "execution_count": null,
      "outputs": []
    },
    {
      "cell_type": "code",
      "source": [
        "# Run this cell to show the help message of SQLite.\n",
        "\n",
        "!sqlite3 --help"
      ],
      "metadata": {
        "id": "BtdKQk0Au-nP"
      },
      "execution_count": null,
      "outputs": []
    },
    {
      "cell_type": "code",
      "source": [
        "# Run this cell to show available commands of SQLite.\n",
        "\n",
        "!sqlite3 \"\" \".help\""
      ],
      "metadata": {
        "id": "LKmTOYuSfr8K"
      },
      "execution_count": null,
      "outputs": []
    },
    {
      "cell_type": "code",
      "source": [
        "# Run this cell to the description of \".open\" command.\n",
        "\n",
        "!sqlite3 \"\" \".help .open\""
      ],
      "metadata": {
        "id": "dWdhyOB6Lar7"
      },
      "execution_count": null,
      "outputs": []
    },
    {
      "cell_type": "markdown",
      "source": [
        "# 3. Making a small database"
      ],
      "metadata": {
        "id": "rgfVAjOomYef"
      }
    },
    {
      "cell_type": "markdown",
      "source": [
        "## 3.1 Making a table"
      ],
      "metadata": {
        "id": "El6-Tp6KzulW"
      }
    },
    {
      "cell_type": "code",
      "source": [
        "# Run this cell to show the source code of the script.\n",
        "\n",
        "!cat appy_s06_sqlite_00_00.sh"
      ],
      "metadata": {
        "id": "A1uOPK_SmGej"
      },
      "execution_count": null,
      "outputs": []
    },
    {
      "cell_type": "code",
      "source": [
        "# Run this cell to execute the script.\n",
        "\n",
        "!sh appy_s06_sqlite_00_00.sh"
      ],
      "metadata": {
        "id": "TxGbeG2GmGek"
      },
      "execution_count": null,
      "outputs": []
    },
    {
      "cell_type": "code",
      "source": [
        "# Run this cell to find newly created file.\n",
        "\n",
        "!ls -lF *.db"
      ],
      "metadata": {
        "id": "Au4w56nXvJ28"
      },
      "execution_count": null,
      "outputs": []
    },
    {
      "cell_type": "code",
      "source": [
        "# Run this cell to check the file type of the database file.\n",
        "\n",
        "!file planet0.db"
      ],
      "metadata": {
        "id": "3S-uzPR8vPdI"
      },
      "execution_count": null,
      "outputs": []
    },
    {
      "cell_type": "code",
      "source": [
        "# Run this cell to show the source code of the script.\n",
        "\n",
        "!cat appy_s06_sqlite_00_01.sh"
      ],
      "metadata": {
        "id": "ZNQcAOXCmxhx"
      },
      "execution_count": null,
      "outputs": []
    },
    {
      "cell_type": "code",
      "source": [
        "# Run this cell to execute the script.\n",
        "\n",
        "!sh appy_s06_sqlite_00_01.sh"
      ],
      "metadata": {
        "id": "lYjc7LkKmxh0"
      },
      "execution_count": null,
      "outputs": []
    },
    {
      "cell_type": "code",
      "source": [
        "# Run this cell to show the source code of the script.\n",
        "\n",
        "!cat appy_s06_sqlite_00_02.sh"
      ],
      "metadata": {
        "id": "07K3WWrpm_Pg"
      },
      "execution_count": null,
      "outputs": []
    },
    {
      "cell_type": "code",
      "source": [
        "# Run this cell to execute the script.\n",
        "\n",
        "!sh appy_s06_sqlite_00_02.sh"
      ],
      "metadata": {
        "id": "omIpqS4jm_Pi"
      },
      "execution_count": null,
      "outputs": []
    },
    {
      "cell_type": "code",
      "source": [
        "# Run this cell to show the source code of the script.\n",
        "\n",
        "!cat appy_s06_sqlite_00_03.sh"
      ],
      "metadata": {
        "id": "MkfUaLSfnD-2"
      },
      "execution_count": null,
      "outputs": []
    },
    {
      "cell_type": "code",
      "source": [
        "# Run this cell to execute the script.\n",
        "\n",
        "!sh appy_s06_sqlite_00_03.sh"
      ],
      "metadata": {
        "id": "bV2CHOLunD-3"
      },
      "execution_count": null,
      "outputs": []
    },
    {
      "cell_type": "code",
      "source": [
        "# Run this cell to show the source code of the script.\n",
        "\n",
        "!cat appy_s06_sqlite_00_04.sh"
      ],
      "metadata": {
        "id": "lGsV0vBznPrl"
      },
      "execution_count": null,
      "outputs": []
    },
    {
      "cell_type": "code",
      "source": [
        "# Run this cell to execute the script.\n",
        "\n",
        "!sh appy_s06_sqlite_00_04.sh"
      ],
      "metadata": {
        "id": "p4EGPC4inPrl"
      },
      "execution_count": null,
      "outputs": []
    },
    {
      "cell_type": "markdown",
      "source": [
        "## 3.2 Adding data to table"
      ],
      "metadata": {
        "id": "eG8A6YNMzxu6"
      }
    },
    {
      "cell_type": "code",
      "source": [
        "# Run this cell to show the source code of the script.\n",
        "\n",
        "!cat appy_s06_sqlite_00_05.sh"
      ],
      "metadata": {
        "id": "kiLgPYDinZC1"
      },
      "execution_count": null,
      "outputs": []
    },
    {
      "cell_type": "code",
      "source": [
        "# Run this cell to execute the script.\n",
        "\n",
        "!sh appy_s06_sqlite_00_05.sh"
      ],
      "metadata": {
        "id": "d9OABmiJnZC3"
      },
      "execution_count": null,
      "outputs": []
    },
    {
      "cell_type": "code",
      "source": [
        "# Run this cell to show the source code of the script.\n",
        "\n",
        "!cat appy_s06_sqlite_00_06.sh"
      ],
      "metadata": {
        "id": "8HZIBG4-nctF"
      },
      "execution_count": null,
      "outputs": []
    },
    {
      "cell_type": "code",
      "source": [
        "# Run this cell to execute the script.\n",
        "\n",
        "!sh appy_s06_sqlite_00_06.sh"
      ],
      "metadata": {
        "id": "YNH_ng6unctH"
      },
      "execution_count": null,
      "outputs": []
    },
    {
      "cell_type": "code",
      "source": [
        "# Run this cell to show the source code of the script.\n",
        "\n",
        "!cat appy_s06_sqlite_00_07.sh"
      ],
      "metadata": {
        "id": "-zygycSTng4z"
      },
      "execution_count": null,
      "outputs": []
    },
    {
      "cell_type": "code",
      "source": [
        "# Run this cell to execute the script.\n",
        "\n",
        "!sh appy_s06_sqlite_00_07.sh"
      ],
      "metadata": {
        "id": "uWi74gG2ng40"
      },
      "execution_count": null,
      "outputs": []
    },
    {
      "cell_type": "code",
      "source": [
        "# Run this cell to show the source code of the script.\n",
        "\n",
        "!cat appy_s06_sqlite_00_08.sh"
      ],
      "metadata": {
        "id": "URGNxTmEnlPZ"
      },
      "execution_count": null,
      "outputs": []
    },
    {
      "cell_type": "code",
      "source": [
        "# Run this cell to execute the script.\n",
        "\n",
        "!sh appy_s06_sqlite_00_08.sh"
      ],
      "metadata": {
        "id": "PRglIeJ_nlPa"
      },
      "execution_count": null,
      "outputs": []
    },
    {
      "cell_type": "code",
      "source": [
        "# Run this cell to show the source code of the script.\n",
        "\n",
        "!cat appy_s06_sqlite_00_09.sh"
      ],
      "metadata": {
        "id": "0yh3HNnEnpU9"
      },
      "execution_count": null,
      "outputs": []
    },
    {
      "cell_type": "code",
      "source": [
        "# Run this cell to execute the script.\n",
        "\n",
        "!sh appy_s06_sqlite_00_09.sh"
      ],
      "metadata": {
        "id": "QAPmJQxonpU9"
      },
      "execution_count": null,
      "outputs": []
    },
    {
      "cell_type": "code",
      "source": [
        "# Run this cell to show the source code of the script.\n",
        "\n",
        "!cat appy_s06_sqlite_00_10.sh"
      ],
      "metadata": {
        "id": "eTV4ezZsntOQ"
      },
      "execution_count": null,
      "outputs": []
    },
    {
      "cell_type": "code",
      "source": [
        "# Run this cell to execute the script.\n",
        "\n",
        "!sh appy_s06_sqlite_00_10.sh"
      ],
      "metadata": {
        "id": "E-Li-9DPntOR"
      },
      "execution_count": null,
      "outputs": []
    },
    {
      "cell_type": "code",
      "source": [
        "# Run this cell to show the source code of the script.\n",
        "\n",
        "!cat appy_s06_sqlite_00_11.sh"
      ],
      "metadata": {
        "id": "DxxLOn3OnyPt"
      },
      "execution_count": null,
      "outputs": []
    },
    {
      "cell_type": "code",
      "source": [
        "# Run this cell to execute the script.\n",
        "\n",
        "!sh appy_s06_sqlite_00_11.sh"
      ],
      "metadata": {
        "id": "bEMeYoTEnyPt"
      },
      "execution_count": null,
      "outputs": []
    },
    {
      "cell_type": "code",
      "source": [
        "# Run this cell to show the source code of the script.\n",
        "\n",
        "!cat appy_s06_sqlite_00_12.sh"
      ],
      "metadata": {
        "id": "3s1x_J2rn4tQ"
      },
      "execution_count": null,
      "outputs": []
    },
    {
      "cell_type": "code",
      "source": [
        "# Run this cell to execute the script.\n",
        "\n",
        "!sh appy_s06_sqlite_00_12.sh"
      ],
      "metadata": {
        "id": "nVX0qfxWn4tS"
      },
      "execution_count": null,
      "outputs": []
    },
    {
      "cell_type": "code",
      "source": [
        "# Run this cell to find database file.\n",
        "\n",
        "!ls -lF *.db"
      ],
      "metadata": {
        "id": "BbqviCvGoA5o"
      },
      "execution_count": null,
      "outputs": []
    },
    {
      "cell_type": "markdown",
      "source": [
        "## 3.3 Trying SQL queries"
      ],
      "metadata": {
        "id": "yJnvAojWz0oa"
      }
    },
    {
      "cell_type": "code",
      "source": [
        "# Run this cell to show the source code of the script.\n",
        "\n",
        "!cat appy_s06_sqlite_00_13.sh"
      ],
      "metadata": {
        "id": "MqOJxB4XoIsU"
      },
      "execution_count": null,
      "outputs": []
    },
    {
      "cell_type": "code",
      "source": [
        "# Run this cell to execute the script.\n",
        "\n",
        "!sh appy_s06_sqlite_00_13.sh"
      ],
      "metadata": {
        "id": "VQcGXJploIsV"
      },
      "execution_count": null,
      "outputs": []
    },
    {
      "cell_type": "code",
      "source": [
        "# Run this cell to show the source code of the script.\n",
        "\n",
        "!cat appy_s06_sqlite_00_14.sh"
      ],
      "metadata": {
        "id": "7KBuW_O8oMbN"
      },
      "execution_count": null,
      "outputs": []
    },
    {
      "cell_type": "code",
      "source": [
        "# Run this cell to execute the script.\n",
        "\n",
        "!sh appy_s06_sqlite_00_14.sh"
      ],
      "metadata": {
        "id": "Aefi21-joMbO"
      },
      "execution_count": null,
      "outputs": []
    },
    {
      "cell_type": "code",
      "source": [
        "# Run this cell to show the source code of the script.\n",
        "\n",
        "!cat appy_s06_sqlite_00_15.sh"
      ],
      "metadata": {
        "id": "C-F4GaKNoQ5D"
      },
      "execution_count": null,
      "outputs": []
    },
    {
      "cell_type": "code",
      "source": [
        "# Run this cell to execute the script.\n",
        "\n",
        "!sh appy_s06_sqlite_00_15.sh"
      ],
      "metadata": {
        "id": "OlAPsPbCoQ5E"
      },
      "execution_count": null,
      "outputs": []
    },
    {
      "cell_type": "code",
      "source": [
        "# Run this cell to show the source code of the script.\n",
        "\n",
        "!cat appy_s06_sqlite_00_16.sh"
      ],
      "metadata": {
        "id": "NeEKAMbZocFp"
      },
      "execution_count": null,
      "outputs": []
    },
    {
      "cell_type": "code",
      "source": [
        "# Run this cell to execute the script.\n",
        "\n",
        "!sh appy_s06_sqlite_00_16.sh"
      ],
      "metadata": {
        "id": "9zq9o-BfocFq"
      },
      "execution_count": null,
      "outputs": []
    },
    {
      "cell_type": "code",
      "source": [
        "# Run this cell to show the source code of the script.\n",
        "\n",
        "!cat appy_s06_sqlite_00_17.sh"
      ],
      "metadata": {
        "id": "zQ8AbqToogbY"
      },
      "execution_count": null,
      "outputs": []
    },
    {
      "cell_type": "code",
      "source": [
        "# Run this cell to execute the script.\n",
        "\n",
        "!sh appy_s06_sqlite_00_17.sh"
      ],
      "metadata": {
        "id": "h_ivKvopogba"
      },
      "execution_count": null,
      "outputs": []
    },
    {
      "cell_type": "code",
      "source": [
        "# Run this cell to show the source code of the script.\n",
        "\n",
        "!cat appy_s06_sqlite_00_18.sh"
      ],
      "metadata": {
        "id": "WECjI8iIomkD"
      },
      "execution_count": null,
      "outputs": []
    },
    {
      "cell_type": "code",
      "source": [
        "# Run this cell to execute the script.\n",
        "\n",
        "!sh appy_s06_sqlite_00_18.sh"
      ],
      "metadata": {
        "id": "g3viEL7womkE"
      },
      "execution_count": null,
      "outputs": []
    },
    {
      "cell_type": "markdown",
      "source": [
        "# Your name"
      ],
      "metadata": {
        "id": "EOw97kF_p6it"
      }
    },
    {
      "cell_type": "code",
      "source": [
        "# Run this cell to enter your name.\n",
        "\n",
        "# getting your name and student ID\n",
        "my_name = input (\"What is your name? \")\n",
        "my_id = input (\"What is your student ID? \")\n",
        "\n",
        "# printing your name and student ID\n",
        "print (f'')\n",
        "print (f'Name: {my_name}')\n",
        "print (f\"Student ID: {my_id}\")\n",
        "print (f'')\n",
        "\n",
        "# importing datetime module\n",
        "import datetime\n",
        "\n",
        "# getting current datetime\n",
        "now = datetime.datetime.now ()\n",
        "\n",
        "# printing curent date/time\n",
        "print (f'date/time = {now} (UT)')\n",
        "\n",
        "# importing random module\n",
        "import random\n",
        "\n",
        "# generating a random number\n",
        "n = random.randint (0, 1000000)\n",
        "print (f\"{n}\")\n",
        "\n",
        "# printing name of operating system\n",
        "import sys\n",
        "import os\n",
        "print (f'system platoform = {sys.platform}')\n",
        "print (f'operating system = {os.uname ().sysname} {os.uname ().nodename} {os.uname ().release} {os.uname ().version} {os.uname ().machine}')"
      ],
      "metadata": {
        "id": "KmsfaQGKp6it"
      },
      "execution_count": null,
      "outputs": []
    },
    {
      "cell_type": "markdown",
      "source": [
        "## 3.4 More about SQL queries"
      ],
      "metadata": {
        "id": "BquPXVULuMhl"
      }
    },
    {
      "cell_type": "markdown",
      "source": [
        "### 3.4.1 Sorting outputs using \"order by\""
      ],
      "metadata": {
        "id": "RR6iXL-ry8nV"
      }
    },
    {
      "cell_type": "code",
      "source": [
        "# Run this cell to show the source code of the script.\n",
        "\n",
        "!cat appy_s06_sqlite_00_19.sh"
      ],
      "metadata": {
        "id": "CiKrffNlovk_"
      },
      "execution_count": null,
      "outputs": []
    },
    {
      "cell_type": "code",
      "source": [
        "# Run this cell to execute the script.\n",
        "\n",
        "!sh appy_s06_sqlite_00_19.sh"
      ],
      "metadata": {
        "id": "OI6-8VuuovlC"
      },
      "execution_count": null,
      "outputs": []
    },
    {
      "cell_type": "code",
      "source": [
        "# Run this cell to show the source code of the script.\n",
        "\n",
        "!cat appy_s06_sqlite_00_20.sh"
      ],
      "metadata": {
        "id": "AbTl7Ly6o6TD"
      },
      "execution_count": null,
      "outputs": []
    },
    {
      "cell_type": "code",
      "source": [
        "# Run this cell to execute the script.\n",
        "\n",
        "!sh appy_s06_sqlite_00_20.sh"
      ],
      "metadata": {
        "id": "aoXhUF2Lo6TE"
      },
      "execution_count": null,
      "outputs": []
    },
    {
      "cell_type": "markdown",
      "source": [
        "### 3.4.2 Selecting outputs using \"where\""
      ],
      "metadata": {
        "id": "0iz6W3uG2M0-"
      }
    },
    {
      "cell_type": "code",
      "source": [
        "# Run this cell to show the source code of the script.\n",
        "\n",
        "!cat appy_s06_sqlite_00_21.sh"
      ],
      "metadata": {
        "id": "Qjo7cG7ppAP2"
      },
      "execution_count": null,
      "outputs": []
    },
    {
      "cell_type": "code",
      "source": [
        "# Run this cell to execute the script.\n",
        "\n",
        "!sh appy_s06_sqlite_00_21.sh"
      ],
      "metadata": {
        "id": "iP7yUQ66pAP4"
      },
      "execution_count": null,
      "outputs": []
    },
    {
      "cell_type": "code",
      "source": [
        "# Run this cell to show the source code of the script.\n",
        "\n",
        "!cat appy_s06_sqlite_00_22.sh"
      ],
      "metadata": {
        "id": "bX87HQ-mpIKD"
      },
      "execution_count": null,
      "outputs": []
    },
    {
      "cell_type": "code",
      "source": [
        "# Run this cell to execute the script.\n",
        "\n",
        "!sh appy_s06_sqlite_00_22.sh"
      ],
      "metadata": {
        "id": "dwDQWZfrpIKE"
      },
      "execution_count": null,
      "outputs": []
    },
    {
      "cell_type": "code",
      "source": [
        "# Run this cell to show the source code of the script.\n",
        "\n",
        "!cat appy_s06_sqlite_00_23.sh"
      ],
      "metadata": {
        "id": "MorU-2xupMQG"
      },
      "execution_count": null,
      "outputs": []
    },
    {
      "cell_type": "code",
      "source": [
        "# Run this cell to execute the script.\n",
        "\n",
        "!sh appy_s06_sqlite_00_23.sh"
      ],
      "metadata": {
        "id": "x69Zits7pMQH"
      },
      "execution_count": null,
      "outputs": []
    },
    {
      "cell_type": "markdown",
      "source": [
        "## 3.5 Importing data from a CSV file"
      ],
      "metadata": {
        "id": "l9uBBsWk7y4A"
      }
    },
    {
      "cell_type": "code",
      "source": [
        "# Run this cell to show the source code of the script.\n",
        "\n",
        "!cat appy_s06_00_00.py"
      ],
      "metadata": {
        "id": "GAqoX3wF21x6"
      },
      "execution_count": null,
      "outputs": []
    },
    {
      "cell_type": "code",
      "source": [
        "# Run this cell to execute the script.\n",
        "\n",
        "!python3.13 appy_s06_00_00.py"
      ],
      "metadata": {
        "id": "yc5vPv8c78bz"
      },
      "execution_count": null,
      "outputs": []
    },
    {
      "cell_type": "code",
      "source": [
        "# Run this cell to show downloaded CSV file.\n",
        "\n",
        "!ls -lF *.csv"
      ],
      "metadata": {
        "id": "hDntl7ty8LSY"
      },
      "execution_count": null,
      "outputs": []
    },
    {
      "cell_type": "code",
      "source": [
        "# Run this cell to show file type of downloaded CSV file.\n",
        "\n",
        "!file dwarf_planet.csv"
      ],
      "metadata": {
        "id": "WsCdRADA8QLK"
      },
      "execution_count": null,
      "outputs": []
    },
    {
      "cell_type": "code",
      "source": [
        "# Run this cell to show the contents of downloaded CSV file.\n",
        "\n",
        "!cat dwarf_planet.csv"
      ],
      "metadata": {
        "id": "bzcCZizO8U1N"
      },
      "execution_count": null,
      "outputs": []
    },
    {
      "cell_type": "code",
      "source": [
        "# Run this cell to show the source code of the script.\n",
        "\n",
        "!cat appy_s06_sqlite_00_24.sh"
      ],
      "metadata": {
        "id": "0nhG9HiAph74"
      },
      "execution_count": null,
      "outputs": []
    },
    {
      "cell_type": "code",
      "source": [
        "# Run this cell to execute the script.\n",
        "\n",
        "!sh appy_s06_sqlite_00_24.sh"
      ],
      "metadata": {
        "id": "m775r_R3ph75"
      },
      "execution_count": null,
      "outputs": []
    },
    {
      "cell_type": "code",
      "source": [
        "# Run this cell to find newly created database file.\n",
        "\n",
        "!ls -lF *.db"
      ],
      "metadata": {
        "id": "-atEz-E58mOr"
      },
      "execution_count": null,
      "outputs": []
    },
    {
      "cell_type": "code",
      "source": [
        "# Run this cell to find data type of database file.\n",
        "\n",
        "!file dwarf_planet.db"
      ],
      "metadata": {
        "id": "CQN-GedO8qd2"
      },
      "execution_count": null,
      "outputs": []
    },
    {
      "cell_type": "code",
      "source": [
        "# Run this cell to show the source code of the script.\n",
        "\n",
        "!cat appy_s06_sqlite_00_25.sh"
      ],
      "metadata": {
        "id": "XNCOAW4SptDB"
      },
      "execution_count": null,
      "outputs": []
    },
    {
      "cell_type": "code",
      "source": [
        "# Run this cell to execute the script.\n",
        "\n",
        "!sh appy_s06_sqlite_00_25.sh"
      ],
      "metadata": {
        "id": "FaqAc2vvptDC"
      },
      "execution_count": null,
      "outputs": []
    },
    {
      "cell_type": "code",
      "source": [
        "# Run this cell to show the source code of the script.\n",
        "\n",
        "!cat appy_s06_sqlite_00_26.sh"
      ],
      "metadata": {
        "id": "kAaUS7Aqpz3Z"
      },
      "execution_count": null,
      "outputs": []
    },
    {
      "cell_type": "code",
      "source": [
        "# Run this cell to execute the script.\n",
        "\n",
        "!sh appy_s06_sqlite_00_26.sh"
      ],
      "metadata": {
        "id": "DJ63A60Ppz3a"
      },
      "execution_count": null,
      "outputs": []
    },
    {
      "cell_type": "code",
      "source": [
        "# Run this cell to show the source code of the script.\n",
        "\n",
        "!cat appy_s06_sqlite_00_27.sh"
      ],
      "metadata": {
        "id": "9Rpv7Cfnp_zE"
      },
      "execution_count": null,
      "outputs": []
    },
    {
      "cell_type": "code",
      "source": [
        "# Run this cell to execute the script.\n",
        "\n",
        "!sh appy_s06_sqlite_00_27.sh"
      ],
      "metadata": {
        "id": "5oPHklK9p_zG"
      },
      "execution_count": null,
      "outputs": []
    },
    {
      "cell_type": "code",
      "source": [
        "# Run this cell to find newly created file.\n",
        "\n",
        "!ls -lF *.db"
      ],
      "metadata": {
        "id": "vqc5hyZxqRr1"
      },
      "execution_count": null,
      "outputs": []
    },
    {
      "cell_type": "code",
      "source": [
        "# Run this cell to show the source code of the script.\n",
        "\n",
        "!cat appy_s06_sqlite_00_28.sh"
      ],
      "metadata": {
        "id": "lhMTWK7vqF5E"
      },
      "execution_count": null,
      "outputs": []
    },
    {
      "cell_type": "code",
      "source": [
        "# Run this cell to execute the script.\n",
        "\n",
        "!sh appy_s06_sqlite_00_28.sh"
      ],
      "metadata": {
        "id": "1KcqF-KTqF5G"
      },
      "execution_count": null,
      "outputs": []
    },
    {
      "cell_type": "code",
      "source": [
        "# Run this cell to find newly created file.\n",
        "\n",
        "!ls -lF *.db"
      ],
      "metadata": {
        "id": "omvRPR_Mya18"
      },
      "execution_count": null,
      "outputs": []
    },
    {
      "cell_type": "code",
      "source": [
        "# Run this cell to show the source code of the script.\n",
        "\n",
        "!cat appy_s06_sqlite_00_29.sh"
      ],
      "metadata": {
        "id": "icFKwuA1qW3X"
      },
      "execution_count": null,
      "outputs": []
    },
    {
      "cell_type": "code",
      "source": [
        "# Run this cell to execute the script.\n",
        "\n",
        "!sh appy_s06_sqlite_00_29.sh"
      ],
      "metadata": {
        "id": "tfGKVtCrqW3Y"
      },
      "execution_count": null,
      "outputs": []
    },
    {
      "cell_type": "code",
      "source": [
        "# Run this cell to show the source code of the script.\n",
        "\n",
        "!cat appy_s06_sqlite_00_30.sh"
      ],
      "metadata": {
        "id": "4dJVaXwnqrBU"
      },
      "execution_count": null,
      "outputs": []
    },
    {
      "cell_type": "code",
      "source": [
        "# Run this cell to execute the script.\n",
        "\n",
        "!sh appy_s06_sqlite_00_30.sh"
      ],
      "metadata": {
        "id": "haSiTHN1qrBV"
      },
      "execution_count": null,
      "outputs": []
    },
    {
      "cell_type": "code",
      "source": [
        "# Run this cell to show the source code of the script.\n",
        "\n",
        "!cat appy_s06_sqlite_00_31.sh"
      ],
      "metadata": {
        "id": "MOtrP4DLq8Rm"
      },
      "execution_count": null,
      "outputs": []
    },
    {
      "cell_type": "code",
      "source": [
        "# Run this cell to execute the script.\n",
        "\n",
        "!sh appy_s06_sqlite_00_31.sh"
      ],
      "metadata": {
        "id": "ViYAFd75q8Rn"
      },
      "execution_count": null,
      "outputs": []
    },
    {
      "cell_type": "code",
      "source": [
        "# Run this cell to show the source code of the script.\n",
        "\n",
        "!cat appy_s06_sqlite_00_32.sh"
      ],
      "metadata": {
        "id": "BjzouICqrCnz"
      },
      "execution_count": null,
      "outputs": []
    },
    {
      "cell_type": "code",
      "source": [
        "# Run this cell to execute the script.\n",
        "\n",
        "!sh appy_s06_sqlite_00_32.sh"
      ],
      "metadata": {
        "id": "SDgjrvI8rCn1"
      },
      "execution_count": null,
      "outputs": []
    },
    {
      "cell_type": "markdown",
      "source": [
        "## 3.6 Exporting database into a SQL file"
      ],
      "metadata": {
        "id": "sc6Duerw9j6o"
      }
    },
    {
      "cell_type": "code",
      "source": [
        "# Run this cell to show the source code of the script.\n",
        "\n",
        "!cat appy_s06_sqlite_00_33.sh"
      ],
      "metadata": {
        "id": "eMh2jNjZsDMg"
      },
      "execution_count": null,
      "outputs": []
    },
    {
      "cell_type": "code",
      "source": [
        "# Run this cell to execute the script.\n",
        "\n",
        "!sh appy_s06_sqlite_00_33.sh"
      ],
      "metadata": {
        "id": "Ll09FmixsDMh"
      },
      "execution_count": null,
      "outputs": []
    },
    {
      "cell_type": "code",
      "source": [
        "# Run this cell to show the source code of the script.\n",
        "\n",
        "!cat appy_s06_sqlite_00_34.sh"
      ],
      "metadata": {
        "id": "MGi4fS_gsGob"
      },
      "execution_count": null,
      "outputs": []
    },
    {
      "cell_type": "code",
      "source": [
        "# Run this cell to execute the script.\n",
        "\n",
        "!sh appy_s06_sqlite_00_34.sh"
      ],
      "metadata": {
        "id": "0fyjATUesGob"
      },
      "execution_count": null,
      "outputs": []
    },
    {
      "cell_type": "code",
      "source": [
        "# Run this cell to find newly created SQL file.\n",
        "\n",
        "!ls -lF *.sql"
      ],
      "metadata": {
        "id": "1UK1YZxE92x8"
      },
      "execution_count": null,
      "outputs": []
    },
    {
      "cell_type": "code",
      "source": [
        "# Run this cell to find data type of SQL file.\n",
        "\n",
        "!file dwarf_planet.sql"
      ],
      "metadata": {
        "id": "plEG60o096mX"
      },
      "execution_count": null,
      "outputs": []
    },
    {
      "cell_type": "code",
      "source": [
        "# Run this cell to show the contents of SQL file.\n",
        "\n",
        "!cut -b -80 dwarf_planet.sql"
      ],
      "metadata": {
        "id": "hrvWMfT09_UG"
      },
      "execution_count": null,
      "outputs": []
    },
    {
      "cell_type": "markdown",
      "source": [
        "## 3.7 Reading a SQL file"
      ],
      "metadata": {
        "id": "POoOMcvV-NHI"
      }
    },
    {
      "cell_type": "code",
      "source": [
        "# Run this cell to show the source code of the script.\n",
        "\n",
        "!cat appy_s06_sqlite_00_35.sh"
      ],
      "metadata": {
        "id": "MaxDtYN5sVSY"
      },
      "execution_count": null,
      "outputs": []
    },
    {
      "cell_type": "code",
      "source": [
        "# Run this cell to execute the script.\n",
        "\n",
        "!sh appy_s06_sqlite_00_35.sh"
      ],
      "metadata": {
        "id": "0cJo5wZtsVSa"
      },
      "execution_count": null,
      "outputs": []
    },
    {
      "cell_type": "code",
      "source": [
        "# Run this cell to show the source code of the script.\n",
        "\n",
        "!cat appy_s06_sqlite_00_36.sh"
      ],
      "metadata": {
        "id": "olYbei2Zsd4q"
      },
      "execution_count": null,
      "outputs": []
    },
    {
      "cell_type": "code",
      "source": [
        "# Run this cell to execute the script.\n",
        "\n",
        "!sh appy_s06_sqlite_00_36.sh"
      ],
      "metadata": {
        "id": "H7vIk6xOsd4r"
      },
      "execution_count": null,
      "outputs": []
    },
    {
      "cell_type": "code",
      "source": [
        "# Run this cell to find newly created file.\n",
        "\n",
        "!ls -lF *.db"
      ],
      "metadata": {
        "id": "XzTArZHCx5TX"
      },
      "execution_count": null,
      "outputs": []
    },
    {
      "cell_type": "code",
      "source": [
        "# Run this cell to show the source code of the script.\n",
        "\n",
        "!cat appy_s06_sqlite_00_37.sh"
      ],
      "metadata": {
        "id": "uoR_LEt6so0s"
      },
      "execution_count": null,
      "outputs": []
    },
    {
      "cell_type": "code",
      "source": [
        "# Run this cell to execute the script.\n",
        "\n",
        "!sh appy_s06_sqlite_00_37.sh"
      ],
      "metadata": {
        "id": "k8w8dUBXso0u"
      },
      "execution_count": null,
      "outputs": []
    },
    {
      "cell_type": "markdown",
      "source": [
        "## 3.8 Exporting a database into a CSV file"
      ],
      "metadata": {
        "id": "nhYVHgCh-iy6"
      }
    },
    {
      "cell_type": "code",
      "source": [
        "# Run this cell to show the source code of the script.\n",
        "\n",
        "!cat appy_s06_sqlite_00_38.sh"
      ],
      "metadata": {
        "id": "CYGIS4rZsyJ5"
      },
      "execution_count": null,
      "outputs": []
    },
    {
      "cell_type": "code",
      "source": [
        "# Run this cell to execute the script.\n",
        "\n",
        "!sh appy_s06_sqlite_00_38.sh"
      ],
      "metadata": {
        "id": "J71hEo0BsyJ7"
      },
      "execution_count": null,
      "outputs": []
    },
    {
      "cell_type": "code",
      "source": [
        "# Run this cell to show the source code of the script.\n",
        "\n",
        "!cat appy_s06_sqlite_00_39.sh"
      ],
      "metadata": {
        "id": "OeK11x4Os29y"
      },
      "execution_count": null,
      "outputs": []
    },
    {
      "cell_type": "code",
      "source": [
        "# Run this cell to execute the script.\n",
        "\n",
        "!sh appy_s06_sqlite_00_39.sh"
      ],
      "metadata": {
        "id": "jrPjLC_Ls29z"
      },
      "execution_count": null,
      "outputs": []
    },
    {
      "cell_type": "code",
      "source": [
        "# Run this cell to find newly created file.\n",
        "\n",
        "!ls -lF *.csv"
      ],
      "metadata": {
        "id": "yK2BQK5o-1rd"
      },
      "execution_count": null,
      "outputs": []
    },
    {
      "cell_type": "code",
      "source": [
        "# Run this cell to find data type of newly created file.\n",
        "\n",
        "!file new.csv"
      ],
      "metadata": {
        "id": "HEkm-oH0-423"
      },
      "execution_count": null,
      "outputs": []
    },
    {
      "cell_type": "code",
      "source": [
        "# Run this cell to show the contents of newly created file.\n",
        "\n",
        "!cat new.csv"
      ],
      "metadata": {
        "id": "B68U42CE-8em"
      },
      "execution_count": null,
      "outputs": []
    },
    {
      "cell_type": "markdown",
      "source": [
        "# Your name"
      ],
      "metadata": {
        "id": "kuceBCVepuUK"
      }
    },
    {
      "cell_type": "code",
      "source": [
        "# Run this cell to enter your name.\n",
        "\n",
        "# getting your name and student ID\n",
        "my_name = input (\"What is your name? \")\n",
        "my_id = input (\"What is your student ID? \")\n",
        "\n",
        "# printing your name and student ID\n",
        "print (f'')\n",
        "print (f'Name: {my_name}')\n",
        "print (f\"Student ID: {my_id}\")\n",
        "print (f'')\n",
        "\n",
        "# importing datetime module\n",
        "import datetime\n",
        "\n",
        "# getting current datetime\n",
        "now = datetime.datetime.now ()\n",
        "\n",
        "# printing curent date/time\n",
        "print (f'date/time = {now} (UT)')\n",
        "\n",
        "# importing random module\n",
        "import random\n",
        "\n",
        "# generating a random number\n",
        "n = random.randint (0, 1000000)\n",
        "print (f\"{n}\")\n",
        "\n",
        "# printing name of operating system\n",
        "import sys\n",
        "import os\n",
        "print (f'system platoform = {sys.platform}')\n",
        "print (f'operating system = {os.uname ().sysname} {os.uname ().nodename} {os.uname ().release} {os.uname ().version} {os.uname ().machine}')"
      ],
      "metadata": {
        "id": "sGEg2LzupuUP"
      },
      "execution_count": null,
      "outputs": []
    },
    {
      "cell_type": "markdown",
      "source": [
        "# 4. Constructing elements database"
      ],
      "metadata": {
        "id": "IURcbZIk_GIL"
      }
    },
    {
      "cell_type": "markdown",
      "source": [
        "## 4.1 Downloading a CSV file"
      ],
      "metadata": {
        "id": "hMf5yKAv_Jdj"
      }
    },
    {
      "cell_type": "code",
      "source": [
        "# Run this cell to show the source code of the script.\n",
        "\n",
        "!cat appy_s06_01_00.py"
      ],
      "metadata": {
        "id": "J6m--ykm_B3e"
      },
      "execution_count": null,
      "outputs": []
    },
    {
      "cell_type": "code",
      "source": [
        "# Run this cell to execute the script.\n",
        "\n",
        "!python3.13 appy_s06_01_00.py"
      ],
      "metadata": {
        "id": "O8PcsreI_RLu"
      },
      "execution_count": null,
      "outputs": []
    },
    {
      "cell_type": "code",
      "source": [
        "# Run this cell to find newly downloaded file.\n",
        "\n",
        "!ls -lF *.csv"
      ],
      "metadata": {
        "id": "bqLMFmHX_Yu1"
      },
      "execution_count": null,
      "outputs": []
    },
    {
      "cell_type": "code",
      "source": [
        "# Run this cell to find data type of newly downloaded file.\n",
        "\n",
        "!file periodictable.csv"
      ],
      "metadata": {
        "id": "CNZ08xPe_c3f"
      },
      "execution_count": null,
      "outputs": []
    },
    {
      "cell_type": "code",
      "source": [
        "# run this cell to show first 20 lines of newly downloaded file.\n",
        "\n",
        "!head -20 periodictable.csv | cut -b -80"
      ],
      "metadata": {
        "id": "48ndqocW_iEI"
      },
      "execution_count": null,
      "outputs": []
    },
    {
      "cell_type": "markdown",
      "source": [
        "## 4.2 Creating a table for elements database"
      ],
      "metadata": {
        "id": "9KxOrwli_tv2"
      }
    },
    {
      "cell_type": "code",
      "source": [
        "# Run this cell to show the source code of the script.\n",
        "\n",
        "!cat appy_s06_sqlite_01_00.sh"
      ],
      "metadata": {
        "id": "FViON4yhtHjr"
      },
      "execution_count": null,
      "outputs": []
    },
    {
      "cell_type": "code",
      "source": [
        "# Run this cell to execute the script.\n",
        "\n",
        "!sh appy_s06_sqlite_01_00.sh"
      ],
      "metadata": {
        "id": "ZyF9J9lbtHjv"
      },
      "execution_count": null,
      "outputs": []
    },
    {
      "cell_type": "code",
      "source": [
        "# Run this cell to find newly created file.\n",
        "\n",
        "!ls -lF *.db"
      ],
      "metadata": {
        "id": "c3z8Tuuxy1__"
      },
      "execution_count": null,
      "outputs": []
    },
    {
      "cell_type": "code",
      "source": [
        "# Run this cell to show the source code of the script.\n",
        "\n",
        "!cat appy_s06_sqlite_01_01.sh"
      ],
      "metadata": {
        "id": "ZUhROH53te2S"
      },
      "execution_count": null,
      "outputs": []
    },
    {
      "cell_type": "code",
      "source": [
        "# Run this cell to execute the script.\n",
        "\n",
        "!sh appy_s06_sqlite_01_01.sh"
      ],
      "metadata": {
        "id": "Ri3BFpPite2U"
      },
      "execution_count": null,
      "outputs": []
    },
    {
      "cell_type": "markdown",
      "source": [
        "## 4.3 Importing CSV file and constructing database"
      ],
      "metadata": {
        "id": "8TUSgoN6ACvz"
      }
    },
    {
      "cell_type": "code",
      "source": [
        "# Run this cell to show the source code of the script.\n",
        "\n",
        "!cat appy_s06_sqlite_01_02.sh"
      ],
      "metadata": {
        "id": "gaUualp2tkUE"
      },
      "execution_count": null,
      "outputs": []
    },
    {
      "cell_type": "code",
      "source": [
        "# Run this cell to execute the script.\n",
        "\n",
        "!sh appy_s06_sqlite_01_02.sh"
      ],
      "metadata": {
        "id": "NOO6h3hktkUG"
      },
      "execution_count": null,
      "outputs": []
    },
    {
      "cell_type": "markdown",
      "source": [
        "## 4.4 Trying SQL queries"
      ],
      "metadata": {
        "id": "xfXZpzG-AO1b"
      }
    },
    {
      "cell_type": "code",
      "source": [
        "# Run this cell to show the source code of the script.\n",
        "\n",
        "!cat appy_s06_sqlite_01_03.sh"
      ],
      "metadata": {
        "id": "FO6loMRIuOsJ"
      },
      "execution_count": null,
      "outputs": []
    },
    {
      "cell_type": "code",
      "source": [
        "# Run this cell to execute the script.\n",
        "\n",
        "!sh appy_s06_sqlite_01_03.sh"
      ],
      "metadata": {
        "id": "-X27nVhBuOsL"
      },
      "execution_count": null,
      "outputs": []
    },
    {
      "cell_type": "code",
      "source": [
        "# Run this cell to show the source code of the script.\n",
        "\n",
        "!cat appy_s06_sqlite_01_04.sh"
      ],
      "metadata": {
        "id": "aLbWfiEruZ7C"
      },
      "execution_count": null,
      "outputs": []
    },
    {
      "cell_type": "code",
      "source": [
        "# Run this cell to execute the script.\n",
        "\n",
        "!sh appy_s06_sqlite_01_04.sh"
      ],
      "metadata": {
        "id": "6hxMFMYnuZ7D"
      },
      "execution_count": null,
      "outputs": []
    },
    {
      "cell_type": "code",
      "source": [
        "# Run this cell to show the source code of the script.\n",
        "\n",
        "!cat appy_s06_sqlite_01_05.sh"
      ],
      "metadata": {
        "id": "Q7Ul32P_udOw"
      },
      "execution_count": null,
      "outputs": []
    },
    {
      "cell_type": "code",
      "source": [
        "# Run this cell to execute the script.\n",
        "\n",
        "!sh appy_s06_sqlite_01_05.sh"
      ],
      "metadata": {
        "id": "tLvGrPiIudOx"
      },
      "execution_count": null,
      "outputs": []
    },
    {
      "cell_type": "markdown",
      "source": [
        "# 5. Constructing a database from Bright Star Catalogue"
      ],
      "metadata": {
        "id": "-iobjVbkAuQN"
      }
    },
    {
      "cell_type": "markdown",
      "source": [
        "## 5.1 Downloading the catalogue"
      ],
      "metadata": {
        "id": "8GZcbExKAx6M"
      }
    },
    {
      "cell_type": "code",
      "source": [
        "# Run this cell to show the source code of the script.\n",
        "\n",
        "!cat appy_s06_02_00.py"
      ],
      "metadata": {
        "id": "wdFyUt_VA9a9"
      },
      "execution_count": null,
      "outputs": []
    },
    {
      "cell_type": "code",
      "source": [
        "# Run this cell to execute the script.\n",
        "\n",
        "!python3.13 appy_s06_02_00.py"
      ],
      "metadata": {
        "id": "3b0Tc9MmAq14"
      },
      "execution_count": null,
      "outputs": []
    },
    {
      "cell_type": "code",
      "source": [
        "# Find newly downloaded file.\n",
        "\n",
        "!ls -lF *.gz"
      ],
      "metadata": {
        "id": "4hul-oCsBFFJ"
      },
      "execution_count": null,
      "outputs": []
    },
    {
      "cell_type": "code",
      "source": [
        "# Find data type of newly downloaded file.\n",
        "\n",
        "!file bsc5.data.gz"
      ],
      "metadata": {
        "id": "Zncnks_eBKwI"
      },
      "execution_count": null,
      "outputs": []
    },
    {
      "cell_type": "code",
      "source": [
        "# Run this cell to show the source code of the script.\n",
        "\n",
        "!cat appy_s06_02_01.py"
      ],
      "metadata": {
        "id": "uskP99LKBOK6"
      },
      "execution_count": null,
      "outputs": []
    },
    {
      "cell_type": "code",
      "source": [
        "# Run this cell to execute the script.\n",
        "\n",
        "!python3.13 appy_s06_02_01.py"
      ],
      "metadata": {
        "id": "NwVlKsbRBUR5"
      },
      "execution_count": null,
      "outputs": []
    },
    {
      "cell_type": "code",
      "source": [
        "# Find newly downloaded file.\n",
        "\n",
        "!ls -lF bsc5.*"
      ],
      "metadata": {
        "id": "pYmu7d51BYD4"
      },
      "execution_count": null,
      "outputs": []
    },
    {
      "cell_type": "code",
      "source": [
        "# Find data type of newly downloaded file.\n",
        "\n",
        "!file bsc5.readme"
      ],
      "metadata": {
        "id": "QJ7UbYs_Bbp6"
      },
      "execution_count": null,
      "outputs": []
    },
    {
      "cell_type": "code",
      "source": [
        "# Run this cell to show first 20 lines of newly downloaded file.\n",
        "\n",
        "!head -20 bsc5.readme"
      ],
      "metadata": {
        "id": "UYITeXnJBfao"
      },
      "execution_count": null,
      "outputs": []
    },
    {
      "cell_type": "code",
      "source": [
        "# Run this cell to print byte-by-byte description of the data file.\n",
        "\n",
        "!head -141 bsc5.readme | tail -65"
      ],
      "metadata": {
        "id": "hQoDFqg0u4f_"
      },
      "execution_count": null,
      "outputs": []
    },
    {
      "cell_type": "markdown",
      "source": [
        "## 5.2 Reading Bright Star Catalogue"
      ],
      "metadata": {
        "id": "ESxv2t0_BpHW"
      }
    },
    {
      "cell_type": "code",
      "source": [
        "# Run this cell to show the source code of the script.\n",
        "\n",
        "!cat appy_s06_02_02.py"
      ],
      "metadata": {
        "id": "TisYBrdZBlY6"
      },
      "execution_count": null,
      "outputs": []
    },
    {
      "cell_type": "code",
      "source": [
        "# Run this cell to execute the script.\n",
        "\n",
        "!python3.13 appy_s06_02_02.py"
      ],
      "metadata": {
        "id": "uhpSUZmFBuu4"
      },
      "execution_count": null,
      "outputs": []
    },
    {
      "cell_type": "code",
      "source": [
        "# Run this cell to check extracted data.\n",
        "\n",
        "!head -30 bsc5_extracted.data"
      ],
      "metadata": {
        "id": "SXfxkgixB2DB"
      },
      "execution_count": null,
      "outputs": []
    },
    {
      "cell_type": "markdown",
      "source": [
        "## 5.3 Making a SQL file to generate a database"
      ],
      "metadata": {
        "id": "8FdaK1msB-YP"
      }
    },
    {
      "cell_type": "code",
      "source": [
        "# Run this cell to show the source code of the script.\n",
        "\n",
        "!cat appy_s06_02_03.py"
      ],
      "metadata": {
        "id": "c6sQAy8eB77y"
      },
      "execution_count": null,
      "outputs": []
    },
    {
      "cell_type": "code",
      "source": [
        "# Run this cell to execute the script.\n",
        "\n",
        "!python3.13 appy_s06_02_03.py"
      ],
      "metadata": {
        "id": "y1sLgFWwCIya"
      },
      "execution_count": null,
      "outputs": []
    },
    {
      "cell_type": "code",
      "source": [
        "# Run this cell to find newly created file.\n",
        "\n",
        "!ls -lF *.sql"
      ],
      "metadata": {
        "id": "iRTjDogyCQbz"
      },
      "execution_count": null,
      "outputs": []
    },
    {
      "cell_type": "code",
      "source": [
        "# Run this cell to show the contents of newly created file.\n",
        "\n",
        "!head -20 bsc5_makedb.sql | cut -b -80"
      ],
      "metadata": {
        "id": "IejVz8RMCTW6"
      },
      "execution_count": null,
      "outputs": []
    },
    {
      "cell_type": "markdown",
      "source": [
        "## 5.4 Executing SQL file to make BSC database"
      ],
      "metadata": {
        "id": "CKRrPxerCo1v"
      }
    },
    {
      "cell_type": "code",
      "source": [
        "# Run this cell to show the source code of the script.\n",
        "\n",
        "!cat appy_s06_sqlite_02_00.sh"
      ],
      "metadata": {
        "id": "Lz-t_G3-wkrY"
      },
      "execution_count": null,
      "outputs": []
    },
    {
      "cell_type": "code",
      "source": [
        "# Run this cell to execute the script.\n",
        "\n",
        "!sh appy_s06_sqlite_02_00.sh"
      ],
      "metadata": {
        "id": "0dK5wwKTwkrd"
      },
      "execution_count": null,
      "outputs": []
    },
    {
      "cell_type": "code",
      "source": [
        "# Run this cell to find database file.\n",
        "\n",
        "!ls -lF *.db"
      ],
      "metadata": {
        "id": "GXc6DM6Ux49f"
      },
      "execution_count": null,
      "outputs": []
    },
    {
      "cell_type": "code",
      "source": [
        "# Run this cell to show the source code of the script.\n",
        "\n",
        "!cat appy_s06_sqlite_02_01.sh"
      ],
      "metadata": {
        "id": "BLNmgW6ux_S9"
      },
      "execution_count": null,
      "outputs": []
    },
    {
      "cell_type": "code",
      "source": [
        "# Run this cell to execute the script.\n",
        "\n",
        "!sh appy_s06_sqlite_02_01.sh"
      ],
      "metadata": {
        "id": "e20s_2yax_S9"
      },
      "execution_count": null,
      "outputs": []
    },
    {
      "cell_type": "markdown",
      "source": [
        "## 5.5 Trying some SQL queries"
      ],
      "metadata": {
        "id": "ZzUFWfY5DHJI"
      }
    },
    {
      "cell_type": "code",
      "source": [
        "# Run this cell to show the source code of the script.\n",
        "\n",
        "!cat appy_s06_sqlite_02_02.sh"
      ],
      "metadata": {
        "id": "Yv7h1LICyE9z"
      },
      "execution_count": null,
      "outputs": []
    },
    {
      "cell_type": "code",
      "source": [
        "# Run this cell to execute the script.\n",
        "\n",
        "!sh appy_s06_sqlite_02_02.sh"
      ],
      "metadata": {
        "id": "SV69ernhyE90"
      },
      "execution_count": null,
      "outputs": []
    },
    {
      "cell_type": "code",
      "source": [
        "# Run this cell to show the source code of the script.\n",
        "\n",
        "!cat appy_s06_sqlite_02_03.sh"
      ],
      "metadata": {
        "id": "t-Kw2ThuyKnj"
      },
      "execution_count": null,
      "outputs": []
    },
    {
      "cell_type": "code",
      "source": [
        "# Run this cell to execute the script.\n",
        "\n",
        "!sh appy_s06_sqlite_02_03.sh"
      ],
      "metadata": {
        "id": "_AsRx7vLyKnl"
      },
      "execution_count": null,
      "outputs": []
    },
    {
      "cell_type": "code",
      "source": [
        "# Run this cell to show the source code of the script.\n",
        "\n",
        "!cat appy_s06_sqlite_02_04.sh"
      ],
      "metadata": {
        "id": "Eo8mfI4byPGT"
      },
      "execution_count": null,
      "outputs": []
    },
    {
      "cell_type": "code",
      "source": [
        "# Run this cell to execute the script.\n",
        "\n",
        "!sh appy_s06_sqlite_02_04.sh"
      ],
      "metadata": {
        "id": "UF_SINicyPGV"
      },
      "execution_count": null,
      "outputs": []
    },
    {
      "cell_type": "code",
      "source": [
        "# Run this cell to show the source code of the script.\n",
        "\n",
        "!cat appy_s06_sqlite_02_05.sh"
      ],
      "metadata": {
        "id": "AvnmUVavyVhx"
      },
      "execution_count": null,
      "outputs": []
    },
    {
      "cell_type": "code",
      "source": [
        "# Run this cell to execute the script.\n",
        "\n",
        "!sh appy_s06_sqlite_02_05.sh"
      ],
      "metadata": {
        "id": "0I5-lMENyVhz"
      },
      "execution_count": null,
      "outputs": []
    },
    {
      "cell_type": "markdown",
      "source": [
        "# 6. Making a database from Hipparcos catalogue"
      ],
      "metadata": {
        "id": "bB7wmq1zDnFA"
      }
    },
    {
      "cell_type": "markdown",
      "source": [
        "## 6.1 Downloading Hipparcos catalogue"
      ],
      "metadata": {
        "id": "mvhD8kc0DqlR"
      }
    },
    {
      "cell_type": "code",
      "source": [
        "# Run this cell to show the source code of the script.\n",
        "\n",
        "!cat appy_s06_03_00.py"
      ],
      "metadata": {
        "id": "hTbVa8wGDkgD"
      },
      "execution_count": null,
      "outputs": []
    },
    {
      "cell_type": "code",
      "source": [
        "# Run this cell to execute the script.\n",
        "\n",
        "!python3.13 appy_s06_03_00.py"
      ],
      "metadata": {
        "id": "kPLBSHe7D2kT"
      },
      "execution_count": null,
      "outputs": []
    },
    {
      "cell_type": "code",
      "source": [
        "# Run this cell to find newly downloaded file.\n",
        "\n",
        "!ls -lF *.cat"
      ],
      "metadata": {
        "id": "4nP32egqD6hb"
      },
      "execution_count": null,
      "outputs": []
    },
    {
      "cell_type": "code",
      "source": [
        "# Run this cell to find data type of newly downloaded file.\n",
        "\n",
        "!file hip.cat"
      ],
      "metadata": {
        "id": "ENT8sO2lEAEe"
      },
      "execution_count": null,
      "outputs": []
    },
    {
      "cell_type": "code",
      "source": [
        "# Run this cell to show first 20 lines of newly downloaded file.\n",
        "\n",
        "!head -20 hip.cat"
      ],
      "metadata": {
        "id": "_sYXMVChEEm7"
      },
      "execution_count": null,
      "outputs": []
    },
    {
      "cell_type": "code",
      "source": [
        "# Run this cell to show the source code of the script.\n",
        "\n",
        "!cat appy_s06_03_01.py"
      ],
      "metadata": {
        "id": "RPzDaVxOEK6r"
      },
      "execution_count": null,
      "outputs": []
    },
    {
      "cell_type": "code",
      "source": [
        "# Run this cell to execute the script.\n",
        "\n",
        "!python3.13 appy_s06_03_01.py"
      ],
      "metadata": {
        "id": "O6f19Y16EV_D"
      },
      "execution_count": null,
      "outputs": []
    },
    {
      "cell_type": "code",
      "source": [
        "# Run this cell to find newly downloaded file.\n",
        "\n",
        "!ls -lF hip.*"
      ],
      "metadata": {
        "id": "9J6slbFeEaU7"
      },
      "execution_count": null,
      "outputs": []
    },
    {
      "cell_type": "code",
      "source": [
        "# Run this cell to find data type of newly downloaded file.\n",
        "\n",
        "!file hip.readme"
      ],
      "metadata": {
        "id": "HMl0QV3fEfJ0"
      },
      "execution_count": null,
      "outputs": []
    },
    {
      "cell_type": "code",
      "source": [
        "# Run this cell to show first 20 lines of newly downloaded file.\n",
        "\n",
        "!head -20 hip.readme"
      ],
      "metadata": {
        "id": "_IVyg4nbEjbT"
      },
      "execution_count": null,
      "outputs": []
    },
    {
      "cell_type": "markdown",
      "source": [
        "## 6.2 Reading Hipparcos catalogue"
      ],
      "metadata": {
        "id": "siL6456YErpV"
      }
    },
    {
      "cell_type": "code",
      "source": [
        "# Run this cell to show the source code of the script.\n",
        "\n",
        "!cat appy_s06_03_02.py"
      ],
      "metadata": {
        "id": "u6qbaD7tEo0s"
      },
      "execution_count": null,
      "outputs": []
    },
    {
      "cell_type": "code",
      "source": [
        "# Run this cell to execute the script.\n",
        "\n",
        "!python3.13 appy_s06_03_02.py"
      ],
      "metadata": {
        "id": "KkI9TjOcE3Fc"
      },
      "execution_count": null,
      "outputs": []
    },
    {
      "cell_type": "code",
      "source": [
        "# Run this cell to find newly created file.\n",
        "\n",
        "!ls -lF hip*"
      ],
      "metadata": {
        "id": "WujcoLBzE8qd"
      },
      "execution_count": null,
      "outputs": []
    },
    {
      "cell_type": "code",
      "source": [
        "# Run this cell to find data type of newly created file.\n",
        "\n",
        "!file hip_extracted.data"
      ],
      "metadata": {
        "id": "BDPsmIrcFBXs"
      },
      "execution_count": null,
      "outputs": []
    },
    {
      "cell_type": "code",
      "source": [
        "# Run this cell to show first 20 lines of newly created file.\n",
        "\n",
        "!head -20 hip_extracted.data"
      ],
      "metadata": {
        "id": "xUF9-BW7FGBX"
      },
      "execution_count": null,
      "outputs": []
    },
    {
      "cell_type": "markdown",
      "source": [
        "## 6.3 Constructing SQLite database table using Python script"
      ],
      "metadata": {
        "id": "SPJ2qGgkFMn0"
      }
    },
    {
      "cell_type": "code",
      "source": [
        "# Run this cell to show the source code of the script.\n",
        "\n",
        "!cat appy_s06_03_03.py"
      ],
      "metadata": {
        "id": "zvSoO-IBFKzm"
      },
      "execution_count": null,
      "outputs": []
    },
    {
      "cell_type": "code",
      "source": [
        "# Run this cell to execute the script.\n",
        "\n",
        "!python3.13 appy_s06_03_03.py"
      ],
      "metadata": {
        "id": "Cdoa-OvOFUFm"
      },
      "execution_count": null,
      "outputs": []
    },
    {
      "cell_type": "code",
      "source": [
        "# Run this cell to find newly created file.\n",
        "\n",
        "!ls -lF hip*"
      ],
      "metadata": {
        "id": "jGhUciLJFaHe"
      },
      "execution_count": null,
      "outputs": []
    },
    {
      "cell_type": "code",
      "source": [
        "# Run this cell to show the source code of the script.\n",
        "\n",
        "!cat appy_s06_sqlite_03_00.sh"
      ],
      "metadata": {
        "id": "1vDpQBDdzEUU"
      },
      "execution_count": null,
      "outputs": []
    },
    {
      "cell_type": "code",
      "source": [
        "# Run this cell to execute the script.\n",
        "\n",
        "!sh appy_s06_sqlite_03_00.sh"
      ],
      "metadata": {
        "id": "rw-uwx9UzEUX"
      },
      "execution_count": null,
      "outputs": []
    },
    {
      "cell_type": "code",
      "source": [
        "# Run this cell to show the source code of the script.\n",
        "\n",
        "!cat appy_s06_sqlite_03_01.sh"
      ],
      "metadata": {
        "id": "z6F5NCEXzJQs"
      },
      "execution_count": null,
      "outputs": []
    },
    {
      "cell_type": "code",
      "source": [
        "# Run this cell to execute the script.\n",
        "\n",
        "!sh appy_s06_sqlite_03_01.sh"
      ],
      "metadata": {
        "id": "Ecef62VlzJQt"
      },
      "execution_count": null,
      "outputs": []
    },
    {
      "cell_type": "markdown",
      "source": [
        "## 6.4 Adding data to table using Python script"
      ],
      "metadata": {
        "id": "Q0disjlFF0ld"
      }
    },
    {
      "cell_type": "code",
      "source": [
        "# Run this cell to show the source code of the script.\n",
        "\n",
        "!cat appy_s06_03_04.py"
      ],
      "metadata": {
        "id": "zoVEOtTKFvMh"
      },
      "execution_count": null,
      "outputs": []
    },
    {
      "cell_type": "code",
      "source": [
        "# Run this cell to execute the script.\n",
        "\n",
        "!python3.13 appy_s06_03_04.py"
      ],
      "metadata": {
        "id": "cyHFhvxdGUpv"
      },
      "execution_count": null,
      "outputs": []
    },
    {
      "cell_type": "code",
      "source": [
        "# Run this cell to show file size of the database file.\n",
        "\n",
        "!ls -lF hip*"
      ],
      "metadata": {
        "id": "KOg_K_z7GZF2"
      },
      "execution_count": null,
      "outputs": []
    },
    {
      "cell_type": "code",
      "source": [
        "# Run this cell to show the source code of the script.\n",
        "\n",
        "!cat appy_s06_sqlite_03_02.sh"
      ],
      "metadata": {
        "id": "KxnpjAanzdjY"
      },
      "execution_count": null,
      "outputs": []
    },
    {
      "cell_type": "code",
      "source": [
        "# Run this cell to execute the script.\n",
        "\n",
        "!sh appy_s06_sqlite_03_02.sh"
      ],
      "metadata": {
        "id": "axcuxJdTzdjZ"
      },
      "execution_count": null,
      "outputs": []
    },
    {
      "cell_type": "code",
      "source": [
        "# Run this cell to show the source code of the script.\n",
        "\n",
        "!cat appy_s06_sqlite_03_03.sh"
      ],
      "metadata": {
        "id": "VRoKDTAZzjA_"
      },
      "execution_count": null,
      "outputs": []
    },
    {
      "cell_type": "code",
      "source": [
        "# Run this cell to execute the script.\n",
        "\n",
        "!sh appy_s06_sqlite_03_03.sh"
      ],
      "metadata": {
        "id": "4VMMBcZMzjBE"
      },
      "execution_count": null,
      "outputs": []
    },
    {
      "cell_type": "markdown",
      "source": [
        "## 6.5 Trying a SQL query using Python script"
      ],
      "metadata": {
        "id": "qX7go_bWG9DT"
      }
    },
    {
      "cell_type": "code",
      "source": [
        "# Run this cell to show the source code of the script.\n",
        "\n",
        "!cat appy_s06_03_05.py"
      ],
      "metadata": {
        "id": "R24e1rmmG4oW"
      },
      "execution_count": null,
      "outputs": []
    },
    {
      "cell_type": "code",
      "source": [
        "# Run this cell to execute the script.\n",
        "\n",
        "!python3.13 appy_s06_03_05.py"
      ],
      "metadata": {
        "id": "fIyNp5PlHEka"
      },
      "execution_count": null,
      "outputs": []
    },
    {
      "cell_type": "markdown",
      "source": [
        "## 6.6 Trying one more SQL query"
      ],
      "metadata": {
        "id": "-k-RLyecHMu9"
      }
    },
    {
      "cell_type": "code",
      "source": [
        "# Run this cell to show the source code of the script.\n",
        "\n",
        "!cat appy_s06_03_06.py"
      ],
      "metadata": {
        "id": "nHZwLJ_pHJU_"
      },
      "execution_count": null,
      "outputs": []
    },
    {
      "cell_type": "code",
      "source": [
        "# Run this cell to execute the script.\n",
        "\n",
        "!python3.13 appy_s06_03_06.py"
      ],
      "metadata": {
        "id": "ckRmoIDAHZrp"
      },
      "execution_count": null,
      "outputs": []
    },
    {
      "cell_type": "markdown",
      "source": [
        "# 7. Making asteroid orbit database"
      ],
      "metadata": {
        "id": "vRvsPwrzHguA"
      }
    },
    {
      "cell_type": "markdown",
      "source": [
        "## 7.1 Downloading asteroid orbit catalogue"
      ],
      "metadata": {
        "id": "tcuQ-7F5HkQQ"
      }
    },
    {
      "cell_type": "code",
      "source": [
        "# Run this cell to show the source code of the script.\n",
        "\n",
        "!cat appy_s06_04_00.py"
      ],
      "metadata": {
        "id": "EqTbe4BBHeUI"
      },
      "execution_count": null,
      "outputs": []
    },
    {
      "cell_type": "code",
      "source": [
        "# Run this cell to execute the script.\n",
        "\n",
        "!python3.13 appy_s06_04_00.py"
      ],
      "metadata": {
        "id": "BqfigIAPHsC3"
      },
      "execution_count": null,
      "outputs": []
    },
    {
      "cell_type": "code",
      "source": [
        "# Run this cell to find newly downloaded file.\n",
        "\n",
        "!ls -lF *.gz"
      ],
      "metadata": {
        "id": "r69NWoO41GLj"
      },
      "execution_count": null,
      "outputs": []
    },
    {
      "cell_type": "code",
      "source": [
        "# Run this cell to check the file type of \"mpcorb.data.gz\".\n",
        "\n",
        "!file mpcorb.data.gz"
      ],
      "metadata": {
        "id": "NEDfRBk51Kw5"
      },
      "execution_count": null,
      "outputs": []
    },
    {
      "cell_type": "markdown",
      "source": [
        "## 7.2 Reading asteroid orbit catalogue"
      ],
      "metadata": {
        "id": "135Tp9hfH8Nn"
      }
    },
    {
      "cell_type": "code",
      "source": [
        "# Run this cell to show the source code of the script.\n",
        "\n",
        "!cat appy_s06_04_01.py"
      ],
      "metadata": {
        "id": "VXTSt5gsHwg2"
      },
      "execution_count": null,
      "outputs": []
    },
    {
      "cell_type": "code",
      "source": [
        "# Run this cell to execute the script.\n",
        "\n",
        "!python3.13 appy_s06_04_01.py"
      ],
      "metadata": {
        "id": "-l6HMVX8ICur"
      },
      "execution_count": null,
      "outputs": []
    },
    {
      "cell_type": "code",
      "source": [
        "# Run this cell to find newly created file.\n",
        "\n",
        "!ls -lF mpcorb*"
      ],
      "metadata": {
        "id": "PfT1K0rhIHKv"
      },
      "execution_count": null,
      "outputs": []
    },
    {
      "cell_type": "code",
      "source": [
        "# Run this cell to find data type of newly created file.\n",
        "\n",
        "!file mpcorb_extracted.data"
      ],
      "metadata": {
        "id": "Z6C4TMzuIi1o"
      },
      "execution_count": null,
      "outputs": []
    },
    {
      "cell_type": "code",
      "source": [
        "# Run this cell to show first 20 lines of newly created file.\n",
        "\n",
        "!head -20 mpcorb_extracted.data"
      ],
      "metadata": {
        "id": "Q9xsRtFuInbo"
      },
      "execution_count": null,
      "outputs": []
    },
    {
      "cell_type": "markdown",
      "source": [
        "## 7.3 Constructing asteroid orbit database"
      ],
      "metadata": {
        "id": "K4sS8EF_IwSQ"
      }
    },
    {
      "cell_type": "code",
      "source": [
        "# Run this cell to show the source code of the script.\n",
        "\n",
        "!cat appy_s06_04_02.py"
      ],
      "metadata": {
        "id": "sG0T2Ha7IsrB"
      },
      "execution_count": null,
      "outputs": []
    },
    {
      "cell_type": "code",
      "source": [
        "# Run this cell to execute the script.\n",
        "\n",
        "!python3.13 appy_s06_04_02.py"
      ],
      "metadata": {
        "id": "MdIFACyqI2ra"
      },
      "execution_count": null,
      "outputs": []
    },
    {
      "cell_type": "code",
      "source": [
        "# Run this cell to find newly created file.\n",
        "\n",
        "!ls -lF mpcorb*"
      ],
      "metadata": {
        "id": "qNcIx4U4I7Ox"
      },
      "execution_count": null,
      "outputs": []
    },
    {
      "cell_type": "code",
      "source": [
        "# Run this cell to find data type of newly created file.\n",
        "\n",
        "!file mpcorb.db"
      ],
      "metadata": {
        "id": "e1we4cSZJIrk"
      },
      "execution_count": null,
      "outputs": []
    },
    {
      "cell_type": "code",
      "source": [
        "# Run this cell to show the source code of the script.\n",
        "\n",
        "!cat appy_s06_sqlite_04_00.sh"
      ],
      "metadata": {
        "id": "UFZ_LGMc0Sfa"
      },
      "execution_count": null,
      "outputs": []
    },
    {
      "cell_type": "code",
      "source": [
        "# Run this cell to execute the script.\n",
        "\n",
        "!sh appy_s06_sqlite_04_00.sh"
      ],
      "metadata": {
        "id": "comOrD_Q0Sff"
      },
      "execution_count": null,
      "outputs": []
    },
    {
      "cell_type": "code",
      "source": [
        "# Run this cell to show the source code of the script.\n",
        "\n",
        "!cat appy_s06_sqlite_04_01.sh"
      ],
      "metadata": {
        "id": "d7usPhUQ0WzF"
      },
      "execution_count": null,
      "outputs": []
    },
    {
      "cell_type": "code",
      "source": [
        "# Run this cell to execute the script.\n",
        "\n",
        "!sh appy_s06_sqlite_04_01.sh"
      ],
      "metadata": {
        "id": "zF2HNqXH0WzK"
      },
      "execution_count": null,
      "outputs": []
    },
    {
      "cell_type": "code",
      "source": [
        "# Run this cell to show the source code of the script.\n",
        "\n",
        "!cat appy_s06_sqlite_04_02.sh"
      ],
      "metadata": {
        "id": "M0CQz8OP0an1"
      },
      "execution_count": null,
      "outputs": []
    },
    {
      "cell_type": "code",
      "source": [
        "# Run this cell to execute the script.\n",
        "\n",
        "!sh appy_s06_sqlite_04_02.sh"
      ],
      "metadata": {
        "id": "0OQUs9NJ0an2"
      },
      "execution_count": null,
      "outputs": []
    },
    {
      "cell_type": "markdown",
      "source": [
        "## 7.4 Trying some SQL queries"
      ],
      "metadata": {
        "id": "_oOtp1J3J2im"
      }
    },
    {
      "cell_type": "code",
      "source": [
        "# Run this cell to show the source code of the script.\n",
        "\n",
        "!cat appy_s06_04_03.py"
      ],
      "metadata": {
        "id": "GAQNCWcRJzI0"
      },
      "execution_count": null,
      "outputs": []
    },
    {
      "cell_type": "code",
      "source": [
        "# Run this cell to execute the script.\n",
        "\n",
        "!python3.13 appy_s06_04_03.py"
      ],
      "metadata": {
        "id": "6hyu5C_EJ87v"
      },
      "execution_count": null,
      "outputs": []
    },
    {
      "cell_type": "code",
      "source": [
        "# Run this cell to show the source code of the script.\n",
        "\n",
        "!cat appy_s06_04_04.py"
      ],
      "metadata": {
        "id": "Zw9nT6XTKJvu"
      },
      "execution_count": null,
      "outputs": []
    },
    {
      "cell_type": "code",
      "source": [
        "# Run this cell to execute the script.\n",
        "\n",
        "!python3.13 appy_s06_04_04.py"
      ],
      "metadata": {
        "id": "j4Vv-fqJKJvw"
      },
      "execution_count": null,
      "outputs": []
    },
    {
      "cell_type": "markdown",
      "source": [
        "# 8. Making deep sky objects database"
      ],
      "metadata": {
        "id": "zKsyKUny2bIi"
      }
    },
    {
      "cell_type": "markdown",
      "source": [
        "## 8.1 Downloading data"
      ],
      "metadata": {
        "id": "8DWx1JYQ2fL8"
      }
    },
    {
      "cell_type": "code",
      "source": [
        "# Run this cell to show the source code of the script.\n",
        "\n",
        "!cat appy_s06_05_00.py"
      ],
      "metadata": {
        "id": "w9Aloat-2ms7"
      },
      "execution_count": null,
      "outputs": []
    },
    {
      "cell_type": "code",
      "source": [
        "# Run this cell to execute the script.\n",
        "\n",
        "!python3.13 appy_s06_05_00.py"
      ],
      "metadata": {
        "id": "qheWhofu2ms8"
      },
      "execution_count": null,
      "outputs": []
    },
    {
      "cell_type": "code",
      "source": [
        "# Run this cell to find newly downloaded file.\n",
        "\n",
        "!ls -lF *.data"
      ],
      "metadata": {
        "id": "qRSol1Rn2qXi"
      },
      "execution_count": null,
      "outputs": []
    },
    {
      "cell_type": "code",
      "source": [
        "# Run this cell to check file type of newly downloaded file.\n",
        "\n",
        "!file ngc2000.data"
      ],
      "metadata": {
        "id": "Js9LeiiA2wJX"
      },
      "execution_count": null,
      "outputs": []
    },
    {
      "cell_type": "code",
      "source": [
        "# Run this cell to show first 20 lines of newly downloaded file.\n",
        "\n",
        "!head -20 ngc2000.data"
      ],
      "metadata": {
        "id": "ed1nYovU20nx"
      },
      "execution_count": null,
      "outputs": []
    },
    {
      "cell_type": "code",
      "source": [
        "# Run this cell to show the source code of the script.\n",
        "\n",
        "!cat appy_s06_05_01.py"
      ],
      "metadata": {
        "id": "QVII1pDs290w"
      },
      "execution_count": null,
      "outputs": []
    },
    {
      "cell_type": "code",
      "source": [
        "# Run this cell to execute the script.\n",
        "\n",
        "!python3.13 appy_s06_05_01.py"
      ],
      "metadata": {
        "id": "fGI4XTtC290y"
      },
      "execution_count": null,
      "outputs": []
    },
    {
      "cell_type": "code",
      "source": [
        "# Run this cell to find newly downloaded file.\n",
        "\n",
        "!ls -lF ngc2000*"
      ],
      "metadata": {
        "id": "Yuyip2FN2900"
      },
      "execution_count": null,
      "outputs": []
    },
    {
      "cell_type": "code",
      "source": [
        "# Run this cell to check file type of newly downloaded file.\n",
        "\n",
        "!file ngc2000.readme"
      ],
      "metadata": {
        "id": "tEIHRgRy2901"
      },
      "execution_count": null,
      "outputs": []
    },
    {
      "cell_type": "code",
      "source": [
        "# Run this cell to show first 20 lines of newly downloaded file.\n",
        "\n",
        "!head -20 ngc2000.readme"
      ],
      "metadata": {
        "id": "RhurArzw2903"
      },
      "execution_count": null,
      "outputs": []
    },
    {
      "cell_type": "markdown",
      "source": [
        "## 8.2 Reading NGC 2000.0 catalogue"
      ],
      "metadata": {
        "id": "enkMsMQr3R5S"
      }
    },
    {
      "cell_type": "code",
      "source": [
        "# Run this cell to show the source code of the script.\n",
        "\n",
        "!cat appy_s06_05_02.py"
      ],
      "metadata": {
        "id": "kgCz2jzx3R5T"
      },
      "execution_count": null,
      "outputs": []
    },
    {
      "cell_type": "code",
      "source": [
        "# Run this cell to execute the script.\n",
        "\n",
        "!python3.13 appy_s06_05_02.py"
      ],
      "metadata": {
        "id": "Nl_eYb7t3R5T"
      },
      "execution_count": null,
      "outputs": []
    },
    {
      "cell_type": "code",
      "source": [
        "# Run this cell to find newly created file.\n",
        "\n",
        "!ls -lF ngc2000*"
      ],
      "metadata": {
        "id": "krT9ACWj3R5U"
      },
      "execution_count": null,
      "outputs": []
    },
    {
      "cell_type": "code",
      "source": [
        "# Run this cell to find data type of newly created file.\n",
        "\n",
        "!file ngc2000_extracted.data"
      ],
      "metadata": {
        "id": "5cU_MCs53R5U"
      },
      "execution_count": null,
      "outputs": []
    },
    {
      "cell_type": "code",
      "source": [
        "# Run this cell to show first 20 lines of newly created file.\n",
        "\n",
        "!head -20 ngc2000_extracted.data"
      ],
      "metadata": {
        "id": "A61GN_cE3R5V"
      },
      "execution_count": null,
      "outputs": []
    },
    {
      "cell_type": "markdown",
      "source": [
        "## 8.3 Constructing SQLite database table using Python script"
      ],
      "metadata": {
        "id": "wAjh_TnT316k"
      }
    },
    {
      "cell_type": "code",
      "source": [
        "# Run this cell to show the source code of the script.\n",
        "\n",
        "!cat appy_s06_05_03.py"
      ],
      "metadata": {
        "id": "gLj15qXz316l"
      },
      "execution_count": null,
      "outputs": []
    },
    {
      "cell_type": "code",
      "source": [
        "# Run this cell to execute the script.\n",
        "\n",
        "!python3.13 appy_s06_05_03.py"
      ],
      "metadata": {
        "id": "G96yL5sN316m"
      },
      "execution_count": null,
      "outputs": []
    },
    {
      "cell_type": "code",
      "source": [
        "# Run this cell to find newly created file.\n",
        "\n",
        "!ls -lF ngc2000*"
      ],
      "metadata": {
        "id": "AIhI3Ijm316m"
      },
      "execution_count": null,
      "outputs": []
    },
    {
      "cell_type": "code",
      "source": [
        "# Run this cell to find data type of newly created file.\n",
        "\n",
        "!file ngc2000.db"
      ],
      "metadata": {
        "id": "PAYSolSq316p"
      },
      "execution_count": null,
      "outputs": []
    },
    {
      "cell_type": "code",
      "source": [
        "# Run this cell to show the source code of the script.\n",
        "\n",
        "!cat appy_s06_sqlite_05_00.sh"
      ],
      "metadata": {
        "id": "rW5Q0fTK1IpZ"
      },
      "execution_count": null,
      "outputs": []
    },
    {
      "cell_type": "code",
      "source": [
        "# Run this cell to execute the script.\n",
        "\n",
        "!sh appy_s06_sqlite_05_00.sh"
      ],
      "metadata": {
        "id": "7JtkYcvF1Ipd"
      },
      "execution_count": null,
      "outputs": []
    },
    {
      "cell_type": "code",
      "source": [
        "# Run this cell to show the source code of the script.\n",
        "\n",
        "!cat appy_s06_sqlite_05_01.sh"
      ],
      "metadata": {
        "id": "jrUUBKUo1NTB"
      },
      "execution_count": null,
      "outputs": []
    },
    {
      "cell_type": "code",
      "source": [
        "# Run this cell to execute the script.\n",
        "\n",
        "!sh appy_s06_sqlite_05_01.sh"
      ],
      "metadata": {
        "id": "0OBIGXcX1NTE"
      },
      "execution_count": null,
      "outputs": []
    },
    {
      "cell_type": "markdown",
      "source": [
        "## 8.4 Adding data to table using Python script"
      ],
      "metadata": {
        "id": "nAn0ubZu4Kni"
      }
    },
    {
      "cell_type": "code",
      "source": [
        "# Run this cell to show the source code of the script.\n",
        "\n",
        "!cat appy_s06_05_04.py"
      ],
      "metadata": {
        "id": "oKpCUVqo4QCl"
      },
      "execution_count": null,
      "outputs": []
    },
    {
      "cell_type": "code",
      "source": [
        "# Run this cell to execute the script.\n",
        "\n",
        "!python3.13 appy_s06_05_04.py"
      ],
      "metadata": {
        "id": "uWTrWoBM4QCm"
      },
      "execution_count": null,
      "outputs": []
    },
    {
      "cell_type": "code",
      "source": [
        "# Run this cell to find database file.\n",
        "\n",
        "!ls -lF ngc2000*"
      ],
      "metadata": {
        "id": "HpvR1B9U1Wgd"
      },
      "execution_count": null,
      "outputs": []
    },
    {
      "cell_type": "code",
      "source": [
        "# Run this cell to show the source code of the script.\n",
        "\n",
        "!cat appy_s06_sqlite_05_02.sh"
      ],
      "metadata": {
        "id": "NLTGyctP1b3x"
      },
      "execution_count": null,
      "outputs": []
    },
    {
      "cell_type": "code",
      "source": [
        "# Run this cell to execute the script.\n",
        "\n",
        "!sh appy_s06_sqlite_05_02.sh"
      ],
      "metadata": {
        "id": "Oq-UyHO01b3y"
      },
      "execution_count": null,
      "outputs": []
    },
    {
      "cell_type": "markdown",
      "source": [
        "## 8.5 Trying a SQL query using Python script"
      ],
      "metadata": {
        "id": "6p4rJr_94nnj"
      }
    },
    {
      "cell_type": "code",
      "source": [
        "# Run this cell to show the source code of the script.\n",
        "\n",
        "!cat appy_s06_05_05.py"
      ],
      "metadata": {
        "id": "J_Mzy-yR4v-s"
      },
      "execution_count": null,
      "outputs": []
    },
    {
      "cell_type": "code",
      "source": [
        "# Run this cell to execute the script.\n",
        "\n",
        "!python3.13 appy_s06_05_05.py"
      ],
      "metadata": {
        "id": "KXaKhMbt4v-s"
      },
      "execution_count": null,
      "outputs": []
    },
    {
      "cell_type": "markdown",
      "source": [
        "# End of this notebook"
      ],
      "metadata": {
        "id": "VugG_XAjxPfo"
      }
    },
    {
      "cell_type": "code",
      "source": [],
      "metadata": {
        "id": "nCyPhewprWMi"
      },
      "execution_count": null,
      "outputs": []
    }
  ]
}