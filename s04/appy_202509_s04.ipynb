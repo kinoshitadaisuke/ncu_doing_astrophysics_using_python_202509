{
  "nbformat": 4,
  "nbformat_minor": 0,
  "metadata": {
    "colab": {
      "provenance": []
    },
    "kernelspec": {
      "name": "python3",
      "display_name": "Python 3"
    },
    "language_info": {
      "name": "python"
    }
  },
  "cells": [
    {
      "cell_type": "markdown",
      "source": [
        "# Doing Astrophysics using Python\n",
        "\n",
        "- \"Doing Astrophysics using Python\"\n",
        "  - Instructor: Kinoshita Daisuke\n",
        "  - Classroom: S4-202\n",
        "  - Time: from 13:00 to 15:50 on Wednesday\n",
        "  - Semester: 1st semester of academic year 2025\n",
        "    - from September 2025 to December 2025\n",
        "  - Course web page: https://s3b.astro.ncu.edu.tw/appy_202509/\n",
        "  - GitHub repository: https://github.com/kinoshitadaisuke/ncu_doing_astrophysics_using_python_202509\n"
      ],
      "metadata": {
        "id": "gGzI83b9PmnI"
      }
    },
    {
      "cell_type": "markdown",
      "source": [
        "# Session 04: \"Visualisation of data using Matplotlib\"\n",
        "\n",
        "## 24 September 2025\n",
        "\n",
        "## Instructor: Kinoshita Daisuke"
      ],
      "metadata": {
        "id": "Q7MvlbrC_tne"
      }
    },
    {
      "cell_type": "markdown",
      "source": [
        "# Your name"
      ],
      "metadata": {
        "id": "1i7LDa-jfRGO"
      }
    },
    {
      "cell_type": "code",
      "source": [
        "# Run this cell to enter your name.\n",
        "\n",
        "# getting your name and student ID\n",
        "my_name = input (\"What is your name? \")\n",
        "my_id = input (\"What is your student ID? \")\n",
        "\n",
        "# printing your name and student ID\n",
        "print (f'')\n",
        "print (f'Name: {my_name}')\n",
        "print (f\"Student ID: {my_id}\")\n",
        "print (f'')\n",
        "\n",
        "# importing datetime module\n",
        "import datetime\n",
        "\n",
        "# getting current datetime\n",
        "now = datetime.datetime.now ()\n",
        "\n",
        "# printing curent date/time\n",
        "print (f'date/time = {now} (UT)')\n",
        "\n",
        "# importing random module\n",
        "import random\n",
        "\n",
        "# generating a random number\n",
        "n = random.randint (0, 1000000)\n",
        "print (f\"{n}\")\n",
        "\n",
        "# printing name of operating system\n",
        "import sys\n",
        "import os\n",
        "print (f'system platoform = {sys.platform}')\n",
        "print (f'operating system = {os.uname ().sysname} {os.uname ().nodename} {os.uname ().release} {os.uname ().version} {os.uname ().machine}')"
      ],
      "metadata": {
        "id": "YwfYDKEaRoP9"
      },
      "execution_count": null,
      "outputs": []
    },
    {
      "cell_type": "markdown",
      "source": [
        "# 0. Installation of Python interpreter"
      ],
      "metadata": {
        "id": "T_y7rto6Q5P8"
      }
    },
    {
      "cell_type": "code",
      "source": [
        "# Run this cell to install Python 3.12\n",
        "\n",
        "!apt update\n",
        "!apt upgrade\n",
        "!apt install python3.13 python3.13-dev python3.13-full libpython3.13-dev\n",
        "!update-alternatives --install /usr/bin/python3 python3 /usr/bin/python3.13 1\n",
        "!wget https://bootstrap.pypa.io/get-pip.py\n",
        "!python3.13 get-pip.py"
      ],
      "metadata": {
        "id": "MzmVLkC8QyGZ"
      },
      "execution_count": null,
      "outputs": []
    },
    {
      "cell_type": "code",
      "source": [
        "# Run this cell to check the version of Python interpreter and pip command\n",
        "\n",
        "!python3.13 --version\n",
        "!pip --version"
      ],
      "metadata": {
        "id": "Vx-JYTyp3NMU"
      },
      "execution_count": null,
      "outputs": []
    },
    {
      "cell_type": "code",
      "source": [
        "# Run this cell to install external Python modules necessary for this session.\n",
        "\n",
        "!pip install matplotlib astropy astroquery jplephem ipykernel importlib_metadata"
      ],
      "metadata": {
        "id": "tuHWEXqxOQV-"
      },
      "execution_count": null,
      "outputs": []
    },
    {
      "cell_type": "markdown",
      "source": [
        "# 1. Downloading a set of sample Python scripts for this course"
      ],
      "metadata": {
        "id": "zvKZRFoF8A8k"
      }
    },
    {
      "cell_type": "code",
      "source": [
        "# Run this cell to download a set of sample Python scripts for this course.\n",
        "\n",
        "!git clone https://github.com/kinoshitadaisuke/ncu_doing_astrophysics_using_python_202509.git"
      ],
      "metadata": {
        "id": "itsUqwak4-z4"
      },
      "execution_count": null,
      "outputs": []
    },
    {
      "cell_type": "code",
      "source": [
        "# Run this cell to move to the directory for this session.\n",
        "\n",
        "%cd ncu_doing_astrophysics_using_python_202509/s04"
      ],
      "metadata": {
        "id": "bREyxIP08RZG"
      },
      "execution_count": null,
      "outputs": []
    },
    {
      "cell_type": "code",
      "source": [
        "# Run this cell to show a list of files for this session.\n",
        "\n",
        "!ls -lF"
      ],
      "metadata": {
        "id": "fKxQ_X-D8dRN"
      },
      "execution_count": null,
      "outputs": []
    },
    {
      "cell_type": "markdown",
      "source": [
        "# Matplotlib APIs"
      ],
      "metadata": {
        "id": "Y_MNz0MkHuK-"
      }
    },
    {
      "cell_type": "markdown",
      "source": [
        "## Making a plot using implicit pyplot interface"
      ],
      "metadata": {
        "id": "Ms7MJl_AHwme"
      }
    },
    {
      "cell_type": "code",
      "source": [
        "# Run this cell to show the source code of the script.\n",
        "\n",
        "!cat appy_s04_00_00.py"
      ],
      "metadata": {
        "id": "H_J3NjKAHvoY"
      },
      "execution_count": null,
      "outputs": []
    },
    {
      "cell_type": "code",
      "source": [
        "# Run this cell to execute the script.\n",
        "\n",
        "!python3.13 appy_s04_00_00.py -h"
      ],
      "metadata": {
        "id": "Gm1nCva6H5mR"
      },
      "execution_count": null,
      "outputs": []
    },
    {
      "cell_type": "code",
      "source": [
        "# Run this cell to execute the script.\n",
        "\n",
        "!python3.13 appy_s04_00_00.py -o appy_s04_00_00.png"
      ],
      "metadata": {
        "id": "jyJ64TmNJYAg"
      },
      "execution_count": null,
      "outputs": []
    },
    {
      "cell_type": "code",
      "source": [
        "# Run this cell to display a PNG image.\n",
        "\n",
        "# importing IPython module\n",
        "import IPython.display\n",
        "\n",
        "# displaying image\n",
        "IPython.display.Image ('appy_s04_00_00.png')"
      ],
      "metadata": {
        "id": "-rN3n7aNIAHY"
      },
      "execution_count": null,
      "outputs": []
    },
    {
      "cell_type": "markdown",
      "source": [
        "## Making a plot using explicit Axes interface"
      ],
      "metadata": {
        "id": "eAMlMQ1TI2D6"
      }
    },
    {
      "cell_type": "code",
      "source": [
        "# Run this cell to show the source code of the script.\n",
        "\n",
        "!cat appy_s04_00_01.py"
      ],
      "metadata": {
        "id": "KBE2MQtGI2D-"
      },
      "execution_count": null,
      "outputs": []
    },
    {
      "cell_type": "code",
      "source": [
        "# Run this cell to execute the script.\n",
        "\n",
        "!python3.13 appy_s04_00_01.py -h"
      ],
      "metadata": {
        "id": "tweNCcxfJcCC"
      },
      "execution_count": null,
      "outputs": []
    },
    {
      "cell_type": "code",
      "source": [
        "# Run this cell to execute the script.\n",
        "\n",
        "!python3.13 appy_s04_00_01.py -o appy_s04_00_01.png"
      ],
      "metadata": {
        "id": "QNRfbGNRI2D_"
      },
      "execution_count": null,
      "outputs": []
    },
    {
      "cell_type": "code",
      "source": [
        "# Run this cell to display a PNG image.\n",
        "\n",
        "# importing IPython module\n",
        "import IPython.display\n",
        "\n",
        "# displaying image\n",
        "IPython.display.Image ('appy_s04_00_01.png')"
      ],
      "metadata": {
        "id": "Q9RpmLbYI2EA"
      },
      "execution_count": null,
      "outputs": []
    },
    {
      "cell_type": "code",
      "source": [
        "# Run this cell to show the source code of the script.\n",
        "\n",
        "!cat appy_s04_00_02.py"
      ],
      "metadata": {
        "id": "CwhlGrOpJpDS"
      },
      "execution_count": null,
      "outputs": []
    },
    {
      "cell_type": "code",
      "source": [
        "# Run this cell to execute the script.\n",
        "\n",
        "!python3.13 appy_s04_00_02.py -h"
      ],
      "metadata": {
        "id": "Wv1LgtboJpDW"
      },
      "execution_count": null,
      "outputs": []
    },
    {
      "cell_type": "code",
      "source": [
        "# Run this cell to execute the script.\n",
        "\n",
        "!python3.13 appy_s04_00_02.py -o appy_s04_00_02.png"
      ],
      "metadata": {
        "id": "g5-FbOb9JpDX"
      },
      "execution_count": null,
      "outputs": []
    },
    {
      "cell_type": "code",
      "source": [
        "# Run this cell to display a PNG image.\n",
        "\n",
        "# importing IPython module\n",
        "import IPython.display\n",
        "\n",
        "# displaying image\n",
        "IPython.display.Image ('appy_s04_00_02.png')"
      ],
      "metadata": {
        "id": "wBK6taF2JpDX"
      },
      "execution_count": null,
      "outputs": []
    },
    {
      "cell_type": "markdown",
      "source": [
        "## Making a plot using object-oriented interface"
      ],
      "metadata": {
        "id": "72bSHOc5J3-7"
      }
    },
    {
      "cell_type": "code",
      "source": [
        "# Run this cell to show the source code of the script.\n",
        "\n",
        "!cat appy_s04_00_03.py"
      ],
      "metadata": {
        "id": "hjVGyjcpJ3-8"
      },
      "execution_count": null,
      "outputs": []
    },
    {
      "cell_type": "code",
      "source": [
        "# Run this cell to execute the script.\n",
        "\n",
        "!python3.13 appy_s04_00_03.py -h"
      ],
      "metadata": {
        "id": "WAiM71dEJ3-9"
      },
      "execution_count": null,
      "outputs": []
    },
    {
      "cell_type": "code",
      "source": [
        "# Run this cell to execute the script.\n",
        "\n",
        "!python3.13 appy_s04_00_03.py -o appy_s04_00_03.png"
      ],
      "metadata": {
        "id": "KUln5YOIJ3--"
      },
      "execution_count": null,
      "outputs": []
    },
    {
      "cell_type": "code",
      "source": [
        "# Run this cell to display a PNG image.\n",
        "\n",
        "# importing IPython module\n",
        "import IPython.display\n",
        "\n",
        "# displaying image\n",
        "IPython.display.Image ('appy_s04_00_03.png')"
      ],
      "metadata": {
        "id": "pXbnGfPyJ3-_"
      },
      "execution_count": null,
      "outputs": []
    },
    {
      "cell_type": "markdown",
      "source": [
        "# Plotting lines and curves"
      ],
      "metadata": {
        "id": "-SHz7vEoKG-w"
      }
    },
    {
      "cell_type": "markdown",
      "source": [
        "## Plotting a line"
      ],
      "metadata": {
        "id": "kzVQ2kxJKJYn"
      }
    },
    {
      "cell_type": "code",
      "source": [
        "# Run this cell to show the source code of the script.\n",
        "\n",
        "!cat appy_s04_01_00.py"
      ],
      "metadata": {
        "id": "r-cihVy1KOvC"
      },
      "execution_count": null,
      "outputs": []
    },
    {
      "cell_type": "code",
      "source": [
        "# Run this cell to execute the script.\n",
        "\n",
        "!python3.13 appy_s04_01_00.py -h"
      ],
      "metadata": {
        "id": "wcShYBZbKOvD"
      },
      "execution_count": null,
      "outputs": []
    },
    {
      "cell_type": "code",
      "source": [
        "# Run this cell to execute the script.\n",
        "\n",
        "!python3.13 appy_s04_01_00.py -o appy_s04_01_00.png -r 150"
      ],
      "metadata": {
        "id": "HYP6FlsRKOvD"
      },
      "execution_count": null,
      "outputs": []
    },
    {
      "cell_type": "code",
      "source": [
        "# Run this cell to display a PNG image.\n",
        "\n",
        "# importing IPython module\n",
        "import IPython.display\n",
        "\n",
        "# displaying image\n",
        "IPython.display.Image ('appy_s04_01_00.png')"
      ],
      "metadata": {
        "id": "gIu6DITgKOvE"
      },
      "execution_count": null,
      "outputs": []
    },
    {
      "cell_type": "markdown",
      "source": [
        "## Plotting a curve"
      ],
      "metadata": {
        "id": "WJmgY8M9Khwf"
      }
    },
    {
      "cell_type": "code",
      "source": [
        "# Run this cell to show the source code of the script.\n",
        "\n",
        "!cat appy_s04_01_01.py"
      ],
      "metadata": {
        "id": "bikjE6D9Kk9C"
      },
      "execution_count": null,
      "outputs": []
    },
    {
      "cell_type": "code",
      "source": [
        "# Run this cell to execute the script.\n",
        "\n",
        "!python3.13 appy_s04_01_01.py -h"
      ],
      "metadata": {
        "id": "ZbQxThQIKk9E"
      },
      "execution_count": null,
      "outputs": []
    },
    {
      "cell_type": "code",
      "source": [
        "# Run this cell to execute the script.\n",
        "\n",
        "!python3.13 appy_s04_01_01.py -o appy_s04_01_01.png -r 200"
      ],
      "metadata": {
        "id": "F-K004qOKk9E"
      },
      "execution_count": null,
      "outputs": []
    },
    {
      "cell_type": "code",
      "source": [
        "# Run this cell to display a PNG image.\n",
        "\n",
        "# importing IPython module\n",
        "import IPython.display\n",
        "\n",
        "# displaying image\n",
        "IPython.display.Image ('appy_s04_01_01.png')"
      ],
      "metadata": {
        "id": "bCm2mqD7Kk9E"
      },
      "execution_count": null,
      "outputs": []
    },
    {
      "cell_type": "markdown",
      "source": [
        "## Plotting a sine curve"
      ],
      "metadata": {
        "id": "Rbi4DklmKsti"
      }
    },
    {
      "cell_type": "code",
      "source": [
        "# Run this cell to show the source code of the script.\n",
        "\n",
        "!cat appy_s04_01_02.py"
      ],
      "metadata": {
        "id": "TCw4-tffKwzU"
      },
      "execution_count": null,
      "outputs": []
    },
    {
      "cell_type": "code",
      "source": [
        "# Run this cell to execute the script.\n",
        "\n",
        "!python3.13 appy_s04_01_02.py -h"
      ],
      "metadata": {
        "id": "Kog37inHKwzV"
      },
      "execution_count": null,
      "outputs": []
    },
    {
      "cell_type": "code",
      "source": [
        "# Run this cell to execute the script.\n",
        "\n",
        "!python3.13 appy_s04_01_02.py -o appy_s04_01_02.png -r 300"
      ],
      "metadata": {
        "id": "a7Z7LtMeKwzW"
      },
      "execution_count": null,
      "outputs": []
    },
    {
      "cell_type": "code",
      "source": [
        "# Run this cell to display a PNG image.\n",
        "\n",
        "# importing IPython module\n",
        "import IPython.display\n",
        "\n",
        "# displaying image\n",
        "IPython.display.Image ('appy_s04_01_02.png')"
      ],
      "metadata": {
        "id": "Hudv7twzKwzX"
      },
      "execution_count": null,
      "outputs": []
    },
    {
      "cell_type": "markdown",
      "source": [
        "## Plotting a circle"
      ],
      "metadata": {
        "id": "qKvZE57sK6NG"
      }
    },
    {
      "cell_type": "code",
      "source": [
        "# Run this cell to show the source code of the script.\n",
        "\n",
        "!cat appy_s04_01_03.py"
      ],
      "metadata": {
        "id": "XEs5tuKyK-GW"
      },
      "execution_count": null,
      "outputs": []
    },
    {
      "cell_type": "code",
      "source": [
        "# Run this cell to execute the script.\n",
        "\n",
        "!python3.13 appy_s04_01_03.py -h"
      ],
      "metadata": {
        "id": "zieyoXyUK-GZ"
      },
      "execution_count": null,
      "outputs": []
    },
    {
      "cell_type": "code",
      "source": [
        "# Run this cell to execute the script.\n",
        "\n",
        "!python3.13 appy_s04_01_03.py -o appy_s04_01_03.png -r 250"
      ],
      "metadata": {
        "id": "cGnj2ReNK-Gb"
      },
      "execution_count": null,
      "outputs": []
    },
    {
      "cell_type": "code",
      "source": [
        "# Run this cell to display a PNG image.\n",
        "\n",
        "# importing IPython module\n",
        "import IPython.display\n",
        "\n",
        "# displaying image\n",
        "IPython.display.Image ('appy_s04_01_03.png')"
      ],
      "metadata": {
        "id": "81YB_RWYK-Gd"
      },
      "execution_count": null,
      "outputs": []
    },
    {
      "cell_type": "markdown",
      "source": [
        "## Plotting multiple lines/curves"
      ],
      "metadata": {
        "id": "1s9myrB-LGob"
      }
    },
    {
      "cell_type": "code",
      "source": [
        "# Run this cell to show the source code of the script.\n",
        "\n",
        "!cat appy_s04_01_04.py"
      ],
      "metadata": {
        "id": "52P6Y4ClLKzm"
      },
      "execution_count": null,
      "outputs": []
    },
    {
      "cell_type": "code",
      "source": [
        "# Run this cell to execute the script.\n",
        "\n",
        "!python3.13 appy_s04_01_04.py -h"
      ],
      "metadata": {
        "id": "5KGwAfodLKzq"
      },
      "execution_count": null,
      "outputs": []
    },
    {
      "cell_type": "code",
      "source": [
        "# Run this cell to execute the script.\n",
        "\n",
        "!python3.13 appy_s04_01_04.py -o appy_s04_01_04.png -r 400"
      ],
      "metadata": {
        "id": "xhFQbX4bLKzt"
      },
      "execution_count": null,
      "outputs": []
    },
    {
      "cell_type": "code",
      "source": [
        "# Run this cell to display a PNG image.\n",
        "\n",
        "# importing IPython module\n",
        "import IPython.display\n",
        "\n",
        "# displaying image\n",
        "IPython.display.Image ('appy_s04_01_04.png')"
      ],
      "metadata": {
        "id": "dGap_68yLKzv"
      },
      "execution_count": null,
      "outputs": []
    },
    {
      "cell_type": "code",
      "source": [
        "# Run this cell to show the source code of the script.\n",
        "\n",
        "!cat appy_s04_01_05.py"
      ],
      "metadata": {
        "id": "TfUsMvz5LVoJ"
      },
      "execution_count": null,
      "outputs": []
    },
    {
      "cell_type": "code",
      "source": [
        "# Run this cell to execute the script.\n",
        "\n",
        "!python3.13 appy_s04_01_05.py -h"
      ],
      "metadata": {
        "id": "5hLaXX5BLVoU"
      },
      "execution_count": null,
      "outputs": []
    },
    {
      "cell_type": "code",
      "source": [
        "# Run this cell to execute the script.\n",
        "\n",
        "!python3.13 appy_s04_01_05.py -o appy_s04_01_05.png -r 450"
      ],
      "metadata": {
        "id": "pAK_56pdLVoW"
      },
      "execution_count": null,
      "outputs": []
    },
    {
      "cell_type": "code",
      "source": [
        "# Run this cell to display a PNG image.\n",
        "\n",
        "# importing IPython module\n",
        "import IPython.display\n",
        "\n",
        "# displaying image\n",
        "IPython.display.Image ('appy_s04_01_05.png')"
      ],
      "metadata": {
        "id": "dqMr6jujLVoX"
      },
      "execution_count": null,
      "outputs": []
    },
    {
      "cell_type": "markdown",
      "source": [
        "# Changing properties of lines/curves"
      ],
      "metadata": {
        "id": "0UBC7CNALiK5"
      }
    },
    {
      "cell_type": "markdown",
      "source": [
        "## Changing colours of lines/curves"
      ],
      "metadata": {
        "id": "hV1QkYqBLle8"
      }
    },
    {
      "cell_type": "code",
      "source": [
        "# Run this cell to show the source code of the script.\n",
        "\n",
        "!cat appy_s04_02_00.py"
      ],
      "metadata": {
        "id": "nVfYmPXeLtsi"
      },
      "execution_count": null,
      "outputs": []
    },
    {
      "cell_type": "code",
      "source": [
        "# Run this cell to execute the script.\n",
        "\n",
        "!python3.13 appy_s04_02_00.py -h"
      ],
      "metadata": {
        "id": "Zw5Q-Z5ILtss"
      },
      "execution_count": null,
      "outputs": []
    },
    {
      "cell_type": "code",
      "source": [
        "# Run this cell to execute the script.\n",
        "\n",
        "!python3.13 appy_s04_02_00.py -o appy_s04_02_00.png -r 225"
      ],
      "metadata": {
        "id": "oYClkzm7Ltsu"
      },
      "execution_count": null,
      "outputs": []
    },
    {
      "cell_type": "code",
      "source": [
        "# Run this cell to display a PNG image.\n",
        "\n",
        "# importing IPython module\n",
        "import IPython.display\n",
        "\n",
        "# displaying image\n",
        "IPython.display.Image ('appy_s04_02_00.png')"
      ],
      "metadata": {
        "id": "IIbor7K0Ltsv"
      },
      "execution_count": null,
      "outputs": []
    },
    {
      "cell_type": "markdown",
      "source": [
        "## Changing line styles"
      ],
      "metadata": {
        "id": "bhEscp2fL7Wg"
      }
    },
    {
      "cell_type": "code",
      "source": [
        "# Run this cell to show the source code of the script.\n",
        "\n",
        "!cat appy_s04_02_01.py"
      ],
      "metadata": {
        "id": "y10aU5bGL_hD"
      },
      "execution_count": null,
      "outputs": []
    },
    {
      "cell_type": "code",
      "source": [
        "# Run this cell to execute the script.\n",
        "\n",
        "!python3.13 appy_s04_02_01.py -h"
      ],
      "metadata": {
        "id": "PFQ0PSkmL_hH"
      },
      "execution_count": null,
      "outputs": []
    },
    {
      "cell_type": "code",
      "source": [
        "# Run this cell to execute the script.\n",
        "\n",
        "!python3.13 appy_s04_02_01.py -o appy_s04_02_01.png -r 150"
      ],
      "metadata": {
        "id": "3SwR2qgHL_hJ"
      },
      "execution_count": null,
      "outputs": []
    },
    {
      "cell_type": "code",
      "source": [
        "# Run this cell to display a PNG image.\n",
        "\n",
        "# importing IPython module\n",
        "import IPython.display\n",
        "\n",
        "# displaying image\n",
        "IPython.display.Image ('appy_s04_02_01.png')"
      ],
      "metadata": {
        "id": "DgKjfCjQL_hL"
      },
      "execution_count": null,
      "outputs": []
    },
    {
      "cell_type": "markdown",
      "source": [
        "## Changing line width"
      ],
      "metadata": {
        "id": "RzTQ5XAOMIae"
      }
    },
    {
      "cell_type": "code",
      "source": [
        "# Run this cell to show the source code of the script.\n",
        "\n",
        "!cat appy_s04_02_02.py"
      ],
      "metadata": {
        "id": "MZxwkdYLML0M"
      },
      "execution_count": null,
      "outputs": []
    },
    {
      "cell_type": "code",
      "source": [
        "# Run this cell to execute the script.\n",
        "\n",
        "!python3.13 appy_s04_02_02.py -h"
      ],
      "metadata": {
        "id": "Mjd1nrgqML0S"
      },
      "execution_count": null,
      "outputs": []
    },
    {
      "cell_type": "code",
      "source": [
        "# Run this cell to execute the script.\n",
        "\n",
        "!python3.13 appy_s04_02_02.py -o appy_s04_02_02.png -r 150"
      ],
      "metadata": {
        "id": "a7EyYtcEML0W"
      },
      "execution_count": null,
      "outputs": []
    },
    {
      "cell_type": "code",
      "source": [
        "# Run this cell to display a PNG image.\n",
        "\n",
        "# importing IPython module\n",
        "import IPython.display\n",
        "\n",
        "# displaying image\n",
        "IPython.display.Image ('appy_s04_02_02.png')"
      ],
      "metadata": {
        "id": "Wh34m6FyML0Z"
      },
      "execution_count": null,
      "outputs": []
    },
    {
      "cell_type": "markdown",
      "source": [
        "## Specifying favourite colour, line style, and line width"
      ],
      "metadata": {
        "id": "z4FOT6G5MXAy"
      }
    },
    {
      "cell_type": "code",
      "source": [
        "# Run this cell to show the source code of the script.\n",
        "\n",
        "!cat appy_s04_02_03.py"
      ],
      "metadata": {
        "id": "tU8kcGHwMcMl"
      },
      "execution_count": null,
      "outputs": []
    },
    {
      "cell_type": "code",
      "source": [
        "# Run this cell to execute the script.\n",
        "\n",
        "!python3.13 appy_s04_02_03.py -h"
      ],
      "metadata": {
        "id": "61tIWiTsMcMp"
      },
      "execution_count": null,
      "outputs": []
    },
    {
      "cell_type": "code",
      "source": [
        "# Run this cell to execute the script.\n",
        "\n",
        "!python3.13 appy_s04_02_03.py -o appy_s04_02_03.png -r 150"
      ],
      "metadata": {
        "id": "fnbBkLbZMcMs"
      },
      "execution_count": null,
      "outputs": []
    },
    {
      "cell_type": "code",
      "source": [
        "# Run this cell to display a PNG image.\n",
        "\n",
        "# importing IPython module\n",
        "import IPython.display\n",
        "\n",
        "# displaying image\n",
        "IPython.display.Image ('appy_s04_02_03.png')"
      ],
      "metadata": {
        "id": "P8DLbC7GMcMv"
      },
      "execution_count": null,
      "outputs": []
    },
    {
      "cell_type": "markdown",
      "source": [
        "# Plotting data points"
      ],
      "metadata": {
        "id": "5ua8gYioMkWC"
      }
    },
    {
      "cell_type": "markdown",
      "source": [
        "## Plotting a data point"
      ],
      "metadata": {
        "id": "C7uBGgQtMmbp"
      }
    },
    {
      "cell_type": "code",
      "source": [
        "# Run this cell to show the source code of the script.\n",
        "\n",
        "!cat appy_s04_03_00.py"
      ],
      "metadata": {
        "id": "IsrwXACmMrGW"
      },
      "execution_count": null,
      "outputs": []
    },
    {
      "cell_type": "code",
      "source": [
        "# Run this cell to execute the script.\n",
        "\n",
        "!python3.13 appy_s04_03_00.py -h"
      ],
      "metadata": {
        "id": "9tGMxQ00MrGj"
      },
      "execution_count": null,
      "outputs": []
    },
    {
      "cell_type": "code",
      "source": [
        "# Run this cell to execute the script.\n",
        "\n",
        "!python3.13 appy_s04_03_00.py -o appy_s04_03_00.png -r 150"
      ],
      "metadata": {
        "id": "qK9lDnTgMrGn"
      },
      "execution_count": null,
      "outputs": []
    },
    {
      "cell_type": "code",
      "source": [
        "# Run this cell to display a PNG image.\n",
        "\n",
        "# importing IPython module\n",
        "import IPython.display\n",
        "\n",
        "# displaying image\n",
        "IPython.display.Image ('appy_s04_03_00.png')"
      ],
      "metadata": {
        "id": "389Qghd4MrGo"
      },
      "execution_count": null,
      "outputs": []
    },
    {
      "cell_type": "markdown",
      "source": [
        "## Plotting multiple data points"
      ],
      "metadata": {
        "id": "p6V1WVNgM0nT"
      }
    },
    {
      "cell_type": "code",
      "source": [
        "# Run this cell to show the source code of the script.\n",
        "\n",
        "!cat appy_s04_03_01.py"
      ],
      "metadata": {
        "id": "QWsCOrn4M4dp"
      },
      "execution_count": null,
      "outputs": []
    },
    {
      "cell_type": "code",
      "source": [
        "# Run this cell to execute the script.\n",
        "\n",
        "!python3.13 appy_s04_03_01.py -h"
      ],
      "metadata": {
        "id": "LhfYo6y2M4du"
      },
      "execution_count": null,
      "outputs": []
    },
    {
      "cell_type": "code",
      "source": [
        "# Run this cell to execute the script.\n",
        "\n",
        "!python3.13 appy_s04_03_01.py -o appy_s04_03_01.png -r 150"
      ],
      "metadata": {
        "id": "LYACiVgeM4dw"
      },
      "execution_count": null,
      "outputs": []
    },
    {
      "cell_type": "code",
      "source": [
        "# Run this cell to display a PNG image.\n",
        "\n",
        "# importing IPython module\n",
        "import IPython.display\n",
        "\n",
        "# displaying image\n",
        "IPython.display.Image ('appy_s04_03_01.png')"
      ],
      "metadata": {
        "id": "krqoeqljM4dy"
      },
      "execution_count": null,
      "outputs": []
    },
    {
      "cell_type": "code",
      "source": [
        "# Run this cell to show the source code of the script.\n",
        "\n",
        "!cat appy_s04_03_02.py"
      ],
      "metadata": {
        "id": "xnf2B5mGNBHn"
      },
      "execution_count": null,
      "outputs": []
    },
    {
      "cell_type": "code",
      "source": [
        "# Run this cell to execute the script.\n",
        "\n",
        "!python3.13 appy_s04_03_02.py -h"
      ],
      "metadata": {
        "id": "lopUj43INBH0"
      },
      "execution_count": null,
      "outputs": []
    },
    {
      "cell_type": "code",
      "source": [
        "# Run this cell to execute the script.\n",
        "\n",
        "!python3.13 appy_s04_03_02.py -o appy_s04_03_02.png -r 150"
      ],
      "metadata": {
        "id": "TSvmQt5ENBH3"
      },
      "execution_count": null,
      "outputs": []
    },
    {
      "cell_type": "code",
      "source": [
        "# Run this cell to display a PNG image.\n",
        "\n",
        "# importing IPython module\n",
        "import IPython.display\n",
        "\n",
        "# displaying image\n",
        "IPython.display.Image ('appy_s04_03_02.png')"
      ],
      "metadata": {
        "id": "fePRe77oNBH4"
      },
      "execution_count": null,
      "outputs": []
    },
    {
      "cell_type": "markdown",
      "source": [
        "## Plotting data points using specified marker types"
      ],
      "metadata": {
        "id": "1b3-zBbUNJt5"
      }
    },
    {
      "cell_type": "code",
      "source": [
        "# Run this cell to show the source code of the script.\n",
        "\n",
        "!cat appy_s04_03_03.py"
      ],
      "metadata": {
        "id": "Icgir1uvNO2D"
      },
      "execution_count": null,
      "outputs": []
    },
    {
      "cell_type": "code",
      "source": [
        "# Run this cell to execute the script.\n",
        "\n",
        "!python3.13 appy_s04_03_03.py -h"
      ],
      "metadata": {
        "id": "5oP6Lo9wNO2H"
      },
      "execution_count": null,
      "outputs": []
    },
    {
      "cell_type": "code",
      "source": [
        "# Run this cell to execute the script.\n",
        "\n",
        "!python3.13 appy_s04_03_03.py -o appy_s04_03_03.png -r 150"
      ],
      "metadata": {
        "id": "VxmnF1nHNO2J"
      },
      "execution_count": null,
      "outputs": []
    },
    {
      "cell_type": "code",
      "source": [
        "# Run this cell to display a PNG image.\n",
        "\n",
        "# importing IPython module\n",
        "import IPython.display\n",
        "\n",
        "# displaying image\n",
        "IPython.display.Image ('appy_s04_03_03.png')"
      ],
      "metadata": {
        "id": "SCk9vD3-NO2L"
      },
      "execution_count": null,
      "outputs": []
    },
    {
      "cell_type": "markdown",
      "source": [
        "## Plotting data points of specified marker sizes"
      ],
      "metadata": {
        "id": "p3wYli1BNbuj"
      }
    },
    {
      "cell_type": "code",
      "source": [
        "# Run this cell to show the source code of the script.\n",
        "\n",
        "!cat appy_s04_03_04.py"
      ],
      "metadata": {
        "id": "PFAQ5YyTNgbT"
      },
      "execution_count": null,
      "outputs": []
    },
    {
      "cell_type": "code",
      "source": [
        "# Run this cell to execute the script.\n",
        "\n",
        "!python3.13 appy_s04_03_04.py -h"
      ],
      "metadata": {
        "id": "UJBjWjP2NgbX"
      },
      "execution_count": null,
      "outputs": []
    },
    {
      "cell_type": "code",
      "source": [
        "# Run this cell to execute the script.\n",
        "\n",
        "!python3.13 appy_s04_03_04.py -o appy_s04_03_04.png -r 150"
      ],
      "metadata": {
        "id": "sEBUGLXfNgbY"
      },
      "execution_count": null,
      "outputs": []
    },
    {
      "cell_type": "code",
      "source": [
        "# Run this cell to display a PNG image.\n",
        "\n",
        "# importing IPython module\n",
        "import IPython.display\n",
        "\n",
        "# displaying image\n",
        "IPython.display.Image ('appy_s04_03_04.png')"
      ],
      "metadata": {
        "id": "zhMIY716NgbZ"
      },
      "execution_count": null,
      "outputs": []
    },
    {
      "cell_type": "markdown",
      "source": [
        "# Attaching error bars to data points"
      ],
      "metadata": {
        "id": "SK_QMnm6Oew6"
      }
    },
    {
      "cell_type": "markdown",
      "source": [
        "## Attaching error bars along vertical axis"
      ],
      "metadata": {
        "id": "--WkXtXzOiCp"
      }
    },
    {
      "cell_type": "code",
      "source": [
        "# Run this cell to show the source code of the script.\n",
        "\n",
        "!cat appy_s04_04_00.py"
      ],
      "metadata": {
        "id": "1P7jNX-OOnSB"
      },
      "execution_count": null,
      "outputs": []
    },
    {
      "cell_type": "code",
      "source": [
        "# Run this cell to execute the script.\n",
        "\n",
        "!python3.13 appy_s04_04_00.py -h"
      ],
      "metadata": {
        "id": "izgXgIIQOnSU"
      },
      "execution_count": null,
      "outputs": []
    },
    {
      "cell_type": "code",
      "source": [
        "# Run this cell to execute the script.\n",
        "\n",
        "!python3.13 appy_s04_04_00.py -o appy_s04_04_00.png -r 150"
      ],
      "metadata": {
        "id": "1mCo5DUROnSW"
      },
      "execution_count": null,
      "outputs": []
    },
    {
      "cell_type": "code",
      "source": [
        "# Run this cell to display a PNG image.\n",
        "\n",
        "# importing IPython module\n",
        "import IPython.display\n",
        "\n",
        "# displaying image\n",
        "IPython.display.Image ('appy_s04_04_00.png')"
      ],
      "metadata": {
        "id": "a_jWzfTcOnSY"
      },
      "execution_count": null,
      "outputs": []
    },
    {
      "cell_type": "markdown",
      "source": [
        "## Attaching error bars along vertical axis and horizontal axis"
      ],
      "metadata": {
        "id": "JEFRGYIROw4p"
      }
    },
    {
      "cell_type": "code",
      "source": [
        "# Run this cell to show the source code of the script.\n",
        "\n",
        "!cat appy_s04_04_01.py"
      ],
      "metadata": {
        "id": "1OZs_KDqO22Q"
      },
      "execution_count": null,
      "outputs": []
    },
    {
      "cell_type": "code",
      "source": [
        "# Run this cell to execute the script.\n",
        "\n",
        "!python3.13 appy_s04_04_01.py -h"
      ],
      "metadata": {
        "id": "Bl2wxKWUO22V"
      },
      "execution_count": null,
      "outputs": []
    },
    {
      "cell_type": "code",
      "source": [
        "# Run this cell to execute the script.\n",
        "\n",
        "!python3.13 appy_s04_04_01.py -o appy_s04_04_01.png -r 150"
      ],
      "metadata": {
        "id": "-eISbysRO22X"
      },
      "execution_count": null,
      "outputs": []
    },
    {
      "cell_type": "code",
      "source": [
        "# Run this cell to display a PNG image.\n",
        "\n",
        "# importing IPython module\n",
        "import IPython.display\n",
        "\n",
        "# displaying image\n",
        "IPython.display.Image ('appy_s04_04_01.png')"
      ],
      "metadata": {
        "id": "PW1jGFd4O22X"
      },
      "execution_count": null,
      "outputs": []
    },
    {
      "cell_type": "markdown",
      "source": [
        "# Using logarithmic scale for plots"
      ],
      "metadata": {
        "id": "8zCXpbEfO92-"
      }
    },
    {
      "cell_type": "markdown",
      "source": [
        "## Making a semi-log plot"
      ],
      "metadata": {
        "id": "f9zHUnlfPDLa"
      }
    },
    {
      "cell_type": "code",
      "source": [
        "# Run this cell to show the source code of the script.\n",
        "\n",
        "!cat appy_s04_05_00.py"
      ],
      "metadata": {
        "id": "wNUXwVoHPJNs"
      },
      "execution_count": null,
      "outputs": []
    },
    {
      "cell_type": "code",
      "source": [
        "# Run this cell to execute the script.\n",
        "\n",
        "!python3.13 appy_s04_05_00.py -h"
      ],
      "metadata": {
        "id": "2VjS8pc0PJNv"
      },
      "execution_count": null,
      "outputs": []
    },
    {
      "cell_type": "code",
      "source": [
        "# Run this cell to execute the script.\n",
        "\n",
        "!python3.13 appy_s04_05_00.py -o appy_s04_05_00.png -r 150"
      ],
      "metadata": {
        "id": "kmeyweU7PJNv"
      },
      "execution_count": null,
      "outputs": []
    },
    {
      "cell_type": "code",
      "source": [
        "# Run this cell to display a PNG image.\n",
        "\n",
        "# importing IPython module\n",
        "import IPython.display\n",
        "\n",
        "# displaying image\n",
        "IPython.display.Image ('appy_s04_05_00.png')"
      ],
      "metadata": {
        "id": "5DLHE_HwPJNw"
      },
      "execution_count": null,
      "outputs": []
    },
    {
      "cell_type": "code",
      "source": [
        "# Run this cell to show the source code of the script.\n",
        "\n",
        "!cat appy_s04_05_01.py"
      ],
      "metadata": {
        "id": "Bpyv5B5oPUwq"
      },
      "execution_count": null,
      "outputs": []
    },
    {
      "cell_type": "code",
      "source": [
        "# Run this cell to execute the script.\n",
        "\n",
        "!python3.13 appy_s04_05_01.py -h"
      ],
      "metadata": {
        "id": "7iMk_PRsPUww"
      },
      "execution_count": null,
      "outputs": []
    },
    {
      "cell_type": "code",
      "source": [
        "# Run this cell to execute the script.\n",
        "\n",
        "!python3.13 appy_s04_05_01.py -o appy_s04_05_01.png -r 150"
      ],
      "metadata": {
        "id": "Jqkj4opmPUwx"
      },
      "execution_count": null,
      "outputs": []
    },
    {
      "cell_type": "code",
      "source": [
        "# Run this cell to display a PNG image.\n",
        "\n",
        "# importing IPython module\n",
        "import IPython.display\n",
        "\n",
        "# displaying image\n",
        "IPython.display.Image ('appy_s04_05_01.png')"
      ],
      "metadata": {
        "id": "uB-zyYYGPUwy"
      },
      "execution_count": null,
      "outputs": []
    },
    {
      "cell_type": "markdown",
      "source": [
        "## Making a log-log plot"
      ],
      "metadata": {
        "id": "yOB8e1LkPbxf"
      }
    },
    {
      "cell_type": "code",
      "source": [
        "# Run this cell to show the source code of the script.\n",
        "\n",
        "!cat appy_s04_05_02.py"
      ],
      "metadata": {
        "id": "3jagquYtPfH0"
      },
      "execution_count": null,
      "outputs": []
    },
    {
      "cell_type": "code",
      "source": [
        "# Run this cell to execute the script.\n",
        "\n",
        "!python3.13 appy_s04_05_02.py -h"
      ],
      "metadata": {
        "id": "DeJWjto-PfH3"
      },
      "execution_count": null,
      "outputs": []
    },
    {
      "cell_type": "code",
      "source": [
        "# Run this cell to execute the script.\n",
        "\n",
        "!python3.13 appy_s04_05_02.py -o appy_s04_05_02.png -r 150"
      ],
      "metadata": {
        "id": "QGLnNjhrPfH7"
      },
      "execution_count": null,
      "outputs": []
    },
    {
      "cell_type": "code",
      "source": [
        "# Run this cell to display a PNG image.\n",
        "\n",
        "# importing IPython module\n",
        "import IPython.display\n",
        "\n",
        "# displaying image\n",
        "IPython.display.Image ('appy_s04_05_02.png')"
      ],
      "metadata": {
        "id": "qdTuT60JPfH8"
      },
      "execution_count": null,
      "outputs": []
    },
    {
      "cell_type": "markdown",
      "source": [
        "# Dealing with date/time"
      ],
      "metadata": {
        "id": "cs8p4A8DPo-y"
      }
    },
    {
      "cell_type": "markdown",
      "source": [
        "## Downloading data file"
      ],
      "metadata": {
        "id": "xpsRxBkdPrdE"
      }
    },
    {
      "cell_type": "code",
      "source": [
        "# Run this cell to show the source code of the script.\n",
        "\n",
        "!cat appy_s04_06_00.py"
      ],
      "metadata": {
        "id": "1vg7HDbwPxBh"
      },
      "execution_count": null,
      "outputs": []
    },
    {
      "cell_type": "code",
      "source": [
        "# Run this cell to execute the script.\n",
        "\n",
        "!python3.13 appy_s04_06_00.py -h"
      ],
      "metadata": {
        "id": "qUyYtr_GPxBn"
      },
      "execution_count": null,
      "outputs": []
    },
    {
      "cell_type": "code",
      "source": [
        "# Run this cell to execute the script.\n",
        "\n",
        "!python3.13 appy_s04_06_00.py -o alf_ori.data https://s3b.astro.ncu.edu.tw/appy_202502/data/alf_ori.data"
      ],
      "metadata": {
        "id": "q7Gf5zpfPxBo"
      },
      "execution_count": null,
      "outputs": []
    },
    {
      "cell_type": "code",
      "source": [
        "# Run this cell to find downloaded file.\n",
        "\n",
        "!ls -lF *.data"
      ],
      "metadata": {
        "id": "pdQx2Bb6IvwZ"
      },
      "execution_count": null,
      "outputs": []
    },
    {
      "cell_type": "code",
      "source": [
        "# Run this cell to show first 10 lines of the data file.\n",
        "\n",
        "!head -10 alf_ori.data"
      ],
      "metadata": {
        "id": "WPi7Ks3kQBbM"
      },
      "execution_count": null,
      "outputs": []
    },
    {
      "cell_type": "markdown",
      "source": [
        "## Reading a data file"
      ],
      "metadata": {
        "id": "x9CKhP5DQLgh"
      }
    },
    {
      "cell_type": "code",
      "source": [
        "# Run this cell to show the source code of the script.\n",
        "\n",
        "!cat appy_s04_06_01.py"
      ],
      "metadata": {
        "id": "lzZYvv-6QQMq"
      },
      "execution_count": null,
      "outputs": []
    },
    {
      "cell_type": "code",
      "source": [
        "# Run this cell to execute the script.\n",
        "\n",
        "!python3.13 appy_s04_06_01.py"
      ],
      "metadata": {
        "id": "zO8e-hB2QQMu"
      },
      "execution_count": null,
      "outputs": []
    },
    {
      "cell_type": "markdown",
      "source": [
        "## Making a lightcurve of Betelgeuse"
      ],
      "metadata": {
        "id": "HNymmbhnQVLA"
      }
    },
    {
      "cell_type": "code",
      "source": [
        "# Run this cell to show the source code of the script.\n",
        "\n",
        "!cat appy_s04_06_02.py"
      ],
      "metadata": {
        "id": "nb8SGENBQb7Z"
      },
      "execution_count": null,
      "outputs": []
    },
    {
      "cell_type": "code",
      "source": [
        "# Run this cell to execute the script.\n",
        "\n",
        "!python3.13 appy_s04_06_02.py -h"
      ],
      "metadata": {
        "id": "z-uRUVMrQb7o"
      },
      "execution_count": null,
      "outputs": []
    },
    {
      "cell_type": "code",
      "source": [
        "# Run this cell to execute the script.\n",
        "\n",
        "!python3.13 appy_s04_06_02.py -o appy_s04_06_02.png alf_ori.data -r 150"
      ],
      "metadata": {
        "id": "cLp9zGsdQb7q"
      },
      "execution_count": null,
      "outputs": []
    },
    {
      "cell_type": "code",
      "source": [
        "# Run this cell to display a PNG image.\n",
        "\n",
        "# importing IPython module\n",
        "import IPython.display\n",
        "\n",
        "# displaying image\n",
        "IPython.display.Image ('appy_s04_06_02.png')"
      ],
      "metadata": {
        "id": "ISEejphEQmnG"
      },
      "execution_count": null,
      "outputs": []
    },
    {
      "cell_type": "markdown",
      "source": [
        "## Changing ticks"
      ],
      "metadata": {
        "id": "g7K7Ihk2QrzR"
      }
    },
    {
      "cell_type": "code",
      "source": [
        "# Run this cell to show the source code of the script.\n",
        "\n",
        "!cat appy_s04_06_03.py"
      ],
      "metadata": {
        "id": "IKDvPXaiQvb3"
      },
      "execution_count": null,
      "outputs": []
    },
    {
      "cell_type": "code",
      "source": [
        "# Run this cell to execute the script.\n",
        "\n",
        "!python3.13 appy_s04_06_03.py -h"
      ],
      "metadata": {
        "id": "5hsxrRnTQvb8"
      },
      "execution_count": null,
      "outputs": []
    },
    {
      "cell_type": "code",
      "source": [
        "# Run this cell to execute the script.\n",
        "\n",
        "!python3.13 appy_s04_06_03.py -o appy_s04_06_03.png alf_ori.data -r 150"
      ],
      "metadata": {
        "id": "ArmFQrh6QvcA"
      },
      "execution_count": null,
      "outputs": []
    },
    {
      "cell_type": "code",
      "source": [
        "# Run this cell to display a PNG image.\n",
        "\n",
        "# importing IPython module\n",
        "import IPython.display\n",
        "\n",
        "# displaying image\n",
        "IPython.display.Image ('appy_s04_06_03.png')"
      ],
      "metadata": {
        "id": "LXXib-CeQvcF"
      },
      "execution_count": null,
      "outputs": []
    },
    {
      "cell_type": "markdown",
      "source": [
        "# Making histograms"
      ],
      "metadata": {
        "id": "FAgr6YkfQ8Yh"
      }
    },
    {
      "cell_type": "markdown",
      "source": [
        "## Generating a set of random numbers"
      ],
      "metadata": {
        "id": "kb7ymRiuQ-lk"
      }
    },
    {
      "cell_type": "code",
      "source": [
        "# Run this cell to show the source code of the script.\n",
        "\n",
        "!cat appy_s04_07_00.py"
      ],
      "metadata": {
        "id": "eUzwWw-8REAq"
      },
      "execution_count": null,
      "outputs": []
    },
    {
      "cell_type": "code",
      "source": [
        "# Run this cell to execute the script.\n",
        "\n",
        "!python3.13 appy_s04_07_00.py -h"
      ],
      "metadata": {
        "id": "GWMrgE68REAt"
      },
      "execution_count": null,
      "outputs": []
    },
    {
      "cell_type": "code",
      "source": [
        "# Run this cell to execute the script.\n",
        "\n",
        "!python3.13 appy_s04_07_00.py -o appy_s04_07_00.data -m 100 -s 10 -n 1000"
      ],
      "metadata": {
        "id": "x27j7vfxREAw"
      },
      "execution_count": null,
      "outputs": []
    },
    {
      "cell_type": "code",
      "source": [
        "# Run this cell to find newly created file.\n",
        "\n",
        "!ls -lF *.data"
      ],
      "metadata": {
        "id": "6xm-ZMNnQH6E"
      },
      "execution_count": null,
      "outputs": []
    },
    {
      "cell_type": "code",
      "source": [
        "# Run this cell to show first 20 lines of data file.\n",
        "\n",
        "!head -20 appy_s04_07_00.data"
      ],
      "metadata": {
        "id": "j-eRqx9PRPOx"
      },
      "execution_count": null,
      "outputs": []
    },
    {
      "cell_type": "markdown",
      "source": [
        "## Opening data file and reading data"
      ],
      "metadata": {
        "id": "lrVv_y2HRZUi"
      }
    },
    {
      "cell_type": "code",
      "source": [
        "# Run this cell to show the source code of the script.\n",
        "\n",
        "!cat appy_s04_07_01.py"
      ],
      "metadata": {
        "id": "LmBtkvTuRfCi"
      },
      "execution_count": null,
      "outputs": []
    },
    {
      "cell_type": "code",
      "source": [
        "# Run this cell to execute the script.\n",
        "\n",
        "!python3.13 appy_s04_07_01.py -h"
      ],
      "metadata": {
        "id": "QEKEbcX7RfCn"
      },
      "execution_count": null,
      "outputs": []
    },
    {
      "cell_type": "code",
      "source": [
        "# Run this cell to execute the script.\n",
        "\n",
        "!python3.13 appy_s04_07_01.py appy_s04_07_00.data"
      ],
      "metadata": {
        "id": "8IzxGiH6RfCq"
      },
      "execution_count": null,
      "outputs": []
    },
    {
      "cell_type": "code",
      "source": [
        "# Run this cell to execute the script.\n",
        "\n",
        "!python3.13 appy_s04_07_02.py -h"
      ],
      "metadata": {
        "id": "Gb7ZjF_Pg08-"
      },
      "execution_count": null,
      "outputs": []
    },
    {
      "cell_type": "code",
      "source": [
        "# Run this cell to execute the script.\n",
        "\n",
        "!python3.13 appy_s04_07_02.py appy_s04_07_00.data"
      ],
      "metadata": {
        "id": "Wt3drPZpg08_"
      },
      "execution_count": null,
      "outputs": []
    },
    {
      "cell_type": "code",
      "source": [
        "# Run this cell to execute the script.\n",
        "\n",
        "!python3.13 appy_s04_07_03.py -h"
      ],
      "metadata": {
        "id": "QxApIBzhg-Co"
      },
      "execution_count": null,
      "outputs": []
    },
    {
      "cell_type": "code",
      "source": [
        "# Run this cell to execute the script.\n",
        "\n",
        "!python3.13 appy_s04_07_03.py appy_s04_07_00.data"
      ],
      "metadata": {
        "id": "vRxd8uGmg-Cp"
      },
      "execution_count": null,
      "outputs": []
    },
    {
      "cell_type": "markdown",
      "source": [
        "## Making a histogram"
      ],
      "metadata": {
        "id": "-lXkZ-ujRl_5"
      }
    },
    {
      "cell_type": "code",
      "source": [
        "# Run this cell to show the source code of the script.\n",
        "\n",
        "!cat appy_s04_07_04.py"
      ],
      "metadata": {
        "id": "nrumu4A1Rsx1"
      },
      "execution_count": null,
      "outputs": []
    },
    {
      "cell_type": "code",
      "source": [
        "# Run this cell to execute the script.\n",
        "\n",
        "!python3.13 appy_s04_07_04.py -h"
      ],
      "metadata": {
        "id": "95uHINcPRsyG"
      },
      "execution_count": null,
      "outputs": []
    },
    {
      "cell_type": "code",
      "source": [
        "# Run this cell to execute the script.\n",
        "\n",
        "!python3.13 appy_s04_07_04.py -a 50 -b 150 -w 5 appy_s04_07_00.data"
      ],
      "metadata": {
        "id": "hCGH09RhRsyK"
      },
      "execution_count": null,
      "outputs": []
    },
    {
      "cell_type": "markdown",
      "source": [
        "## Making a histogram using .bar () method"
      ],
      "metadata": {
        "id": "BE-7ywexR01-"
      }
    },
    {
      "cell_type": "code",
      "source": [
        "# Run this cell to show the source code of the script.\n",
        "\n",
        "!cat appy_s04_07_05.py"
      ],
      "metadata": {
        "id": "vsP_47JZR6KE"
      },
      "execution_count": null,
      "outputs": []
    },
    {
      "cell_type": "code",
      "source": [
        "# Run this cell to execute the script.\n",
        "\n",
        "!python3.13 appy_s04_07_05.py -h"
      ],
      "metadata": {
        "id": "WbyvlCNJR6KP"
      },
      "execution_count": null,
      "outputs": []
    },
    {
      "cell_type": "code",
      "source": [
        "# Run this cell to execute the script.\n",
        "\n",
        "!python3.13 appy_s04_07_05.py -a 50 -b 150 -w 5 -o appy_s04_07_05.png -r 150 appy_s04_07_00.data"
      ],
      "metadata": {
        "id": "ptnQsCQ0R6KQ"
      },
      "execution_count": null,
      "outputs": []
    },
    {
      "cell_type": "code",
      "source": [
        "# Run this cell to display a PNG image.\n",
        "\n",
        "# importing IPython module\n",
        "import IPython.display\n",
        "\n",
        "# displaying image\n",
        "IPython.display.Image ('appy_s04_07_05.png')"
      ],
      "metadata": {
        "id": "g7WlN8N-SETy"
      },
      "execution_count": null,
      "outputs": []
    },
    {
      "cell_type": "markdown",
      "source": [
        "## Making a histogram using .hist () method"
      ],
      "metadata": {
        "id": "ZeSaUE2WSIfo"
      }
    },
    {
      "cell_type": "code",
      "source": [
        "# Run this cell to show the source code of the script.\n",
        "\n",
        "!cat appy_s04_07_06.py"
      ],
      "metadata": {
        "id": "OdzzvXlXSNR6"
      },
      "execution_count": null,
      "outputs": []
    },
    {
      "cell_type": "code",
      "source": [
        "# Run this cell to execute the script.\n",
        "\n",
        "!python3.13 appy_s04_07_06.py -h"
      ],
      "metadata": {
        "id": "QIiVG8GrSNSA"
      },
      "execution_count": null,
      "outputs": []
    },
    {
      "cell_type": "code",
      "source": [
        "# Run this cell to execute the script.\n",
        "\n",
        "!python3.13 appy_s04_07_06.py -a 50 -b 150 -w 5 -o appy_s04_07_06.png -r 150 appy_s04_07_00.data"
      ],
      "metadata": {
        "id": "N9_VZ7tuSNSB"
      },
      "execution_count": null,
      "outputs": []
    },
    {
      "cell_type": "code",
      "source": [
        "# Run this cell to display a PNG image.\n",
        "\n",
        "# importing IPython module\n",
        "import IPython.display\n",
        "\n",
        "# displaying image\n",
        "IPython.display.Image ('appy_s04_07_06.png')"
      ],
      "metadata": {
        "id": "hRWILgPpSNSC"
      },
      "execution_count": null,
      "outputs": []
    },
    {
      "cell_type": "markdown",
      "source": [
        "# Making a scatter plot"
      ],
      "metadata": {
        "id": "E2fbQWWMSaKQ"
      }
    },
    {
      "cell_type": "markdown",
      "source": [
        "## Downloading Yale Bright Star Catalogue"
      ],
      "metadata": {
        "id": "OwMDvIHZSdBD"
      }
    },
    {
      "cell_type": "code",
      "source": [
        "# Run this cell to show the source code of the script.\n",
        "\n",
        "!cat appy_s04_08_00.py"
      ],
      "metadata": {
        "id": "5NQzjSCkSib0"
      },
      "execution_count": null,
      "outputs": []
    },
    {
      "cell_type": "code",
      "source": [
        "# Run this cell to execute the script.\n",
        "\n",
        "!python3.13 appy_s04_08_00.py -h"
      ],
      "metadata": {
        "id": "8Pvq4i-LSib3"
      },
      "execution_count": null,
      "outputs": []
    },
    {
      "cell_type": "code",
      "source": [
        "# Run this cell to execute the script.\n",
        "\n",
        "!python3.13 appy_s04_08_00.py -b -v -o bsc5.gz https://cdsarc.cds.unistra.fr/ftp/V/50/catalog.gz"
      ],
      "metadata": {
        "id": "PohfCd1lSib5"
      },
      "execution_count": null,
      "outputs": []
    },
    {
      "cell_type": "code",
      "source": [
        "# Run this cell to find downloaded file.\n",
        "\n",
        "!ls -lF *.gz"
      ],
      "metadata": {
        "id": "eNz_uKXDRUfC"
      },
      "execution_count": null,
      "outputs": []
    },
    {
      "cell_type": "code",
      "source": [
        "# Run this cell to execute the script.\n",
        "\n",
        "!python3.13 appy_s04_08_00.py -o bsc5_readme.txt https://cdsarc.cds.unistra.fr/ftp/V/50/ReadMe"
      ],
      "metadata": {
        "id": "E46_PydkS0r8"
      },
      "execution_count": null,
      "outputs": []
    },
    {
      "cell_type": "code",
      "source": [
        "# Run this cell to find downloaded file.\n",
        "\n",
        "!ls -lF bsc5*"
      ],
      "metadata": {
        "id": "djYISKDES0r_"
      },
      "execution_count": null,
      "outputs": []
    },
    {
      "cell_type": "code",
      "source": [
        "# Run this cell to read the README file.\n",
        "\n",
        "!cat bsc5_readme.txt"
      ],
      "metadata": {
        "id": "61axQtMFStHm"
      },
      "execution_count": null,
      "outputs": []
    },
    {
      "cell_type": "markdown",
      "source": [
        "## Reading information from the catalogue file"
      ],
      "metadata": {
        "id": "KS5pOy6GTKvV"
      }
    },
    {
      "cell_type": "code",
      "source": [
        "# Run this cell to show the source code of the script.\n",
        "\n",
        "!cat appy_s04_08_01.py"
      ],
      "metadata": {
        "id": "ufenn3ljTR0U"
      },
      "execution_count": null,
      "outputs": []
    },
    {
      "cell_type": "code",
      "source": [
        "# Run this cell to execute the script.\n",
        "\n",
        "!python3.13 appy_s04_08_01.py -h"
      ],
      "metadata": {
        "id": "l8H45rg3TR0j"
      },
      "execution_count": null,
      "outputs": []
    },
    {
      "cell_type": "code",
      "source": [
        "# Run this cell to execute the script.\n",
        "\n",
        "!python3.13 appy_s04_08_01.py -m 1.5 bsc5.gz"
      ],
      "metadata": {
        "id": "4JBnaaQBTR0l"
      },
      "execution_count": null,
      "outputs": []
    },
    {
      "cell_type": "markdown",
      "source": [
        "## Making HR diagram of the brightest stars"
      ],
      "metadata": {
        "id": "qh94aDhFTaED"
      }
    },
    {
      "cell_type": "code",
      "source": [
        "# Run this cell to show the source code of the script.\n",
        "\n",
        "!cat appy_s04_08_02.py"
      ],
      "metadata": {
        "id": "DW7l5IvyTegn"
      },
      "execution_count": null,
      "outputs": []
    },
    {
      "cell_type": "code",
      "source": [
        "# Run this cell to execute the script.\n",
        "\n",
        "!python3.13 appy_s04_08_02.py -h"
      ],
      "metadata": {
        "id": "xKPfbhmeTehA"
      },
      "execution_count": null,
      "outputs": []
    },
    {
      "cell_type": "code",
      "source": [
        "# Run this cell to execute the script.\n",
        "\n",
        "!python3.13 appy_s04_08_02.py -m 1.5 -o appy_s04_08_02.png -r 150 bsc5.gz"
      ],
      "metadata": {
        "id": "kCYBV21xTehE"
      },
      "execution_count": null,
      "outputs": []
    },
    {
      "cell_type": "code",
      "source": [
        "# Run this cell to display a PNG image.\n",
        "\n",
        "# importing IPython module\n",
        "import IPython.display\n",
        "\n",
        "# displaying image\n",
        "IPython.display.Image ('appy_s04_08_02.png')"
      ],
      "metadata": {
        "id": "jyH5MzBjTpLL"
      },
      "execution_count": null,
      "outputs": []
    },
    {
      "cell_type": "code",
      "source": [
        "# Run this cell to execute the script.\n",
        "\n",
        "!python3.13 appy_s04_08_02.py -m 3.0 -o appy_s04_08_02b.png -r 150 bsc5.gz"
      ],
      "metadata": {
        "id": "v88JniQzTwhS"
      },
      "execution_count": null,
      "outputs": []
    },
    {
      "cell_type": "code",
      "source": [
        "# Run this cell to display a PNG image.\n",
        "\n",
        "# importing IPython module\n",
        "import IPython.display\n",
        "\n",
        "# displaying image\n",
        "IPython.display.Image ('appy_s04_08_02b.png')"
      ],
      "metadata": {
        "id": "xsNKU8FyTwhi"
      },
      "execution_count": null,
      "outputs": []
    },
    {
      "cell_type": "markdown",
      "source": [
        "## Changing marker size"
      ],
      "metadata": {
        "id": "Voxg1fL2T6ng"
      }
    },
    {
      "cell_type": "code",
      "source": [
        "# Run this cell to show the source code of the script.\n",
        "\n",
        "!cat appy_s04_08_03.py"
      ],
      "metadata": {
        "id": "JKWupblgUAVL"
      },
      "execution_count": null,
      "outputs": []
    },
    {
      "cell_type": "code",
      "source": [
        "# Run this cell to execute the script.\n",
        "\n",
        "!python3.13 appy_s04_08_03.py -h"
      ],
      "metadata": {
        "id": "_O5NwcoHUAVR"
      },
      "execution_count": null,
      "outputs": []
    },
    {
      "cell_type": "code",
      "source": [
        "# Run this cell to execute the script.\n",
        "\n",
        "!python3.13 appy_s04_08_03.py -m 1.5 -o appy_s04_08_03.png -r 150 bsc5.gz"
      ],
      "metadata": {
        "id": "-d-9vnzpUAVT"
      },
      "execution_count": null,
      "outputs": []
    },
    {
      "cell_type": "code",
      "source": [
        "# Run this cell to display a PNG image.\n",
        "\n",
        "# importing IPython module\n",
        "import IPython.display\n",
        "\n",
        "# displaying image\n",
        "IPython.display.Image ('appy_s04_08_03.png')"
      ],
      "metadata": {
        "id": "ME6JktdPUAVV"
      },
      "execution_count": null,
      "outputs": []
    },
    {
      "cell_type": "markdown",
      "source": [
        "## Making a scatter plot"
      ],
      "metadata": {
        "id": "EkFxzONjUMI7"
      }
    },
    {
      "cell_type": "code",
      "source": [
        "# Run this cell to show the source code of the script.\n",
        "\n",
        "!cat appy_s04_08_04.py"
      ],
      "metadata": {
        "id": "Pm4mhMcnUQUl"
      },
      "execution_count": null,
      "outputs": []
    },
    {
      "cell_type": "code",
      "source": [
        "# Run this cell to execute the script.\n",
        "\n",
        "!python3.13 appy_s04_08_04.py -h"
      ],
      "metadata": {
        "id": "qssN-V2RUQUn"
      },
      "execution_count": null,
      "outputs": []
    },
    {
      "cell_type": "code",
      "source": [
        "# Run this cell to execute the script.\n",
        "\n",
        "!python3.13 appy_s04_08_04.py -m 6.0 -o appy_s04_08_04.png -r 150 bsc5.gz"
      ],
      "metadata": {
        "id": "-8cwXuSUUQUo"
      },
      "execution_count": null,
      "outputs": []
    },
    {
      "cell_type": "code",
      "source": [
        "# Run this cell to display a PNG image.\n",
        "\n",
        "# importing IPython module\n",
        "import IPython.display\n",
        "\n",
        "# displaying image\n",
        "IPython.display.Image ('appy_s04_08_04.png')"
      ],
      "metadata": {
        "id": "zbrIc_V-UQUo"
      },
      "execution_count": null,
      "outputs": []
    },
    {
      "cell_type": "markdown",
      "source": [
        "# Making an animation"
      ],
      "metadata": {
        "id": "e_OCJkP_Uapt"
      }
    },
    {
      "cell_type": "markdown",
      "source": [
        "# A simple animation example"
      ],
      "metadata": {
        "id": "aV_CvhOCUkJ_"
      }
    },
    {
      "cell_type": "code",
      "source": [
        "# Run this cell to show the source code of the script.\n",
        "\n",
        "!cat appy_s04_09_00.py"
      ],
      "metadata": {
        "id": "CwMcDAmQUqNA"
      },
      "execution_count": null,
      "outputs": []
    },
    {
      "cell_type": "code",
      "source": [
        "# Run this cell to execute the script.\n",
        "\n",
        "!python3.13 appy_s04_09_00.py -h"
      ],
      "metadata": {
        "id": "e5-BAVeNUqNH"
      },
      "execution_count": null,
      "outputs": []
    },
    {
      "cell_type": "code",
      "source": [
        "# Run this cell to execute the script.\n",
        "\n",
        "!python3.13 appy_s04_09_00.py -o appy_s04_09_00.png -r 150"
      ],
      "metadata": {
        "id": "CGmDgxC-UqNI"
      },
      "execution_count": null,
      "outputs": []
    },
    {
      "cell_type": "code",
      "source": [
        "# Run this cell to display a PNG image.\n",
        "\n",
        "# importing IPython module\n",
        "import IPython.display\n",
        "\n",
        "# displaying image\n",
        "IPython.display.Image ('appy_s04_09_00.png')"
      ],
      "metadata": {
        "id": "Ajwtxl5IUzqs"
      },
      "execution_count": null,
      "outputs": []
    },
    {
      "cell_type": "code",
      "source": [
        "# Run this cell to show the source code of the script.\n",
        "\n",
        "!cat appy_s04_09_01.py"
      ],
      "metadata": {
        "id": "zOh_s6MDU8qB"
      },
      "execution_count": null,
      "outputs": []
    },
    {
      "cell_type": "code",
      "source": [
        "# Run this cell to execute the script.\n",
        "\n",
        "!python3.13 appy_s04_09_01.py -h"
      ],
      "metadata": {
        "id": "0hX78Er3U8qP"
      },
      "execution_count": null,
      "outputs": []
    },
    {
      "cell_type": "code",
      "source": [
        "# Run this cell to execute the script.\n",
        "\n",
        "!python3.13 appy_s04_09_01.py -a 7 -b 5 -o appy_s04_09_01.mp4 -r 150"
      ],
      "metadata": {
        "id": "S7WAL1XiU8qR"
      },
      "execution_count": null,
      "outputs": []
    },
    {
      "cell_type": "code",
      "source": [
        "# Run this cell to find newly created file.\n",
        "\n",
        "!ls -lF *.mp4"
      ],
      "metadata": {
        "id": "S6GcvmQuTG9c"
      },
      "execution_count": null,
      "outputs": []
    },
    {
      "cell_type": "code",
      "source": [
        "# Run this cell to download file to your local computer.\n",
        "\n",
        "# importing google.colab module\n",
        "import google.colab\n",
        "\n",
        "# downloading file\n",
        "google.colab.files.download ('appy_s04_09_01.mp4')"
      ],
      "metadata": {
        "id": "CKsmxv1YY9CJ"
      },
      "execution_count": null,
      "outputs": []
    },
    {
      "cell_type": "markdown",
      "source": [
        "## Visualisation of orbital motion of planets"
      ],
      "metadata": {
        "id": "XlbpBNSnZUaA"
      }
    },
    {
      "cell_type": "markdown",
      "source": [
        "### Downloading positions of planets"
      ],
      "metadata": {
        "id": "vwgEwb_zZXa4"
      }
    },
    {
      "cell_type": "code",
      "source": [
        "# Run this cell to show the source code of the script.\n",
        "\n",
        "!cat appy_s04_09_02.py"
      ],
      "metadata": {
        "id": "t6rAtffCZdBn"
      },
      "execution_count": null,
      "outputs": []
    },
    {
      "cell_type": "code",
      "source": [
        "# Run this cell to execute the script.\n",
        "\n",
        "!python3.13 appy_s04_09_02.py -h"
      ],
      "metadata": {
        "id": "yLTT3vzIZdBq"
      },
      "execution_count": null,
      "outputs": []
    },
    {
      "cell_type": "code",
      "source": [
        "# Run this cell to execute the script.\n",
        "\n",
        "!python3.13 appy_s04_09_02.py -t 2025-03-15T12:00:00"
      ],
      "metadata": {
        "id": "6y0m86zKZdBs"
      },
      "execution_count": null,
      "outputs": []
    },
    {
      "cell_type": "code",
      "source": [
        "# Run this cell to show the source code of the script.\n",
        "\n",
        "!cat appy_s04_09_03.py"
      ],
      "metadata": {
        "id": "L7uPvuQXZlFW"
      },
      "execution_count": null,
      "outputs": []
    },
    {
      "cell_type": "code",
      "source": [
        "# Run this cell to execute the script.\n",
        "\n",
        "!python3.13 appy_s04_09_03.py -h"
      ],
      "metadata": {
        "id": "SsjaZUfkZlFa"
      },
      "execution_count": null,
      "outputs": []
    },
    {
      "cell_type": "code",
      "source": [
        "# Run this cell to execute the script.\n",
        "\n",
        "!python3.13 appy_s04_09_03.py -t 2025-03-15T12:00:00"
      ],
      "metadata": {
        "id": "driJ4wJVZlFb"
      },
      "execution_count": null,
      "outputs": []
    },
    {
      "cell_type": "markdown",
      "source": [
        "### Plotting positions of planets"
      ],
      "metadata": {
        "id": "rmnYPdHuZu2w"
      }
    },
    {
      "cell_type": "code",
      "source": [
        "# Run this cell to show the source code of the script.\n",
        "\n",
        "!cat appy_s04_09_04.py"
      ],
      "metadata": {
        "id": "SKT8u9zhZzBh"
      },
      "execution_count": null,
      "outputs": []
    },
    {
      "cell_type": "code",
      "source": [
        "# Run this cell to execute the script.\n",
        "\n",
        "!python3.13 appy_s04_09_04.py -h"
      ],
      "metadata": {
        "id": "anx_bj31ZzBm"
      },
      "execution_count": null,
      "outputs": []
    },
    {
      "cell_type": "code",
      "source": [
        "# Run this cell to execute the script.\n",
        "\n",
        "!python3.13 appy_s04_09_04.py -t 2025-03-15T12:00:00 -o appy_s04_09_04.png -r 150"
      ],
      "metadata": {
        "id": "dIEW5rpmZzBq"
      },
      "execution_count": null,
      "outputs": []
    },
    {
      "cell_type": "code",
      "source": [
        "# Run this cell to display a PNG image.\n",
        "\n",
        "# importing IPython module\n",
        "import IPython.display\n",
        "\n",
        "# displaying image\n",
        "IPython.display.Image ('appy_s04_09_04.png')"
      ],
      "metadata": {
        "id": "arjaj-qzZ82p"
      },
      "execution_count": null,
      "outputs": []
    },
    {
      "cell_type": "markdown",
      "source": [
        "### Making an animation"
      ],
      "metadata": {
        "id": "YAgzhPNDaCUj"
      }
    },
    {
      "cell_type": "code",
      "source": [
        "# Run this cell to show the source code of the script.\n",
        "\n",
        "!cat appy_s04_09_05.py"
      ],
      "metadata": {
        "id": "mChTtbDWaIwz"
      },
      "execution_count": null,
      "outputs": []
    },
    {
      "cell_type": "code",
      "source": [
        "# Run this cell to execute the script.\n",
        "\n",
        "!python3.13 appy_s04_09_05.py -h"
      ],
      "metadata": {
        "id": "oEzVuESvaIw3"
      },
      "execution_count": null,
      "outputs": []
    },
    {
      "cell_type": "code",
      "source": [
        "# Run this cell to execute the script.\n",
        "\n",
        "!python3.13 appy_s04_09_05.py -t 2025-03-15T12:00:00 -s 8.0 -n 900 -o appy_s04_09_05.mp4"
      ],
      "metadata": {
        "id": "HFRBQVTYaIw6"
      },
      "execution_count": null,
      "outputs": []
    },
    {
      "cell_type": "code",
      "source": [
        "# Run this cell to download file to your local computer.\n",
        "\n",
        "# importing google.colab module\n",
        "import google.colab\n",
        "\n",
        "# downloading file\n",
        "google.colab.files.download ('appy_s04_09_05.mp4')"
      ],
      "metadata": {
        "id": "emCQ6TjBcG0G"
      },
      "execution_count": null,
      "outputs": []
    },
    {
      "cell_type": "markdown",
      "source": [
        "# Making 3-dimensional plots"
      ],
      "metadata": {
        "id": "LI_siylnccra"
      }
    },
    {
      "cell_type": "markdown",
      "source": [
        "## Making 3D scatter plot"
      ],
      "metadata": {
        "id": "JMhYrWRvcgCC"
      }
    },
    {
      "cell_type": "code",
      "source": [
        "# Run this cell to show the source code of the script.\n",
        "\n",
        "!cat appy_s04_10_00.py"
      ],
      "metadata": {
        "id": "6BTwojJUclJk"
      },
      "execution_count": null,
      "outputs": []
    },
    {
      "cell_type": "code",
      "source": [
        "# Run this cell to execute the script.\n",
        "\n",
        "!python3.13 appy_s04_10_00.py -h"
      ],
      "metadata": {
        "id": "3lZoYqfvclJp"
      },
      "execution_count": null,
      "outputs": []
    },
    {
      "cell_type": "code",
      "source": [
        "# Run this cell to execute the script.\n",
        "\n",
        "!python3.13 appy_s04_10_00.py -o appy_s04_10_00.png -r 150 -m 1000 -s 300 -n 10000"
      ],
      "metadata": {
        "id": "U_31bIV7clJq"
      },
      "execution_count": null,
      "outputs": []
    },
    {
      "cell_type": "code",
      "source": [
        "# Run this cell to display a PNG image.\n",
        "\n",
        "# importing IPython module\n",
        "import IPython.display\n",
        "\n",
        "# displaying image\n",
        "IPython.display.Image ('appy_s04_10_00.png')"
      ],
      "metadata": {
        "id": "daCG3DLIc0f-"
      },
      "execution_count": null,
      "outputs": []
    },
    {
      "cell_type": "markdown",
      "source": [
        "## Making 3D line plot"
      ],
      "metadata": {
        "id": "Wvxx1AiFc4BE"
      }
    },
    {
      "cell_type": "code",
      "source": [
        "# Run this cell to show the source code of the script.\n",
        "\n",
        "!cat appy_s04_10_01.py"
      ],
      "metadata": {
        "id": "ReItaO92c7Pc"
      },
      "execution_count": null,
      "outputs": []
    },
    {
      "cell_type": "code",
      "source": [
        "# Run this cell to execute the script.\n",
        "\n",
        "!python3.13 appy_s04_10_01.py -h"
      ],
      "metadata": {
        "id": "Btqwqvdvc7Pe"
      },
      "execution_count": null,
      "outputs": []
    },
    {
      "cell_type": "code",
      "source": [
        "# Run this cell to execute the script.\n",
        "\n",
        "!python3.13 appy_s04_10_01.py -o appy_s04_10_01.png -r 150"
      ],
      "metadata": {
        "id": "hxoX47Q7c7Pf"
      },
      "execution_count": null,
      "outputs": []
    },
    {
      "cell_type": "code",
      "source": [
        "# Run this cell to display a PNG image.\n",
        "\n",
        "# importing IPython module\n",
        "import IPython.display\n",
        "\n",
        "# displaying image\n",
        "IPython.display.Image ('appy_s04_10_01.png')"
      ],
      "metadata": {
        "id": "FZji5EVJc7Ph"
      },
      "execution_count": null,
      "outputs": []
    },
    {
      "cell_type": "markdown",
      "source": [
        "# 3D structure of inner solar system"
      ],
      "metadata": {
        "id": "PmEj0XqYdCrs"
      }
    },
    {
      "cell_type": "markdown",
      "source": [
        "## Making a movie of orbital motion of planets and 50 asteroids"
      ],
      "metadata": {
        "id": "q_BlXUzUdFbr"
      }
    },
    {
      "cell_type": "code",
      "source": [
        "# Run this cell to show the source code of the script.\n",
        "\n",
        "!cat appy_s04_11_00.py"
      ],
      "metadata": {
        "id": "ZqSAFDkddNsn"
      },
      "execution_count": null,
      "outputs": []
    },
    {
      "cell_type": "code",
      "source": [
        "# Run this cell to execute the script.\n",
        "\n",
        "!python3.13 appy_s04_11_00.py -h"
      ],
      "metadata": {
        "id": "Q8lwTzBJdNs0"
      },
      "execution_count": null,
      "outputs": []
    },
    {
      "cell_type": "code",
      "source": [
        "# Run this cell to execute the script.\n",
        "\n",
        "#\n",
        "# IMPORTANT: Execution of this cell may take 1-2 hours.\n",
        "#\n",
        "\n",
        "!python3.13 appy_s04_11_00.py -t 2025-03-15T12:00:00 -a 50 -n 600 -s 12"
      ],
      "metadata": {
        "id": "0Kkla-OVdNs2"
      },
      "execution_count": null,
      "outputs": []
    },
    {
      "cell_type": "code",
      "source": [
        "# Run this cell to find newly created files.\n",
        "\n",
        "!ls -lF solsys_3d1"
      ],
      "metadata": {
        "id": "LMTBQljzZMnv"
      },
      "execution_count": null,
      "outputs": []
    },
    {
      "cell_type": "code",
      "source": [
        "# Run this cell to display a PNG image.\n",
        "\n",
        "# importing IPython module\n",
        "import IPython.display\n",
        "\n",
        "# displaying image\n",
        "IPython.display.Image ('solsys_3d1/000000.png')"
      ],
      "metadata": {
        "id": "auhpTfTFdpvc"
      },
      "execution_count": null,
      "outputs": []
    },
    {
      "cell_type": "code",
      "source": [
        "# Run this cell to show the source code of the script.\n",
        "\n",
        "!cat appy_s04_11_01.py"
      ],
      "metadata": {
        "id": "bs5p5Fi0dcyx"
      },
      "execution_count": null,
      "outputs": []
    },
    {
      "cell_type": "code",
      "source": [
        "# Run this cell to execute the script.\n",
        "\n",
        "!python3.13 appy_s04_11_01.py"
      ],
      "metadata": {
        "id": "ZPtwV62rdczE"
      },
      "execution_count": null,
      "outputs": []
    },
    {
      "cell_type": "code",
      "source": [
        "# Run this cell to download file to your local computer.\n",
        "\n",
        "# importing google.colab module\n",
        "import google.colab\n",
        "\n",
        "# downloading file\n",
        "google.colab.files.download ('solsys_3d1.mp4')"
      ],
      "metadata": {
        "id": "_08fpHtDdy-Q"
      },
      "execution_count": null,
      "outputs": []
    },
    {
      "cell_type": "markdown",
      "source": [
        "## Changing camera viewing angle"
      ],
      "metadata": {
        "id": "oKrlVtYHeHH2"
      }
    },
    {
      "cell_type": "code",
      "source": [
        "# Run this cell to show the source code of the script.\n",
        "\n",
        "!cat appy_s04_11_02.py"
      ],
      "metadata": {
        "id": "wi-mahv9eHIE"
      },
      "execution_count": null,
      "outputs": []
    },
    {
      "cell_type": "code",
      "source": [
        "# Run this cell to execute the script.\n",
        "\n",
        "!python3.13 appy_s04_11_02.py -h"
      ],
      "metadata": {
        "id": "rsY5zWDAeHIH"
      },
      "execution_count": null,
      "outputs": []
    },
    {
      "cell_type": "code",
      "source": [
        "# Run this cell to execute the script.\n",
        "\n",
        "#\n",
        "# IMPORTANT: Execution of this cell may take 1-2 hours.\n",
        "#\n",
        "\n",
        "!python3.13 appy_s04_11_02.py -t 2025-03-15T12:00:00 -a 50 -n 600 -s 12"
      ],
      "metadata": {
        "id": "cNg_0tM-eHIK"
      },
      "execution_count": null,
      "outputs": []
    },
    {
      "cell_type": "code",
      "source": [
        "# Run this cell to find newly created files.\n",
        "\n",
        "!ls -lF solsys_3d2"
      ],
      "metadata": {
        "id": "akRSXuCOeHIM"
      },
      "execution_count": null,
      "outputs": []
    },
    {
      "cell_type": "code",
      "source": [
        "# Run this cell to display a PNG image.\n",
        "\n",
        "# importing IPython module\n",
        "import IPython.display\n",
        "\n",
        "# displaying image\n",
        "IPython.display.Image ('solsys_3d2/000000.png')"
      ],
      "metadata": {
        "id": "V7n71EXdeHIO"
      },
      "execution_count": null,
      "outputs": []
    },
    {
      "cell_type": "code",
      "source": [
        "# Run this cell to show the source code of the script.\n",
        "\n",
        "!cat appy_s04_11_03.py"
      ],
      "metadata": {
        "id": "FwtF1bOFeHIQ"
      },
      "execution_count": null,
      "outputs": []
    },
    {
      "cell_type": "code",
      "source": [
        "# Run this cell to execute the script.\n",
        "\n",
        "!python3.13 appy_s04_11_03.py"
      ],
      "metadata": {
        "id": "gQFAs-bheHIR"
      },
      "execution_count": null,
      "outputs": []
    },
    {
      "cell_type": "code",
      "source": [
        "# Run this cell to download file to your local computer.\n",
        "\n",
        "# importing google.colab module\n",
        "import google.colab\n",
        "\n",
        "# downloading file\n",
        "google.colab.files.download ('solsys_3d2.mp4')"
      ],
      "metadata": {
        "id": "MinaROGZeHIS"
      },
      "execution_count": null,
      "outputs": []
    },
    {
      "cell_type": "markdown",
      "source": [
        "## Making a movie of orbital motion of planets and 3000 asteroids"
      ],
      "metadata": {
        "id": "rLZ4spWqeU5D"
      }
    },
    {
      "cell_type": "code",
      "source": [
        "# Run this cell to show the source code of the script.\n",
        "\n",
        "!cat appy_s04_11_04.py"
      ],
      "metadata": {
        "id": "E6VBj627ea2P"
      },
      "execution_count": null,
      "outputs": []
    },
    {
      "cell_type": "code",
      "source": [
        "# Run this cell to execute the script.\n",
        "\n",
        "!python3.13 appy_s04_11_04.py -h"
      ],
      "metadata": {
        "id": "CXuLGVcnea2T"
      },
      "execution_count": null,
      "outputs": []
    },
    {
      "cell_type": "code",
      "source": [
        "# Run this cell to execute the script.\n",
        "\n",
        "#\n",
        "# IMPORTANT: Execution of this cell may take about one day or even more.\n",
        "#\n",
        "\n",
        "!python3.13 appy_s04_11_04.py -t 2025-03-15T12:00:00 -a 3000 -n 3000 -s 12"
      ],
      "metadata": {
        "id": "WJNDqUPnea2T"
      },
      "execution_count": null,
      "outputs": []
    },
    {
      "cell_type": "code",
      "source": [
        "# Run this cell to find newly created files.\n",
        "\n",
        "!ls -lF solsys_3d3"
      ],
      "metadata": {
        "id": "MzgfUwolea2U"
      },
      "execution_count": null,
      "outputs": []
    },
    {
      "cell_type": "code",
      "source": [
        "# Run this cell to display a PNG image.\n",
        "\n",
        "# importing IPython module\n",
        "import IPython.display\n",
        "\n",
        "# displaying image\n",
        "IPython.display.Image ('solsys_3d3/000000.png')"
      ],
      "metadata": {
        "id": "ueK5A0Avea2V"
      },
      "execution_count": null,
      "outputs": []
    },
    {
      "cell_type": "code",
      "source": [
        "# Run this cell to show the source code of the script.\n",
        "\n",
        "!cat appy_s04_11_05.py"
      ],
      "metadata": {
        "id": "aozzMut7ea2W"
      },
      "execution_count": null,
      "outputs": []
    },
    {
      "cell_type": "code",
      "source": [
        "# Run this cell to execute the script.\n",
        "\n",
        "!python3.13 appy_s04_11_05.py"
      ],
      "metadata": {
        "id": "0rWNaih3ea2X"
      },
      "execution_count": null,
      "outputs": []
    },
    {
      "cell_type": "code",
      "source": [
        "# Run this cell to download file to your local computer.\n",
        "\n",
        "# importing google.colab module\n",
        "import google.colab\n",
        "\n",
        "# downloading file\n",
        "google.colab.files.download ('solsys_3d3.mp4')"
      ],
      "metadata": {
        "id": "40OkF6fiea2X"
      },
      "execution_count": null,
      "outputs": []
    },
    {
      "cell_type": "markdown",
      "source": [
        "# Making polar plots"
      ],
      "metadata": {
        "id": "1dlvs-stmXdA"
      }
    },
    {
      "cell_type": "markdown",
      "source": [
        "## Simple polar plot"
      ],
      "metadata": {
        "id": "C7AtCbIemgrl"
      }
    },
    {
      "cell_type": "code",
      "source": [
        "# Run this cell to show the source code of the script.\n",
        "\n",
        "!cat appy_s04_12_00.py"
      ],
      "metadata": {
        "id": "6ze8NoeLmnrq"
      },
      "execution_count": null,
      "outputs": []
    },
    {
      "cell_type": "code",
      "source": [
        "# Run this cell to execute the script.\n",
        "\n",
        "!python3.13 appy_s04_12_00.py -h"
      ],
      "metadata": {
        "id": "oEQnQX8Rmnrq"
      },
      "execution_count": null,
      "outputs": []
    },
    {
      "cell_type": "code",
      "source": [
        "# Run this cell to execute the script.\n",
        "\n",
        "!python3.13 appy_s04_12_00.py -o appy_s04_12_00.png 1 2 3"
      ],
      "metadata": {
        "id": "AlygQsgkmnrt"
      },
      "execution_count": null,
      "outputs": []
    },
    {
      "cell_type": "code",
      "source": [
        "# Run this cell to display a PNG image.\n",
        "\n",
        "# importing IPython module\n",
        "import IPython.display\n",
        "\n",
        "# displaying image\n",
        "IPython.display.Image ('appy_s04_12_00.png')"
      ],
      "metadata": {
        "id": "oOTndeO0m2tw"
      },
      "execution_count": null,
      "outputs": []
    },
    {
      "cell_type": "markdown",
      "source": [
        "## Plotting the position of the Moon"
      ],
      "metadata": {
        "id": "hZDzQPDRm9_i"
      }
    },
    {
      "cell_type": "code",
      "source": [
        "# Run this cell to show the source code of the script.\n",
        "\n",
        "!cat appy_s04_12_01.py"
      ],
      "metadata": {
        "id": "IEZ3sizCnC7w"
      },
      "execution_count": null,
      "outputs": []
    },
    {
      "cell_type": "code",
      "source": [
        "# Run this cell to execute the script.\n",
        "\n",
        "!python3.13 appy_s04_12_01.py -h"
      ],
      "metadata": {
        "id": "vH2WhkmunC7x"
      },
      "execution_count": null,
      "outputs": []
    },
    {
      "cell_type": "code",
      "source": [
        "# Run this cell to execute the script.\n",
        "\n",
        "!python3.13 appy_s04_12_01.py -o appy_s04_12_01.png -t 2025-03-15T12:00:00"
      ],
      "metadata": {
        "id": "YsF4OHpYnC7y"
      },
      "execution_count": null,
      "outputs": []
    },
    {
      "cell_type": "code",
      "source": [
        "# Run this cell to display a PNG image.\n",
        "\n",
        "# importing IPython module\n",
        "import IPython.display\n",
        "\n",
        "# displaying image\n",
        "IPython.display.Image ('appy_s04_12_01.png')"
      ],
      "metadata": {
        "id": "dD-IOyTSnC7z"
      },
      "execution_count": null,
      "outputs": []
    },
    {
      "cell_type": "markdown",
      "source": [
        "## Plotting the position of the Sun, the Moon, and planets"
      ],
      "metadata": {
        "id": "fCFNwCGqnjGq"
      }
    },
    {
      "cell_type": "code",
      "source": [
        "# Run this cell to show the source code of the script.\n",
        "\n",
        "!cat appy_s04_12_02.py"
      ],
      "metadata": {
        "id": "0hSpsh5NnjGr"
      },
      "execution_count": null,
      "outputs": []
    },
    {
      "cell_type": "code",
      "source": [
        "# Run this cell to execute the script.\n",
        "\n",
        "!python3.13 appy_s04_12_02.py -h"
      ],
      "metadata": {
        "id": "VC3arBURnjGs"
      },
      "execution_count": null,
      "outputs": []
    },
    {
      "cell_type": "code",
      "source": [
        "# Run this cell to execute the script.\n",
        "\n",
        "!python3.13 appy_s04_12_02.py -o appy_s04_12_02.png -t 2025-03-15T12:00:00"
      ],
      "metadata": {
        "id": "Xf8OzHL7njGt"
      },
      "execution_count": null,
      "outputs": []
    },
    {
      "cell_type": "code",
      "source": [
        "# Run this cell to display a PNG image.\n",
        "\n",
        "# importing IPython module\n",
        "import IPython.display\n",
        "\n",
        "# displaying image\n",
        "IPython.display.Image ('appy_s04_12_02.png')"
      ],
      "metadata": {
        "id": "IIgg_lj1njGu"
      },
      "execution_count": null,
      "outputs": []
    },
    {
      "cell_type": "markdown",
      "source": [
        "## Plotting the position of the Sun, the Moon, planets, and stars"
      ],
      "metadata": {
        "id": "cRR4ipvYn3my"
      }
    },
    {
      "cell_type": "code",
      "source": [
        "# Run this cell to show the source code of the script.\n",
        "\n",
        "!cat appy_s04_12_03.py"
      ],
      "metadata": {
        "id": "oWv_OjoHn3mz"
      },
      "execution_count": null,
      "outputs": []
    },
    {
      "cell_type": "code",
      "source": [
        "# Run this cell to execute the script.\n",
        "\n",
        "!python3.13 appy_s04_12_03.py -h"
      ],
      "metadata": {
        "id": "93mZ39r5n3m0"
      },
      "execution_count": null,
      "outputs": []
    },
    {
      "cell_type": "code",
      "source": [
        "# Run this cell to execute the script.\n",
        "\n",
        "!python3.13 appy_s04_12_03.py -o appy_s04_12_03.png -t 2025-03-15T12:00:00"
      ],
      "metadata": {
        "id": "ofp_smXBn3m4"
      },
      "execution_count": null,
      "outputs": []
    },
    {
      "cell_type": "code",
      "source": [
        "# Run this cell to display a PNG image.\n",
        "\n",
        "# importing IPython module\n",
        "import IPython.display\n",
        "\n",
        "# displaying image\n",
        "IPython.display.Image ('appy_s04_12_03.png')"
      ],
      "metadata": {
        "id": "MgwWOfV0n3m5"
      },
      "execution_count": null,
      "outputs": []
    },
    {
      "cell_type": "markdown",
      "source": [
        "# Filling an area"
      ],
      "metadata": {
        "id": "cL7y8rOHqp8I"
      }
    },
    {
      "cell_type": "markdown",
      "source": [
        "## Downloading data"
      ],
      "metadata": {
        "id": "P3kdR3n8qww4"
      }
    },
    {
      "cell_type": "code",
      "source": [
        "# Run this cell to download data file.\n",
        "\n",
        "!python3.13 appy_s04_08_00.py -v -o tokyo_temp.data https://s3b.astro.ncu.edu.tw/appy_202502/data/tokyo_temp.data"
      ],
      "metadata": {
        "id": "0Ptlguuhq3DC"
      },
      "execution_count": null,
      "outputs": []
    },
    {
      "cell_type": "code",
      "source": [
        "# Run this cell to find downloaded file.\n",
        "\n",
        "!ls -lF *.data"
      ],
      "metadata": {
        "id": "kLBFqA59rBk3"
      },
      "execution_count": null,
      "outputs": []
    },
    {
      "cell_type": "code",
      "source": [
        "# Run this cell to show the content of the data file.\n",
        "\n",
        "!head -20 tokyo_temp.data"
      ],
      "metadata": {
        "id": "B7Z8N0G0rHre"
      },
      "execution_count": null,
      "outputs": []
    },
    {
      "cell_type": "markdown",
      "source": [
        "## Visualising temperature data"
      ],
      "metadata": {
        "id": "Wvk6OvcxrQfc"
      }
    },
    {
      "cell_type": "code",
      "source": [
        "# Run this cell to show the source code of the script.\n",
        "\n",
        "!cat appy_s04_13_00.py"
      ],
      "metadata": {
        "id": "6eiy2nJRrXuR"
      },
      "execution_count": null,
      "outputs": []
    },
    {
      "cell_type": "code",
      "source": [
        "# Run this cell to execute the script.\n",
        "\n",
        "!python3.13 appy_s04_13_00.py -h"
      ],
      "metadata": {
        "id": "9XpJ47sarXuT"
      },
      "execution_count": null,
      "outputs": []
    },
    {
      "cell_type": "code",
      "source": [
        "# Run this cell to execute the script.\n",
        "\n",
        "!python3.13 appy_s04_13_00.py -o appy_s04_13_00.png -r 150 -i tokyo_temp.data"
      ],
      "metadata": {
        "id": "TrfpDMKZsAw2"
      },
      "execution_count": null,
      "outputs": []
    },
    {
      "cell_type": "code",
      "source": [
        "# Run this cell to display a PNG image.\n",
        "\n",
        "# importing IPython module\n",
        "import IPython.display\n",
        "\n",
        "# displaying image\n",
        "IPython.display.Image ('appy_s04_13_00.png')"
      ],
      "metadata": {
        "id": "O9Z4uA-Wrh2R"
      },
      "execution_count": null,
      "outputs": []
    },
    {
      "cell_type": "markdown",
      "source": [
        "# Making a pie chart"
      ],
      "metadata": {
        "id": "aFKadgj_rm6w"
      }
    },
    {
      "cell_type": "markdown",
      "source": [
        "## Making a simple pie chart"
      ],
      "metadata": {
        "id": "08IXH7xOrohO"
      }
    },
    {
      "cell_type": "code",
      "source": [
        "# Run this cell to download data file.\n",
        "\n",
        "!python3.13 appy_s04_08_00.py -v -o elements.data https://s3b.astro.ncu.edu.tw/appy_202502/data/elements.data"
      ],
      "metadata": {
        "id": "YGH01Hqprrdo"
      },
      "execution_count": null,
      "outputs": []
    },
    {
      "cell_type": "code",
      "source": [
        "# Run this cell to find downloaded file.\n",
        "\n",
        "!ls -lF *.data"
      ],
      "metadata": {
        "id": "T9ei64CErz7G"
      },
      "execution_count": null,
      "outputs": []
    },
    {
      "cell_type": "code",
      "source": [
        "# Run this cell to show the content of the data file.\n",
        "\n",
        "!cat elements.data"
      ],
      "metadata": {
        "id": "kkuSYXjIr4P8"
      },
      "execution_count": null,
      "outputs": []
    },
    {
      "cell_type": "code",
      "source": [
        "# Run this cell to show the source code of the script.\n",
        "\n",
        "!cat appy_s04_14_00.py"
      ],
      "metadata": {
        "id": "_j9vKenZsFQ5"
      },
      "execution_count": null,
      "outputs": []
    },
    {
      "cell_type": "code",
      "source": [
        "# Run this cell to execute the script.\n",
        "\n",
        "!python3.13 appy_s04_14_00.py -h"
      ],
      "metadata": {
        "id": "SnisGq9jsFQ7"
      },
      "execution_count": null,
      "outputs": []
    },
    {
      "cell_type": "code",
      "source": [
        "# Run this cell to execute the script.\n",
        "\n",
        "!python3.13 appy_s04_14_00.py -o appy_s04_14_00.png -r 150 -i elements.data"
      ],
      "metadata": {
        "id": "doHv3_fMsFQ9"
      },
      "execution_count": null,
      "outputs": []
    },
    {
      "cell_type": "code",
      "source": [
        "# Run this cell to display a PNG image.\n",
        "\n",
        "# importing IPython module\n",
        "import IPython.display\n",
        "\n",
        "# displaying image\n",
        "IPython.display.Image ('appy_s04_14_00.png')"
      ],
      "metadata": {
        "id": "IVY6P84EsFQ-"
      },
      "execution_count": null,
      "outputs": []
    },
    {
      "cell_type": "markdown",
      "source": [
        "## Making one more pie chart"
      ],
      "metadata": {
        "id": "fXKlxi4zsQ6y"
      }
    },
    {
      "cell_type": "code",
      "source": [
        "# Run this cell to download data file.\n",
        "\n",
        "!python3.13 appy_s04_08_00.py -o energydensity.data https://s3b.astro.ncu.edu.tw/appy_202502/data/energydensity.data"
      ],
      "metadata": {
        "id": "P8Yzmq3GsWr8"
      },
      "execution_count": null,
      "outputs": []
    },
    {
      "cell_type": "code",
      "source": [
        "# Run this cell to find downloaded file.\n",
        "\n",
        "!ls -lF *.data"
      ],
      "metadata": {
        "id": "XqIfzNassWr-"
      },
      "execution_count": null,
      "outputs": []
    },
    {
      "cell_type": "code",
      "source": [
        "# Run this cell to show the content of the data file.\n",
        "\n",
        "!cat energydensity.data"
      ],
      "metadata": {
        "id": "StGP3D9asWsA"
      },
      "execution_count": null,
      "outputs": []
    },
    {
      "cell_type": "code",
      "source": [
        "# Run this cell to show the source code of the script.\n",
        "\n",
        "!cat appy_s04_14_01.py"
      ],
      "metadata": {
        "id": "0RNEguh5sWsC"
      },
      "execution_count": null,
      "outputs": []
    },
    {
      "cell_type": "code",
      "source": [
        "# Run this cell to execute the script.\n",
        "\n",
        "!python3.13 appy_s04_14_01.py -h"
      ],
      "metadata": {
        "id": "tEwapjwQsWsE"
      },
      "execution_count": null,
      "outputs": []
    },
    {
      "cell_type": "code",
      "source": [
        "# Run this cell to execute the script.\n",
        "\n",
        "!python3.13 appy_s04_14_01.py -o appy_s04_14_01.png -r 150 -i energydensity.data"
      ],
      "metadata": {
        "id": "WKEOLrnXsWsF"
      },
      "execution_count": null,
      "outputs": []
    },
    {
      "cell_type": "code",
      "source": [
        "# Run this cell to display a PNG image.\n",
        "\n",
        "# importing IPython module\n",
        "import IPython.display\n",
        "\n",
        "# displaying image\n",
        "IPython.display.Image ('appy_s04_14_01.png')"
      ],
      "metadata": {
        "id": "sHSuecZQsWsF"
      },
      "execution_count": null,
      "outputs": []
    },
    {
      "cell_type": "markdown",
      "source": [
        "# Making a contour map"
      ],
      "metadata": {
        "id": "9GcrvrVYsrA1"
      }
    },
    {
      "cell_type": "markdown",
      "source": [
        "## Downloading a FITS image"
      ],
      "metadata": {
        "id": "fsnjWfUystf4"
      }
    },
    {
      "cell_type": "code",
      "source": [
        "# Run this cell to download data file.\n",
        "\n",
        "!python3.13 appy_s04_08_00.py -b -o hltau_alma.fits http://jvo.nao.ac.jp/skynode/do/download/alma/public/cube_primary/ALMA01424653_00_00_00"
      ],
      "metadata": {
        "id": "OKgsRnP4sz5K"
      },
      "execution_count": null,
      "outputs": []
    },
    {
      "cell_type": "code",
      "source": [
        "# Run this cell to find downloaded file.\n",
        "\n",
        "!ls -lF *.fits"
      ],
      "metadata": {
        "id": "93KpWhm1s8Dx"
      },
      "execution_count": null,
      "outputs": []
    },
    {
      "cell_type": "code",
      "source": [
        "# Run this cell to check file type of downloaded file.\n",
        "\n",
        "!file hltau_alma.fits"
      ],
      "metadata": {
        "id": "xjek1F7hs_fL"
      },
      "execution_count": null,
      "outputs": []
    },
    {
      "cell_type": "markdown",
      "source": [
        "## Reading a FITS file"
      ],
      "metadata": {
        "id": "iZCGkYrctUMb"
      }
    },
    {
      "cell_type": "code",
      "source": [
        "# Run this cell to show the source code of the script.\n",
        "\n",
        "!cat appy_s04_15_00.py"
      ],
      "metadata": {
        "id": "N2eldsaZtPsK"
      },
      "execution_count": null,
      "outputs": []
    },
    {
      "cell_type": "code",
      "source": [
        "# Run this cell to execute the script.\n",
        "\n",
        "!python3.13 appy_s04_15_00.py"
      ],
      "metadata": {
        "id": "q52tRdN4tPsL"
      },
      "execution_count": null,
      "outputs": []
    },
    {
      "cell_type": "code",
      "source": [
        "# Run this cell to show the source code of the script.\n",
        "\n",
        "!cat appy_s04_15_01.py"
      ],
      "metadata": {
        "id": "ntGoqAMftYp-"
      },
      "execution_count": null,
      "outputs": []
    },
    {
      "cell_type": "code",
      "source": [
        "# Run this cell to execute the script.\n",
        "\n",
        "!python3.13 appy_s04_15_01.py"
      ],
      "metadata": {
        "id": "sz5OXlHCtYqH"
      },
      "execution_count": null,
      "outputs": []
    },
    {
      "cell_type": "markdown",
      "source": [
        "## Making a contour map"
      ],
      "metadata": {
        "id": "QzjIilMZtcWY"
      }
    },
    {
      "cell_type": "code",
      "source": [
        "# Run this cell to show the source code of the script.\n",
        "\n",
        "!cat appy_s04_15_02.py"
      ],
      "metadata": {
        "id": "F9EkTuFktgR3"
      },
      "execution_count": null,
      "outputs": []
    },
    {
      "cell_type": "code",
      "source": [
        "# Run this cell to execute the script.\n",
        "\n",
        "!python3.13 appy_s04_15_02.py"
      ],
      "metadata": {
        "id": "KfO-9iDetgR4"
      },
      "execution_count": null,
      "outputs": []
    },
    {
      "cell_type": "code",
      "source": [
        "# Run this cell to display a PNG image.\n",
        "\n",
        "# importing IPython module\n",
        "import IPython.display\n",
        "\n",
        "# displaying image\n",
        "IPython.display.Image ('appy_s04_15_02.png')"
      ],
      "metadata": {
        "id": "m3cqeOVMtmC8"
      },
      "execution_count": null,
      "outputs": []
    },
    {
      "cell_type": "code",
      "source": [
        "# Run this cell to show the source code of the script.\n",
        "\n",
        "!cat appy_s04_15_03.py"
      ],
      "metadata": {
        "id": "wsewbxM1tq7m"
      },
      "execution_count": null,
      "outputs": []
    },
    {
      "cell_type": "code",
      "source": [
        "# Run this cell to execute the script.\n",
        "\n",
        "!python3.13 appy_s04_15_03.py"
      ],
      "metadata": {
        "id": "d4QtJaditq7n"
      },
      "execution_count": null,
      "outputs": []
    },
    {
      "cell_type": "code",
      "source": [
        "# Run this cell to display a PNG image.\n",
        "\n",
        "# importing IPython module\n",
        "import IPython.display\n",
        "\n",
        "# displaying image\n",
        "IPython.display.Image ('appy_s04_15_03.png')"
      ],
      "metadata": {
        "id": "Buh_aKCWtq7p"
      },
      "execution_count": null,
      "outputs": []
    },
    {
      "cell_type": "code",
      "source": [
        "# Run this cell to show the source code of the script.\n",
        "\n",
        "!cat appy_s04_15_04.py"
      ],
      "metadata": {
        "id": "v4uyGCExtyQl"
      },
      "execution_count": null,
      "outputs": []
    },
    {
      "cell_type": "code",
      "source": [
        "# Run this cell to execute the script.\n",
        "\n",
        "!python3.13 appy_s04_15_04.py"
      ],
      "metadata": {
        "id": "UtsOSif8tyQo"
      },
      "execution_count": null,
      "outputs": []
    },
    {
      "cell_type": "code",
      "source": [
        "# Run this cell to display a PNG image.\n",
        "\n",
        "# importing IPython module\n",
        "import IPython.display\n",
        "\n",
        "# displaying image\n",
        "IPython.display.Image ('appy_s04_15_04.png')"
      ],
      "metadata": {
        "id": "nS6BVMZbtyQq"
      },
      "execution_count": null,
      "outputs": []
    },
    {
      "cell_type": "markdown",
      "source": [
        "## Making a filled contour map"
      ],
      "metadata": {
        "id": "GevfPm9cuPLu"
      }
    },
    {
      "cell_type": "code",
      "source": [
        "# Run this cell to show the source code of the script.\n",
        "\n",
        "!cat appy_s04_15_05.py"
      ],
      "metadata": {
        "id": "t7-jItw-uZLy"
      },
      "execution_count": null,
      "outputs": []
    },
    {
      "cell_type": "code",
      "source": [
        "# Run this cell to execute the script.\n",
        "\n",
        "!python3.13 appy_s04_15_05.py"
      ],
      "metadata": {
        "id": "wVFSrFvWuZL0"
      },
      "execution_count": null,
      "outputs": []
    },
    {
      "cell_type": "code",
      "source": [
        "# Run this cell to display a PNG image.\n",
        "\n",
        "# importing IPython module\n",
        "import IPython.display\n",
        "\n",
        "# displaying image\n",
        "IPython.display.Image ('appy_s04_15_05.png')"
      ],
      "metadata": {
        "id": "p1IjpfgiuZL1"
      },
      "execution_count": null,
      "outputs": []
    },
    {
      "cell_type": "markdown",
      "source": [
        "# End of this notebook"
      ],
      "metadata": {
        "id": "NzjseP2belrp"
      }
    }
  ]
}